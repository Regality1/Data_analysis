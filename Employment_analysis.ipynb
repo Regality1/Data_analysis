{
 "cells": [
  {
   "cell_type": "markdown",
   "metadata": {},
   "source": [
    "<h1 align=\"center\"> Python for Data Analysis</h1>"
   ]
  },
  {
   "cell_type": "markdown",
   "metadata": {},
   "source": [
    "<h6 align=\"left\">\n",
    "This project is carried out on employment data from the year 2009 to 2018 from Stats Wales to determine the change in each industry. The following are the steps taken with detailed explanations:\n",
    "1.\tData processing\n",
    "2.\tData analysis\n",
    "2a.\tHighest and lowest workers employed over the period by industry\n",
    "2b.\tHighest and lowest overall growth over the period by industry\n",
    "2c.\tNumber of employments by year\n",
    "3.\tVisual analysis\n",
    "4.\tPCA / Correlation\n",
    "4a.\tPCA analysis\n",
    "4b.\tYear-wise correlation for each Industry\n",
    "5.\tClustering (K means & hierarchical)\n",
    "5a.\tK-means Clustering Analysis\n",
    "5b.\tHierarchical Cluster\n",
    "6.\tDiscussion\n",
    "</h6>"
   ]
  },
  {
   "cell_type": "markdown",
   "metadata": {},
   "source": [
    "<h3 align=\"center\">___________________________________________________________________________________________</h3>\n",
    "<h3>Import all reqired libraries</h3>"
   ]
  },
  {
   "cell_type": "code",
   "execution_count": 28,
   "metadata": {},
   "outputs": [],
   "source": [
    "import pandas as pd\n",
    "import matplotlib.pyplot as plt\n",
    "import numpy as np\n",
    "import seaborn as sns\n",
    "from scipy.cluster import hierarchy\n",
    "\n",
    "import plotly.graph_objs as go\n",
    "import plotly.express as px\n",
    "from plotly.offline import iplot\n",
    "from plotly.subplots import make_subplots\n",
    "\n",
    "from sklearn.cluster import KMeans  \n",
    "from sklearn import preprocessing\n",
    "from sklearn.decomposition import PCA\n",
    "from sklearn.preprocessing import StandardScaler\n",
    "\n",
    "%matplotlib inline"
   ]
  },
  {
   "cell_type": "markdown",
   "metadata": {},
   "source": [
    "<h3>1. Data processing </h3>"
   ]
  },
  {
   "cell_type": "markdown",
   "metadata": {},
   "source": [
    "<h4>Prerequisites files</h4>\n",
    "           below files are expected to run the 'save_merged_dataframe' method in this script\n",
    "\n",
    "1. 2009_export.csv\n",
    "2. 2010_export.csv\n",
    "3. 2011_export.csv\n",
    "4. 2012_export.csv\n",
    "5. 2013_export.csv\n",
    "6. 2014_export.csv\n",
    "7. 2015_export.csv\n",
    "8. 2016_export.csv\n",
    "9. 2017_export.csv\n",
    "10. 2018_export.csv\n",
    "\n",
    "<h4>Note: If the above files are not available, remain steps of the script can be run from the section 1.3 with the csv file of FINAL DATAFRAME format as mentioned in the question</h4>"
   ]
  },
  {
   "cell_type": "markdown",
   "metadata": {},
   "source": [
    "Format of the files as below (for 2009_export.csv : this is the format after download from the https://statswales.gov.wales/Catalogue/Business-Economy-and-Labour-Market/People-and-Work/Employment/Jobs/Whole-Workforce/workplaceemployment-by-industry-area),"
   ]
  },
  {
   "cell_type": "code",
   "execution_count": 2,
   "metadata": {},
   "outputs": [
    {
     "data": {
      "text/html": [
       "<div>\n",
       "<style scoped>\n",
       "    .dataframe tbody tr th:only-of-type {\n",
       "        vertical-align: middle;\n",
       "    }\n",
       "\n",
       "    .dataframe tbody tr th {\n",
       "        vertical-align: top;\n",
       "    }\n",
       "\n",
       "    .dataframe thead th {\n",
       "        text-align: right;\n",
       "    }\n",
       "</style>\n",
       "<table border=\"1\" class=\"dataframe\">\n",
       "  <thead>\n",
       "    <tr style=\"text-align: right;\">\n",
       "      <th></th>\n",
       "      <th>Unnamed: 0</th>\n",
       "      <th>Unnamed: 1</th>\n",
       "      <th>United Kingdom</th>\n",
       "      <th>Wales</th>\n",
       "      <th>Unnamed: 4</th>\n",
       "      <th>Wales .1</th>\n",
       "    </tr>\n",
       "  </thead>\n",
       "  <tbody>\n",
       "    <tr>\n",
       "      <td>0</td>\n",
       "      <td></td>\n",
       "      <td></td>\n",
       "      <td>.</td>\n",
       "      <td>West Wales and the Valleys</td>\n",
       "      <td>East Wales</td>\n",
       "      <td>.</td>\n",
       "    </tr>\n",
       "    <tr>\n",
       "      <td>1</td>\n",
       "      <td>All industries</td>\n",
       "      <td></td>\n",
       "      <td>29966500</td>\n",
       "      <td>783400</td>\n",
       "      <td>552900</td>\n",
       "      <td>1336300</td>\n",
       "    </tr>\n",
       "    <tr>\n",
       "      <td>2</td>\n",
       "      <td>All industries</td>\n",
       "      <td>Agriculture, forestry and fishing</td>\n",
       "      <td>389600</td>\n",
       "      <td>25700</td>\n",
       "      <td>12000</td>\n",
       "      <td>37700</td>\n",
       "    </tr>\n",
       "    <tr>\n",
       "      <td>3</td>\n",
       "      <td></td>\n",
       "      <td>Production</td>\n",
       "      <td>2832800</td>\n",
       "      <td>90200</td>\n",
       "      <td>66600</td>\n",
       "      <td>156700</td>\n",
       "    </tr>\n",
       "    <tr>\n",
       "      <td>4</td>\n",
       "      <td></td>\n",
       "      <td>Construction</td>\n",
       "      <td>2169500</td>\n",
       "      <td>60700</td>\n",
       "      <td>35900</td>\n",
       "      <td>96600</td>\n",
       "    </tr>\n",
       "    <tr>\n",
       "      <td>5</td>\n",
       "      <td></td>\n",
       "      <td>Wholesale, retail, transport, hotels and food</td>\n",
       "      <td>7899000</td>\n",
       "      <td>207700</td>\n",
       "      <td>137700</td>\n",
       "      <td>345400</td>\n",
       "    </tr>\n",
       "    <tr>\n",
       "      <td>6</td>\n",
       "      <td></td>\n",
       "      <td>Information and communication</td>\n",
       "      <td>1153800</td>\n",
       "      <td>12900</td>\n",
       "      <td>14900</td>\n",
       "      <td>27800</td>\n",
       "    </tr>\n",
       "    <tr>\n",
       "      <td>7</td>\n",
       "      <td></td>\n",
       "      <td>Finance and insurance activities</td>\n",
       "      <td>1089300</td>\n",
       "      <td>13900</td>\n",
       "      <td>19800</td>\n",
       "      <td>33800</td>\n",
       "    </tr>\n",
       "    <tr>\n",
       "      <td>8</td>\n",
       "      <td></td>\n",
       "      <td>Real estate activities</td>\n",
       "      <td>465500</td>\n",
       "      <td>7100</td>\n",
       "      <td>6500</td>\n",
       "      <td>13500</td>\n",
       "    </tr>\n",
       "    <tr>\n",
       "      <td>9</td>\n",
       "      <td></td>\n",
       "      <td>Professional, scientific and technical activit...</td>\n",
       "      <td>4572800</td>\n",
       "      <td>72400</td>\n",
       "      <td>72500</td>\n",
       "      <td>144800</td>\n",
       "    </tr>\n",
       "    <tr>\n",
       "      <td>10</td>\n",
       "      <td></td>\n",
       "      <td>Public administration, defence, education and ...</td>\n",
       "      <td>7739900</td>\n",
       "      <td>255700</td>\n",
       "      <td>160000</td>\n",
       "      <td>415600</td>\n",
       "    </tr>\n",
       "    <tr>\n",
       "      <td>11</td>\n",
       "      <td></td>\n",
       "      <td>Other service activities</td>\n",
       "      <td>1654600</td>\n",
       "      <td>37000</td>\n",
       "      <td>27200</td>\n",
       "      <td>64200</td>\n",
       "    </tr>\n",
       "  </tbody>\n",
       "</table>\n",
       "</div>"
      ],
      "text/plain": [
       "         Unnamed: 0                                         Unnamed: 1  \\\n",
       "0                                                                        \n",
       "1   All industries                                                       \n",
       "2   All industries                  Agriculture, forestry and fishing    \n",
       "3                                                        Production      \n",
       "4                                                        Construction    \n",
       "5                       Wholesale, retail, transport, hotels and food    \n",
       "6                                       Information and communication    \n",
       "7                                    Finance and insurance activities    \n",
       "8                                              Real estate activities    \n",
       "9                    Professional, scientific and technical activit...   \n",
       "10                   Public administration, defence, education and ...   \n",
       "11                                           Other service activities    \n",
       "\n",
       "   United Kingdom                        Wales    Unnamed: 4 Wales .1  \n",
       "0                .  West Wales and the Valleys   East Wales         .  \n",
       "1         29966500                       783400       552900  1336300  \n",
       "2           389600                        25700        12000    37700  \n",
       "3          2832800                        90200        66600   156700  \n",
       "4          2169500                        60700        35900    96600  \n",
       "5          7899000                       207700       137700   345400  \n",
       "6          1153800                        12900        14900    27800  \n",
       "7          1089300                        13900        19800    33800  \n",
       "8           465500                         7100         6500    13500  \n",
       "9          4572800                        72400        72500   144800  \n",
       "10         7739900                       255700       160000   415600  \n",
       "11         1654600                        37000        27200    64200  "
      ]
     },
     "execution_count": 2,
     "metadata": {},
     "output_type": "execute_result"
    }
   ],
   "source": [
    "file_path = \"/Users/omokehinde/Desktop/new/MSc/Programming for Data Analysis_S2_19/Assessment/Raw Data/\"\n",
    "df_sample = pd.read_csv(file_path +\"2009_export.csv\")\n",
    "df_sample = df_sample.fillna(' ')\n",
    "df_sample"
   ]
  },
  {
   "cell_type": "markdown",
   "metadata": {},
   "source": [
    "<h4>Starting Data Process</h4>"
   ]
  },
  {
   "cell_type": "code",
   "execution_count": 36,
   "metadata": {},
   "outputs": [],
   "source": [
    "#method to get the final, merged dataframe for all the years\n",
    "\n",
    "#path of the files..files should be 2009_export.csv,2010_export.csv, ect..\n",
    "file_path = \"/Users/omokehinde/Desktop/new/MSc/Programming for Data Analysis_S2_19/Assessment/Raw Data/\"\n",
    "\n",
    "\n",
    "#this method is reading from the downloaded excel files, year wise. file should be,\n",
    "# 2009_export.csv\n",
    "# 2010_export.csv\n",
    "# ....\n",
    "# 2018_export.csv\n",
    "\n",
    "def save_merged_dataframe():    \n",
    "    df_in = ['Agriculture','Production','Construction','Retail','ICT','Finance','Real_Estate','Professional_Service','Public_Adminstration','Other_Service']\n",
    "    dff= pd.DataFrame(df_in)\n",
    "    dff.columns = ['Industry'] #assign the column header(only have one column in here)\n",
    "    i = 0\n",
    "    #loop through all exported files\n",
    "    while i < 10:\n",
    "        df = pd.read_csv(file_path +str(i+2009)+\"_export.csv\")\n",
    "        \n",
    "        #get the last column which contain required data\n",
    "        df=df.iloc[:,[5]]\n",
    "        df= df.rename(columns={'Wales .1':str(i+2009)})\n",
    "        df.drop(df.index[[0,1]],inplace=True)\n",
    "        df.reset_index(drop=True, inplace=True)\n",
    "        \n",
    "        #getting the mean val for Nan values\n",
    "        df.fillna(df[str(i+2009)].apply(pd.to_numeric).mean(),inplace=True)   \n",
    "        df[str(i+2009)] = df[str(i+2009)].apply(pd.to_numeric)\n",
    "        \n",
    "        #appending to the main DataFrame\n",
    "        dff[str(i+2009)] = df[str(i+2009)]\n",
    "        i += 1\n",
    "\n",
    "    dff.to_csv(file_path+\"merged_dataset.csv\", index = False)\n",
    "\n",
    "#calling the save method to save the dataframe as expected in the question (Final DataFrame)\n",
    "save_merged_dataframe()"
   ]
  },
  {
   "cell_type": "markdown",
   "metadata": {},
   "source": [
    "<h4>1.3 Retrieve the saved Final DataFrame</h4>"
   ]
  },
  {
   "cell_type": "code",
   "execution_count": 4,
   "metadata": {},
   "outputs": [
    {
     "data": {
      "text/html": [
       "<div>\n",
       "<style scoped>\n",
       "    .dataframe tbody tr th:only-of-type {\n",
       "        vertical-align: middle;\n",
       "    }\n",
       "\n",
       "    .dataframe tbody tr th {\n",
       "        vertical-align: top;\n",
       "    }\n",
       "\n",
       "    .dataframe thead th {\n",
       "        text-align: right;\n",
       "    }\n",
       "</style>\n",
       "<table border=\"1\" class=\"dataframe\">\n",
       "  <thead>\n",
       "    <tr style=\"text-align: right;\">\n",
       "      <th></th>\n",
       "      <th>Industry</th>\n",
       "      <th>2009</th>\n",
       "      <th>2010</th>\n",
       "      <th>2011</th>\n",
       "      <th>2012</th>\n",
       "      <th>2013</th>\n",
       "      <th>2014</th>\n",
       "      <th>2015</th>\n",
       "      <th>2016</th>\n",
       "      <th>2017</th>\n",
       "      <th>2018</th>\n",
       "    </tr>\n",
       "  </thead>\n",
       "  <tbody>\n",
       "    <tr>\n",
       "      <td>0</td>\n",
       "      <td>Agriculture</td>\n",
       "      <td>37700</td>\n",
       "      <td>38200</td>\n",
       "      <td>36100</td>\n",
       "      <td>36100</td>\n",
       "      <td>36800</td>\n",
       "      <td>42700</td>\n",
       "      <td>40700</td>\n",
       "      <td>43200</td>\n",
       "      <td>40200</td>\n",
       "      <td>41100</td>\n",
       "    </tr>\n",
       "    <tr>\n",
       "      <td>1</td>\n",
       "      <td>Production</td>\n",
       "      <td>156700</td>\n",
       "      <td>149800</td>\n",
       "      <td>158600</td>\n",
       "      <td>154400</td>\n",
       "      <td>164200</td>\n",
       "      <td>173300</td>\n",
       "      <td>172300</td>\n",
       "      <td>162500</td>\n",
       "      <td>165100</td>\n",
       "      <td>165700</td>\n",
       "    </tr>\n",
       "    <tr>\n",
       "      <td>2</td>\n",
       "      <td>Construction</td>\n",
       "      <td>96600</td>\n",
       "      <td>93200</td>\n",
       "      <td>90000</td>\n",
       "      <td>91300</td>\n",
       "      <td>89300</td>\n",
       "      <td>97000</td>\n",
       "      <td>92600</td>\n",
       "      <td>102700</td>\n",
       "      <td>90800</td>\n",
       "      <td>101800</td>\n",
       "    </tr>\n",
       "    <tr>\n",
       "      <td>3</td>\n",
       "      <td>Retail</td>\n",
       "      <td>345400</td>\n",
       "      <td>344500</td>\n",
       "      <td>343100</td>\n",
       "      <td>347300</td>\n",
       "      <td>345100</td>\n",
       "      <td>337300</td>\n",
       "      <td>357700</td>\n",
       "      <td>360200</td>\n",
       "      <td>333500</td>\n",
       "      <td>347600</td>\n",
       "    </tr>\n",
       "    <tr>\n",
       "      <td>4</td>\n",
       "      <td>ICT</td>\n",
       "      <td>27800</td>\n",
       "      <td>27900</td>\n",
       "      <td>26400</td>\n",
       "      <td>27200</td>\n",
       "      <td>26900</td>\n",
       "      <td>35700</td>\n",
       "      <td>24000</td>\n",
       "      <td>34400</td>\n",
       "      <td>58900</td>\n",
       "      <td>31500</td>\n",
       "    </tr>\n",
       "    <tr>\n",
       "      <td>5</td>\n",
       "      <td>Finance</td>\n",
       "      <td>33800</td>\n",
       "      <td>29800</td>\n",
       "      <td>33200</td>\n",
       "      <td>31100</td>\n",
       "      <td>32400</td>\n",
       "      <td>32400</td>\n",
       "      <td>30800</td>\n",
       "      <td>31000</td>\n",
       "      <td>32100</td>\n",
       "      <td>35500</td>\n",
       "    </tr>\n",
       "    <tr>\n",
       "      <td>6</td>\n",
       "      <td>Real_Estate</td>\n",
       "      <td>13500</td>\n",
       "      <td>14600</td>\n",
       "      <td>17600</td>\n",
       "      <td>18800</td>\n",
       "      <td>18000</td>\n",
       "      <td>22200</td>\n",
       "      <td>19100</td>\n",
       "      <td>22700</td>\n",
       "      <td>18200</td>\n",
       "      <td>25200</td>\n",
       "    </tr>\n",
       "    <tr>\n",
       "      <td>7</td>\n",
       "      <td>Professional_Service</td>\n",
       "      <td>144800</td>\n",
       "      <td>145800</td>\n",
       "      <td>143600</td>\n",
       "      <td>137300</td>\n",
       "      <td>149900</td>\n",
       "      <td>152900</td>\n",
       "      <td>166200</td>\n",
       "      <td>161200</td>\n",
       "      <td>176400</td>\n",
       "      <td>187100</td>\n",
       "    </tr>\n",
       "    <tr>\n",
       "      <td>8</td>\n",
       "      <td>Public_Adminstration</td>\n",
       "      <td>415600</td>\n",
       "      <td>418600</td>\n",
       "      <td>425600</td>\n",
       "      <td>421000</td>\n",
       "      <td>427000</td>\n",
       "      <td>427600</td>\n",
       "      <td>423200</td>\n",
       "      <td>418500</td>\n",
       "      <td>424500</td>\n",
       "      <td>434900</td>\n",
       "    </tr>\n",
       "    <tr>\n",
       "      <td>9</td>\n",
       "      <td>Other_Service</td>\n",
       "      <td>64200</td>\n",
       "      <td>68000</td>\n",
       "      <td>72400</td>\n",
       "      <td>72800</td>\n",
       "      <td>75500</td>\n",
       "      <td>73300</td>\n",
       "      <td>77200</td>\n",
       "      <td>72400</td>\n",
       "      <td>83200</td>\n",
       "      <td>81800</td>\n",
       "    </tr>\n",
       "  </tbody>\n",
       "</table>\n",
       "</div>"
      ],
      "text/plain": [
       "               Industry    2009    2010    2011    2012    2013    2014  \\\n",
       "0           Agriculture   37700   38200   36100   36100   36800   42700   \n",
       "1            Production  156700  149800  158600  154400  164200  173300   \n",
       "2          Construction   96600   93200   90000   91300   89300   97000   \n",
       "3                Retail  345400  344500  343100  347300  345100  337300   \n",
       "4                   ICT   27800   27900   26400   27200   26900   35700   \n",
       "5               Finance   33800   29800   33200   31100   32400   32400   \n",
       "6           Real_Estate   13500   14600   17600   18800   18000   22200   \n",
       "7  Professional_Service  144800  145800  143600  137300  149900  152900   \n",
       "8  Public_Adminstration  415600  418600  425600  421000  427000  427600   \n",
       "9         Other_Service   64200   68000   72400   72800   75500   73300   \n",
       "\n",
       "     2015    2016    2017    2018  \n",
       "0   40700   43200   40200   41100  \n",
       "1  172300  162500  165100  165700  \n",
       "2   92600  102700   90800  101800  \n",
       "3  357700  360200  333500  347600  \n",
       "4   24000   34400   58900   31500  \n",
       "5   30800   31000   32100   35500  \n",
       "6   19100   22700   18200   25200  \n",
       "7  166200  161200  176400  187100  \n",
       "8  423200  418500  424500  434900  \n",
       "9   77200   72400   83200   81800  "
      ]
     },
     "execution_count": 4,
     "metadata": {},
     "output_type": "execute_result"
    }
   ],
   "source": [
    "#this method reads from the saved file(Final DataFram)\n",
    "def get_merged_dataframe():\n",
    "    return pd.read_csv(file_path+'merged_dataset.csv')\n",
    "\n",
    "df_merged = get_merged_dataframe()\n",
    "df_merged"
   ]
  },
  {
   "cell_type": "markdown",
   "metadata": {},
   "source": [
    "<h3>2. Data analysis</h3>"
   ]
  },
  {
   "cell_type": "markdown",
   "metadata": {},
   "source": [
    "<h4>2.1 Highest and lowest workers employed over the period by Industry</h4>"
   ]
  },
  {
   "cell_type": "code",
   "execution_count": 5,
   "metadata": {},
   "outputs": [
    {
     "data": {
      "text/html": [
       "<div>\n",
       "<style scoped>\n",
       "    .dataframe tbody tr th:only-of-type {\n",
       "        vertical-align: middle;\n",
       "    }\n",
       "\n",
       "    .dataframe tbody tr th {\n",
       "        vertical-align: top;\n",
       "    }\n",
       "\n",
       "    .dataframe thead th {\n",
       "        text-align: right;\n",
       "    }\n",
       "</style>\n",
       "<table border=\"1\" class=\"dataframe\">\n",
       "  <thead>\n",
       "    <tr style=\"text-align: right;\">\n",
       "      <th></th>\n",
       "      <th>Industry</th>\n",
       "      <th>2009</th>\n",
       "      <th>2010</th>\n",
       "      <th>2011</th>\n",
       "      <th>2012</th>\n",
       "      <th>2013</th>\n",
       "      <th>2014</th>\n",
       "      <th>2015</th>\n",
       "      <th>2016</th>\n",
       "      <th>2017</th>\n",
       "      <th>2018</th>\n",
       "      <th>Total</th>\n",
       "    </tr>\n",
       "  </thead>\n",
       "  <tbody>\n",
       "    <tr>\n",
       "      <td>0</td>\n",
       "      <td>Agriculture</td>\n",
       "      <td>37700</td>\n",
       "      <td>38200</td>\n",
       "      <td>36100</td>\n",
       "      <td>36100</td>\n",
       "      <td>36800</td>\n",
       "      <td>42700</td>\n",
       "      <td>40700</td>\n",
       "      <td>43200</td>\n",
       "      <td>40200</td>\n",
       "      <td>41100</td>\n",
       "      <td>392800</td>\n",
       "    </tr>\n",
       "    <tr>\n",
       "      <td>1</td>\n",
       "      <td>Production</td>\n",
       "      <td>156700</td>\n",
       "      <td>149800</td>\n",
       "      <td>158600</td>\n",
       "      <td>154400</td>\n",
       "      <td>164200</td>\n",
       "      <td>173300</td>\n",
       "      <td>172300</td>\n",
       "      <td>162500</td>\n",
       "      <td>165100</td>\n",
       "      <td>165700</td>\n",
       "      <td>1622600</td>\n",
       "    </tr>\n",
       "    <tr>\n",
       "      <td>2</td>\n",
       "      <td>Construction</td>\n",
       "      <td>96600</td>\n",
       "      <td>93200</td>\n",
       "      <td>90000</td>\n",
       "      <td>91300</td>\n",
       "      <td>89300</td>\n",
       "      <td>97000</td>\n",
       "      <td>92600</td>\n",
       "      <td>102700</td>\n",
       "      <td>90800</td>\n",
       "      <td>101800</td>\n",
       "      <td>945300</td>\n",
       "    </tr>\n",
       "    <tr>\n",
       "      <td>3</td>\n",
       "      <td>Retail</td>\n",
       "      <td>345400</td>\n",
       "      <td>344500</td>\n",
       "      <td>343100</td>\n",
       "      <td>347300</td>\n",
       "      <td>345100</td>\n",
       "      <td>337300</td>\n",
       "      <td>357700</td>\n",
       "      <td>360200</td>\n",
       "      <td>333500</td>\n",
       "      <td>347600</td>\n",
       "      <td>3461700</td>\n",
       "    </tr>\n",
       "    <tr>\n",
       "      <td>4</td>\n",
       "      <td>ICT</td>\n",
       "      <td>27800</td>\n",
       "      <td>27900</td>\n",
       "      <td>26400</td>\n",
       "      <td>27200</td>\n",
       "      <td>26900</td>\n",
       "      <td>35700</td>\n",
       "      <td>24000</td>\n",
       "      <td>34400</td>\n",
       "      <td>58900</td>\n",
       "      <td>31500</td>\n",
       "      <td>320700</td>\n",
       "    </tr>\n",
       "  </tbody>\n",
       "</table>\n",
       "</div>"
      ],
      "text/plain": [
       "       Industry    2009    2010    2011    2012    2013    2014    2015  \\\n",
       "0   Agriculture   37700   38200   36100   36100   36800   42700   40700   \n",
       "1    Production  156700  149800  158600  154400  164200  173300  172300   \n",
       "2  Construction   96600   93200   90000   91300   89300   97000   92600   \n",
       "3        Retail  345400  344500  343100  347300  345100  337300  357700   \n",
       "4           ICT   27800   27900   26400   27200   26900   35700   24000   \n",
       "\n",
       "     2016    2017    2018    Total  \n",
       "0   43200   40200   41100   392800  \n",
       "1  162500  165100  165700  1622600  \n",
       "2  102700   90800  101800   945300  \n",
       "3  360200  333500  347600  3461700  \n",
       "4   34400   58900   31500   320700  "
      ]
     },
     "execution_count": 5,
     "metadata": {},
     "output_type": "execute_result"
    },
    {
     "data": {
      "text/plain": [
       "<Figure size 432x288 with 0 Axes>"
      ]
     },
     "metadata": {},
     "output_type": "display_data"
    }
   ],
   "source": [
    "# 2.1\n",
    "#calling the method to get the initial dataframe, otherwise when run this code block twise, total get doubled,\n",
    "#due to total performed on previous result.\n",
    "df_merged = get_merged_dataframe()\n",
    "\n",
    "plt.clf() #clear previous aeetings for plot\n",
    "\n",
    "#adding row wise sum\n",
    "df_merged[\"Total\"] = df_merged.iloc[:,1:].sum(axis = 1)\n",
    "df_merged.sort_values('Total', ascending = False)\n",
    "df_merged.head()"
   ]
  },
  {
   "cell_type": "code",
   "execution_count": 6,
   "metadata": {},
   "outputs": [
    {
     "data": {
      "text/plain": [
       "Text(0, 0.5, 'Count')"
      ]
     },
     "execution_count": 6,
     "metadata": {},
     "output_type": "execute_result"
    },
    {
     "data": {
      "image/png": "[encoded data removed]",
      "text/plain": [
       "<Figure size 720x432 with 1 Axes>"
      ]
     },
     "metadata": {
      "needs_background": "light"
     },
     "output_type": "display_data"
    }
   ],
   "source": [
    "#plot the bar char for the total number of workers\n",
    "df_merged.sort_values('Total', ascending = False).plot(kind='bar',x= 'Industry'\n",
    "                     ,y = 'Total',title='Total workers by Insdustry (2009-2018)',figsize=(10, 6))\n",
    "plt.ylabel(\"Count\")"
   ]
  },
  {
   "cell_type": "markdown",
   "metadata": {},
   "source": [
    "The bar graph illustrates the total number of people got employed by each industry from 2009 to 2018 in Wales. Public administration industry has hired the highest number of employees over the years meanwhile Real estate shows the lowest amounts. Retail and Public administration employed more than twice, compared to other industries."
   ]
  },
  {
   "cell_type": "markdown",
   "metadata": {},
   "source": [
    "<h4>2.2 Highest and lowest overall growth over the period by Industry</h4>"
   ]
  },
  {
   "cell_type": "code",
   "execution_count": 7,
   "metadata": {
    "scrolled": false
   },
   "outputs": [
    {
     "data": {
      "text/plain": [
       "Text(0, 0.5, 'Count')"
      ]
     },
     "execution_count": 7,
     "metadata": {},
     "output_type": "execute_result"
    },
    {
     "data": {
      "image/png": "[encoded data removed]",
      "text/plain": [
       "<Figure size 720x432 with 1 Axes>"
      ]
     },
     "metadata": {
      "needs_background": "light"
     },
     "output_type": "display_data"
    }
   ],
   "source": [
    "# 2.2\n",
    "#calling the method to get the initial dataframe, otherwise when run this code block twise, total get doubled,\n",
    "#due to total performed on previous result.\n",
    "df_merged = get_merged_dataframe()\n",
    "#df_merged\n",
    "\n",
    "#get the difference with previous column(year) value.(2010 val - 2009 val)\n",
    "growth_df = df_merged.set_index('Industry').diff(axis = 1,periods = 1)\n",
    "\n",
    "#get overall growth\n",
    "growth_df[\"Total\"] = growth_df.iloc[:,1:].sum(axis = 1)\n",
    "\n",
    "growth_df.sort_values('Total',ascending = False)\n",
    "\n",
    "#plot the bar char for the overall growth\n",
    "growth_df.sort_values('Total', ascending = False).plot(kind='bar',y = 'Total'\n",
    "                                                       ,title='Overall Growth by Insdustry (2009-2018)',figsize=(10, 6))\n",
    "plt.ylabel(\"Count\")\n"
   ]
  },
  {
   "cell_type": "markdown",
   "metadata": {},
   "source": [
    "The graph shows the overall growth of hiring in each industry from 2009 to 2018 in Wales. By employing more than 40000 people over 10 years, Professional service ranked top for the growth. On the other hand, the Finance sector hired less than 5000 employees which is the lowest. Overall, Professional service has become a high demand field over the decade."
   ]
  },
  {
   "cell_type": "markdown",
   "metadata": {},
   "source": [
    "<h4>2.3 Number of employment by Year</h4>"
   ]
  },
  {
   "cell_type": "code",
   "execution_count": 8,
   "metadata": {},
   "outputs": [
    {
     "data": {
      "text/plain": [
       "(1300000, 1500000)"
      ]
     },
     "execution_count": 8,
     "metadata": {},
     "output_type": "execute_result"
    },
    {
     "data": {
      "image/png": "[encoded data removed]",
      "text/plain": [
       "<Figure size 720x432 with 1 Axes>"
      ]
     },
     "metadata": {
      "needs_background": "light"
     },
     "output_type": "display_data"
    }
   ],
   "source": [
    "# 2.3\n",
    "#calling the method to get the initial dataframe, otherwise when run this code block twise, total get doubled,\n",
    "#due to total performed on previous result.\n",
    "df_merged = get_merged_dataframe()\n",
    "\n",
    "plt.clf() #clear previous aeetings for plot\n",
    "\n",
    "#get total by year\n",
    "df_byyear = df_merged.iloc[:,1:].sum(axis = 0)\n",
    "df_byyear.plot(kind = 'bar',title='Employment performance by Year',figsize=(10, 6))\n",
    "plt.xlabel(\"Year\")\n",
    "plt.ylabel(\"Count (scaled)\")\n",
    "plt.ylim(1300000, 1500000)\n"
   ]
  },
  {
   "cell_type": "markdown",
   "metadata": {},
   "source": [
    "The bar graph describes the rate of hiring people over the 10 years period. It is clear that in 2018, most people got employed. Meanwhile in 2010, the least amount of people hired. Moreover, the graph shows the employment for the selected industries in Wales has increased continuously from the year 2012 to 2018."
   ]
  },
  {
   "cell_type": "markdown",
   "metadata": {},
   "source": [
    "<h3>3. Visual analysis</h3>"
   ]
  },
  {
   "cell_type": "code",
   "execution_count": 9,
   "metadata": {},
   "outputs": [
    {
     "data": {
      "text/html": [
       "<div>\n",
       "<style scoped>\n",
       "    .dataframe tbody tr th:only-of-type {\n",
       "        vertical-align: middle;\n",
       "    }\n",
       "\n",
       "    .dataframe tbody tr th {\n",
       "        vertical-align: top;\n",
       "    }\n",
       "\n",
       "    .dataframe thead th {\n",
       "        text-align: right;\n",
       "    }\n",
       "</style>\n",
       "<table border=\"1\" class=\"dataframe\">\n",
       "  <thead>\n",
       "    <tr style=\"text-align: right;\">\n",
       "      <th></th>\n",
       "      <th>Industry</th>\n",
       "      <th>Count</th>\n",
       "      <th>Year</th>\n",
       "    </tr>\n",
       "  </thead>\n",
       "  <tbody>\n",
       "    <tr>\n",
       "      <td>0</td>\n",
       "      <td>Agriculture</td>\n",
       "      <td>37700.0</td>\n",
       "      <td>2009</td>\n",
       "    </tr>\n",
       "    <tr>\n",
       "      <td>1</td>\n",
       "      <td>Production</td>\n",
       "      <td>156700.0</td>\n",
       "      <td>2009</td>\n",
       "    </tr>\n",
       "    <tr>\n",
       "      <td>2</td>\n",
       "      <td>Construction</td>\n",
       "      <td>96600.0</td>\n",
       "      <td>2009</td>\n",
       "    </tr>\n",
       "    <tr>\n",
       "      <td>3</td>\n",
       "      <td>Retail</td>\n",
       "      <td>345400.0</td>\n",
       "      <td>2009</td>\n",
       "    </tr>\n",
       "    <tr>\n",
       "      <td>4</td>\n",
       "      <td>ICT</td>\n",
       "      <td>27800.0</td>\n",
       "      <td>2009</td>\n",
       "    </tr>\n",
       "  </tbody>\n",
       "</table>\n",
       "</div>"
      ],
      "text/plain": [
       "       Industry     Count  Year\n",
       "0   Agriculture   37700.0  2009\n",
       "1    Production  156700.0  2009\n",
       "2  Construction   96600.0  2009\n",
       "3        Retail  345400.0  2009\n",
       "4           ICT   27800.0  2009"
      ]
     },
     "execution_count": 9,
     "metadata": {},
     "output_type": "execute_result"
    }
   ],
   "source": [
    "# 3\n",
    "\n",
    "df_merged = get_merged_dataframe()\n",
    "\n",
    "# change the format of the dataframe to plot the dynamic scatter plot\n",
    "# Columns format  = Industry, Count, Year \n",
    "column_names = ['Industry','Count', 'Year']\n",
    "df_modified = pd.DataFrame(columns = column_names)\n",
    "  \n",
    "iterate = 0\n",
    "while iterate < 10:\n",
    "    loop_industry = 0\n",
    "    while loop_industry < 10:\n",
    "        new_row = {'Industry':str(df_merged.iloc[loop_industry,0]), 'Count':df_merged.iloc[loop_industry,(iterate+1)], 'Year':str(iterate+2009)}\n",
    "        df_modified = df_modified.append(new_row,ignore_index=True)       \n",
    "        loop_industry += 1\n",
    "    iterate += 1\n",
    "\n",
    "df_modified['Count']=df_modified['Count'].astype(str).astype(float)\n",
    "df_modified.head()"
   ]
  },
  {
   "cell_type": "code",
   "execution_count": 26,
   "metadata": {},
   "outputs": [
    {
     "data": {
      "application/vnd.plotly.v1+json": {
       "config": {
        "plotlyServerURL": "https://plot.ly"
       },
       "data": [
        {
         "hovertemplate": "Industry=Agriculture<br>Year=2009<br>Count=%{marker.size}<extra></extra>",
         "ids": [
          "Agriculture"
         ],
         "legendgroup": "Agriculture",
         "marker": {
          "color": "#636efa",
          "size": [
           37700
          ],
          "sizemode": "area",
          "sizeref": 1087.25,
          "symbol": "circle"
         },
         "mode": "markers",
         "name": "Agriculture",
         "showlegend": true,
         "type": "scatter",
         "x": [
          37700
         ],
         "xaxis": "x",
         "y": [
          37700
         ],
         "yaxis": "y"
        },
        {
         "hovertemplate": "Industry=Production<br>Year=2009<br>Count=%{marker.size}<extra></extra>",
         "ids": [
          "Production"
         ],
         "legendgroup": "Production",
         "marker": {
          "color": "#EF553B",
          "size": [
           156700
          ],
          "sizemode": "area",
          "sizeref": 1087.25,
          "symbol": "circle"
         },
         "mode": "markers",
         "name": "Production",
         "showlegend": true,
         "type": "scatter",
         "x": [
          156700
         ],
         "xaxis": "x",
         "y": [
          156700
         ],
         "yaxis": "y"
        },
        {
         "hovertemplate": "Industry=Construction<br>Year=2009<br>Count=%{marker.size}<extra></extra>",
         "ids": [
          "Construction"
         ],
         "legendgroup": "Construction",
         "marker": {
          "color": "#00cc96",
          "size": [
           96600
          ],
          "sizemode": "area",
          "sizeref": 1087.25,
          "symbol": "circle"
         },
         "mode": "markers",
         "name": "Construction",
         "showlegend": true,
         "type": "scatter",
         "x": [
          96600
         ],
         "xaxis": "x",
         "y": [
          96600
         ],
         "yaxis": "y"
        },
        {
         "hovertemplate": "Industry=Retail<br>Year=2009<br>Count=%{marker.size}<extra></extra>",
         "ids": [
          "Retail"
         ],
         "legendgroup": "Retail",
         "marker": {
          "color": "#ab63fa",
          "size": [
           345400
          ],
          "sizemode": "area",
          "sizeref": 1087.25,
          "symbol": "circle"
         },
         "mode": "markers",
         "name": "Retail",
         "showlegend": true,
         "type": "scatter",
         "x": [
          345400
         ],
         "xaxis": "x",
         "y": [
          345400
         ],
         "yaxis": "y"
        },
        {
         "hovertemplate": "Industry=ICT<br>Year=2009<br>Count=%{marker.size}<extra></extra>",
         "ids": [
          "ICT"
         ],
         "legendgroup": "ICT",
         "marker": {
          "color": "#FFA15A",
          "size": [
           27800
          ],
          "sizemode": "area",
          "sizeref": 1087.25,
          "symbol": "circle"
         },
         "mode": "markers",
         "name": "ICT",
         "showlegend": true,
         "type": "scatter",
         "x": [
          27800
         ],
         "xaxis": "x",
         "y": [
          27800
         ],
         "yaxis": "y"
        },
        {
         "hovertemplate": "Industry=Finance<br>Year=2009<br>Count=%{marker.size}<extra></extra>",
         "ids": [
          "Finance"
         ],
         "legendgroup": "Finance",
         "marker": {
          "color": "#19d3f3",
          "size": [
           33800
          ],
          "sizemode": "area",
          "sizeref": 1087.25,
          "symbol": "circle"
         },
         "mode": "markers",
         "name": "Finance",
         "showlegend": true,
         "type": "scatter",
         "x": [
          33800
         ],
         "xaxis": "x",
         "y": [
          33800
         ],
         "yaxis": "y"
        },
        {
         "hovertemplate": "Industry=Real_Estate<br>Year=2009<br>Count=%{marker.size}<extra></extra>",
         "ids": [
          "Real_Estate"
         ],
         "legendgroup": "Real_Estate",
         "marker": {
          "color": "#FF6692",
          "size": [
           13500
          ],
          "sizemode": "area",
          "sizeref": 1087.25,
          "symbol": "circle"
         },
         "mode": "markers",
         "name": "Real_Estate",
         "showlegend": true,
         "type": "scatter",
         "x": [
          13500
         ],
         "xaxis": "x",
         "y": [
          13500
         ],
         "yaxis": "y"
        },
        {
         "hovertemplate": "Industry=Professional_Service<br>Year=2009<br>Count=%{marker.size}<extra></extra>",
         "ids": [
          "Professional_Service"
         ],
         "legendgroup": "Professional_Service",
         "marker": {
          "color": "#B6E880",
          "size": [
           144800
          ],
          "sizemode": "area",
          "sizeref": 1087.25,
          "symbol": "circle"
         },
         "mode": "markers",
         "name": "Professional_Service",
         "showlegend": true,
         "type": "scatter",
         "x": [
          144800
         ],
         "xaxis": "x",
         "y": [
          144800
         ],
         "yaxis": "y"
        },
        {
         "hovertemplate": "Industry=Public_Adminstration<br>Year=2009<br>Count=%{marker.size}<extra></extra>",
         "ids": [
          "Public_Adminstration"
         ],
         "legendgroup": "Public_Adminstration",
         "marker": {
          "color": "#FF97FF",
          "size": [
           415600
          ],
          "sizemode": "area",
          "sizeref": 1087.25,
          "symbol": "circle"
         },
         "mode": "markers",
         "name": "Public_Adminstration",
         "showlegend": true,
         "type": "scatter",
         "x": [
          415600
         ],
         "xaxis": "x",
         "y": [
          415600
         ],
         "yaxis": "y"
        },
        {
         "hovertemplate": "Industry=Other_Service<br>Year=2009<br>Count=%{marker.size}<extra></extra>",
         "ids": [
          "Other_Service"
         ],
         "legendgroup": "Other_Service",
         "marker": {
          "color": "#FECB52",
          "size": [
           64200
          ],
          "sizemode": "area",
          "sizeref": 1087.25,
          "symbol": "circle"
         },
         "mode": "markers",
         "name": "Other_Service",
         "showlegend": true,
         "type": "scatter",
         "x": [
          64200
         ],
         "xaxis": "x",
         "y": [
          64200
         ],
         "yaxis": "y"
        }
       ],
       "frames": [
        {
         "data": [
          {
           "hovertemplate": "Industry=Agriculture<br>Year=2009<br>Count=%{marker.size}<extra></extra>",
           "ids": [
            "Agriculture"
           ],
           "legendgroup": "Agriculture",
           "marker": {
            "color": "#636efa",
            "size": [
             37700
            ],
            "sizemode": "area",
            "sizeref": 1087.25,
            "symbol": "circle"
           },
           "mode": "markers",
           "name": "Agriculture",
           "showlegend": true,
           "type": "scatter",
           "x": [
            37700
           ],
           "xaxis": "x",
           "y": [
            37700
           ],
           "yaxis": "y"
          },
          {
           "hovertemplate": "Industry=Production<br>Year=2009<br>Count=%{marker.size}<extra></extra>",
           "ids": [
            "Production"
           ],
           "legendgroup": "Production",
           "marker": {
            "color": "#EF553B",
            "size": [
             156700
            ],
            "sizemode": "area",
            "sizeref": 1087.25,
            "symbol": "circle"
           },
           "mode": "markers",
           "name": "Production",
           "showlegend": true,
           "type": "scatter",
           "x": [
            156700
           ],
           "xaxis": "x",
           "y": [
            156700
           ],
           "yaxis": "y"
          },
          {
           "hovertemplate": "Industry=Construction<br>Year=2009<br>Count=%{marker.size}<extra></extra>",
           "ids": [
            "Construction"
           ],
           "legendgroup": "Construction",
           "marker": {
            "color": "#00cc96",
            "size": [
             96600
            ],
            "sizemode": "area",
            "sizeref": 1087.25,
            "symbol": "circle"
           },
           "mode": "markers",
           "name": "Construction",
           "showlegend": true,
           "type": "scatter",
           "x": [
            96600
           ],
           "xaxis": "x",
           "y": [
            96600
           ],
           "yaxis": "y"
          },
          {
           "hovertemplate": "Industry=Retail<br>Year=2009<br>Count=%{marker.size}<extra></extra>",
           "ids": [
            "Retail"
           ],
           "legendgroup": "Retail",
           "marker": {
            "color": "#ab63fa",
            "size": [
             345400
            ],
            "sizemode": "area",
            "sizeref": 1087.25,
            "symbol": "circle"
           },
           "mode": "markers",
           "name": "Retail",
           "showlegend": true,
           "type": "scatter",
           "x": [
            345400
           ],
           "xaxis": "x",
           "y": [
            345400
           ],
           "yaxis": "y"
          },
          {
           "hovertemplate": "Industry=ICT<br>Year=2009<br>Count=%{marker.size}<extra></extra>",
           "ids": [
            "ICT"
           ],
           "legendgroup": "ICT",
           "marker": {
            "color": "#FFA15A",
            "size": [
             27800
            ],
            "sizemode": "area",
            "sizeref": 1087.25,
            "symbol": "circle"
           },
           "mode": "markers",
           "name": "ICT",
           "showlegend": true,
           "type": "scatter",
           "x": [
            27800
           ],
           "xaxis": "x",
           "y": [
            27800
           ],
           "yaxis": "y"
          },
          {
           "hovertemplate": "Industry=Finance<br>Year=2009<br>Count=%{marker.size}<extra></extra>",
           "ids": [
            "Finance"
           ],
           "legendgroup": "Finance",
           "marker": {
            "color": "#19d3f3",
            "size": [
             33800
            ],
            "sizemode": "area",
            "sizeref": 1087.25,
            "symbol": "circle"
           },
           "mode": "markers",
           "name": "Finance",
           "showlegend": true,
           "type": "scatter",
           "x": [
            33800
           ],
           "xaxis": "x",
           "y": [
            33800
           ],
           "yaxis": "y"
          },
          {
           "hovertemplate": "Industry=Real_Estate<br>Year=2009<br>Count=%{marker.size}<extra></extra>",
           "ids": [
            "Real_Estate"
           ],
           "legendgroup": "Real_Estate",
           "marker": {
            "color": "#FF6692",
            "size": [
             13500
            ],
            "sizemode": "area",
            "sizeref": 1087.25,
            "symbol": "circle"
           },
           "mode": "markers",
           "name": "Real_Estate",
           "showlegend": true,
           "type": "scatter",
           "x": [
            13500
           ],
           "xaxis": "x",
           "y": [
            13500
           ],
           "yaxis": "y"
          },
          {
           "hovertemplate": "Industry=Professional_Service<br>Year=2009<br>Count=%{marker.size}<extra></extra>",
           "ids": [
            "Professional_Service"
           ],
           "legendgroup": "Professional_Service",
           "marker": {
            "color": "#B6E880",
            "size": [
             144800
            ],
            "sizemode": "area",
            "sizeref": 1087.25,
            "symbol": "circle"
           },
           "mode": "markers",
           "name": "Professional_Service",
           "showlegend": true,
           "type": "scatter",
           "x": [
            144800
           ],
           "xaxis": "x",
           "y": [
            144800
           ],
           "yaxis": "y"
          },
          {
           "hovertemplate": "Industry=Public_Adminstration<br>Year=2009<br>Count=%{marker.size}<extra></extra>",
           "ids": [
            "Public_Adminstration"
           ],
           "legendgroup": "Public_Adminstration",
           "marker": {
            "color": "#FF97FF",
            "size": [
             415600
            ],
            "sizemode": "area",
            "sizeref": 1087.25,
            "symbol": "circle"
           },
           "mode": "markers",
           "name": "Public_Adminstration",
           "showlegend": true,
           "type": "scatter",
           "x": [
            415600
           ],
           "xaxis": "x",
           "y": [
            415600
           ],
           "yaxis": "y"
          },
          {
           "hovertemplate": "Industry=Other_Service<br>Year=2009<br>Count=%{marker.size}<extra></extra>",
           "ids": [
            "Other_Service"
           ],
           "legendgroup": "Other_Service",
           "marker": {
            "color": "#FECB52",
            "size": [
             64200
            ],
            "sizemode": "area",
            "sizeref": 1087.25,
            "symbol": "circle"
           },
           "mode": "markers",
           "name": "Other_Service",
           "showlegend": true,
           "type": "scatter",
           "x": [
            64200
           ],
           "xaxis": "x",
           "y": [
            64200
           ],
           "yaxis": "y"
          }
         ],
         "name": "2009"
        },
        {
         "data": [
          {
           "hovertemplate": "Industry=Agriculture<br>Year=2010<br>Count=%{marker.size}<extra></extra>",
           "ids": [
            "Agriculture"
           ],
           "legendgroup": "Agriculture",
           "marker": {
            "color": "#636efa",
            "size": [
             38200
            ],
            "sizemode": "area",
            "sizeref": 1087.25,
            "symbol": "circle"
           },
           "mode": "markers",
           "name": "Agriculture",
           "showlegend": true,
           "type": "scatter",
           "x": [
            38200
           ],
           "xaxis": "x",
           "y": [
            38200
           ],
           "yaxis": "y"
          },
          {
           "hovertemplate": "Industry=Production<br>Year=2010<br>Count=%{marker.size}<extra></extra>",
           "ids": [
            "Production"
           ],
           "legendgroup": "Production",
           "marker": {
            "color": "#EF553B",
            "size": [
             149800
            ],
            "sizemode": "area",
            "sizeref": 1087.25,
            "symbol": "circle"
           },
           "mode": "markers",
           "name": "Production",
           "showlegend": true,
           "type": "scatter",
           "x": [
            149800
           ],
           "xaxis": "x",
           "y": [
            149800
           ],
           "yaxis": "y"
          },
          {
           "hovertemplate": "Industry=Construction<br>Year=2010<br>Count=%{marker.size}<extra></extra>",
           "ids": [
            "Construction"
           ],
           "legendgroup": "Construction",
           "marker": {
            "color": "#00cc96",
            "size": [
             93200
            ],
            "sizemode": "area",
            "sizeref": 1087.25,
            "symbol": "circle"
           },
           "mode": "markers",
           "name": "Construction",
           "showlegend": true,
           "type": "scatter",
           "x": [
            93200
           ],
           "xaxis": "x",
           "y": [
            93200
           ],
           "yaxis": "y"
          },
          {
           "hovertemplate": "Industry=Retail<br>Year=2010<br>Count=%{marker.size}<extra></extra>",
           "ids": [
            "Retail"
           ],
           "legendgroup": "Retail",
           "marker": {
            "color": "#ab63fa",
            "size": [
             344500
            ],
            "sizemode": "area",
            "sizeref": 1087.25,
            "symbol": "circle"
           },
           "mode": "markers",
           "name": "Retail",
           "showlegend": true,
           "type": "scatter",
           "x": [
            344500
           ],
           "xaxis": "x",
           "y": [
            344500
           ],
           "yaxis": "y"
          },
          {
           "hovertemplate": "Industry=ICT<br>Year=2010<br>Count=%{marker.size}<extra></extra>",
           "ids": [
            "ICT"
           ],
           "legendgroup": "ICT",
           "marker": {
            "color": "#FFA15A",
            "size": [
             27900
            ],
            "sizemode": "area",
            "sizeref": 1087.25,
            "symbol": "circle"
           },
           "mode": "markers",
           "name": "ICT",
           "showlegend": true,
           "type": "scatter",
           "x": [
            27900
           ],
           "xaxis": "x",
           "y": [
            27900
           ],
           "yaxis": "y"
          },
          {
           "hovertemplate": "Industry=Finance<br>Year=2010<br>Count=%{marker.size}<extra></extra>",
           "ids": [
            "Finance"
           ],
           "legendgroup": "Finance",
           "marker": {
            "color": "#19d3f3",
            "size": [
             29800
            ],
            "sizemode": "area",
            "sizeref": 1087.25,
            "symbol": "circle"
           },
           "mode": "markers",
           "name": "Finance",
           "showlegend": true,
           "type": "scatter",
           "x": [
            29800
           ],
           "xaxis": "x",
           "y": [
            29800
           ],
           "yaxis": "y"
          },
          {
           "hovertemplate": "Industry=Real_Estate<br>Year=2010<br>Count=%{marker.size}<extra></extra>",
           "ids": [
            "Real_Estate"
           ],
           "legendgroup": "Real_Estate",
           "marker": {
            "color": "#FF6692",
            "size": [
             14600
            ],
            "sizemode": "area",
            "sizeref": 1087.25,
            "symbol": "circle"
           },
           "mode": "markers",
           "name": "Real_Estate",
           "showlegend": true,
           "type": "scatter",
           "x": [
            14600
           ],
           "xaxis": "x",
           "y": [
            14600
           ],
           "yaxis": "y"
          },
          {
           "hovertemplate": "Industry=Professional_Service<br>Year=2010<br>Count=%{marker.size}<extra></extra>",
           "ids": [
            "Professional_Service"
           ],
           "legendgroup": "Professional_Service",
           "marker": {
            "color": "#B6E880",
            "size": [
             145800
            ],
            "sizemode": "area",
            "sizeref": 1087.25,
            "symbol": "circle"
           },
           "mode": "markers",
           "name": "Professional_Service",
           "showlegend": true,
           "type": "scatter",
           "x": [
            145800
           ],
           "xaxis": "x",
           "y": [
            145800
           ],
           "yaxis": "y"
          },
          {
           "hovertemplate": "Industry=Public_Adminstration<br>Year=2010<br>Count=%{marker.size}<extra></extra>",
           "ids": [
            "Public_Adminstration"
           ],
           "legendgroup": "Public_Adminstration",
           "marker": {
            "color": "#FF97FF",
            "size": [
             418600
            ],
            "sizemode": "area",
            "sizeref": 1087.25,
            "symbol": "circle"
           },
           "mode": "markers",
           "name": "Public_Adminstration",
           "showlegend": true,
           "type": "scatter",
           "x": [
            418600
           ],
           "xaxis": "x",
           "y": [
            418600
           ],
           "yaxis": "y"
          },
          {
           "hovertemplate": "Industry=Other_Service<br>Year=2010<br>Count=%{marker.size}<extra></extra>",
           "ids": [
            "Other_Service"
           ],
           "legendgroup": "Other_Service",
           "marker": {
            "color": "#FECB52",
            "size": [
             68000
            ],
            "sizemode": "area",
            "sizeref": 1087.25,
            "symbol": "circle"
           },
           "mode": "markers",
           "name": "Other_Service",
           "showlegend": true,
           "type": "scatter",
           "x": [
            68000
           ],
           "xaxis": "x",
           "y": [
            68000
           ],
           "yaxis": "y"
          }
         ],
         "name": "2010"
        },
        {
         "data": [
          {
           "hovertemplate": "Industry=Agriculture<br>Year=2011<br>Count=%{marker.size}<extra></extra>",
           "ids": [
            "Agriculture"
           ],
           "legendgroup": "Agriculture",
           "marker": {
            "color": "#636efa",
            "size": [
             36100
            ],
            "sizemode": "area",
            "sizeref": 1087.25,
            "symbol": "circle"
           },
           "mode": "markers",
           "name": "Agriculture",
           "showlegend": true,
           "type": "scatter",
           "x": [
            36100
           ],
           "xaxis": "x",
           "y": [
            36100
           ],
           "yaxis": "y"
          },
          {
           "hovertemplate": "Industry=Production<br>Year=2011<br>Count=%{marker.size}<extra></extra>",
           "ids": [
            "Production"
           ],
           "legendgroup": "Production",
           "marker": {
            "color": "#EF553B",
            "size": [
             158600
            ],
            "sizemode": "area",
            "sizeref": 1087.25,
            "symbol": "circle"
           },
           "mode": "markers",
           "name": "Production",
           "showlegend": true,
           "type": "scatter",
           "x": [
            158600
           ],
           "xaxis": "x",
           "y": [
            158600
           ],
           "yaxis": "y"
          },
          {
           "hovertemplate": "Industry=Construction<br>Year=2011<br>Count=%{marker.size}<extra></extra>",
           "ids": [
            "Construction"
           ],
           "legendgroup": "Construction",
           "marker": {
            "color": "#00cc96",
            "size": [
             90000
            ],
            "sizemode": "area",
            "sizeref": 1087.25,
            "symbol": "circle"
           },
           "mode": "markers",
           "name": "Construction",
           "showlegend": true,
           "type": "scatter",
           "x": [
            90000
           ],
           "xaxis": "x",
           "y": [
            90000
           ],
           "yaxis": "y"
          },
          {
           "hovertemplate": "Industry=Retail<br>Year=2011<br>Count=%{marker.size}<extra></extra>",
           "ids": [
            "Retail"
           ],
           "legendgroup": "Retail",
           "marker": {
            "color": "#ab63fa",
            "size": [
             343100
            ],
            "sizemode": "area",
            "sizeref": 1087.25,
            "symbol": "circle"
           },
           "mode": "markers",
           "name": "Retail",
           "showlegend": true,
           "type": "scatter",
           "x": [
            343100
           ],
           "xaxis": "x",
           "y": [
            343100
           ],
           "yaxis": "y"
          },
          {
           "hovertemplate": "Industry=ICT<br>Year=2011<br>Count=%{marker.size}<extra></extra>",
           "ids": [
            "ICT"
           ],
           "legendgroup": "ICT",
           "marker": {
            "color": "#FFA15A",
            "size": [
             26400
            ],
            "sizemode": "area",
            "sizeref": 1087.25,
            "symbol": "circle"
           },
           "mode": "markers",
           "name": "ICT",
           "showlegend": true,
           "type": "scatter",
           "x": [
            26400
           ],
           "xaxis": "x",
           "y": [
            26400
           ],
           "yaxis": "y"
          },
          {
           "hovertemplate": "Industry=Finance<br>Year=2011<br>Count=%{marker.size}<extra></extra>",
           "ids": [
            "Finance"
           ],
           "legendgroup": "Finance",
           "marker": {
            "color": "#19d3f3",
            "size": [
             33200
            ],
            "sizemode": "area",
            "sizeref": 1087.25,
            "symbol": "circle"
           },
           "mode": "markers",
           "name": "Finance",
           "showlegend": true,
           "type": "scatter",
           "x": [
            33200
           ],
           "xaxis": "x",
           "y": [
            33200
           ],
           "yaxis": "y"
          },
          {
           "hovertemplate": "Industry=Real_Estate<br>Year=2011<br>Count=%{marker.size}<extra></extra>",
           "ids": [
            "Real_Estate"
           ],
           "legendgroup": "Real_Estate",
           "marker": {
            "color": "#FF6692",
            "size": [
             17600
            ],
            "sizemode": "area",
            "sizeref": 1087.25,
            "symbol": "circle"
           },
           "mode": "markers",
           "name": "Real_Estate",
           "showlegend": true,
           "type": "scatter",
           "x": [
            17600
           ],
           "xaxis": "x",
           "y": [
            17600
           ],
           "yaxis": "y"
          },
          {
           "hovertemplate": "Industry=Professional_Service<br>Year=2011<br>Count=%{marker.size}<extra></extra>",
           "ids": [
            "Professional_Service"
           ],
           "legendgroup": "Professional_Service",
           "marker": {
            "color": "#B6E880",
            "size": [
             143600
            ],
            "sizemode": "area",
            "sizeref": 1087.25,
            "symbol": "circle"
           },
           "mode": "markers",
           "name": "Professional_Service",
           "showlegend": true,
           "type": "scatter",
           "x": [
            143600
           ],
           "xaxis": "x",
           "y": [
            143600
           ],
           "yaxis": "y"
          },
          {
           "hovertemplate": "Industry=Public_Adminstration<br>Year=2011<br>Count=%{marker.size}<extra></extra>",
           "ids": [
            "Public_Adminstration"
           ],
           "legendgroup": "Public_Adminstration",
           "marker": {
            "color": "#FF97FF",
            "size": [
             425600
            ],
            "sizemode": "area",
            "sizeref": 1087.25,
            "symbol": "circle"
           },
           "mode": "markers",
           "name": "Public_Adminstration",
           "showlegend": true,
           "type": "scatter",
           "x": [
            425600
           ],
           "xaxis": "x",
           "y": [
            425600
           ],
           "yaxis": "y"
          },
          {
           "hovertemplate": "Industry=Other_Service<br>Year=2011<br>Count=%{marker.size}<extra></extra>",
           "ids": [
            "Other_Service"
           ],
           "legendgroup": "Other_Service",
           "marker": {
            "color": "#FECB52",
            "size": [
             72400
            ],
            "sizemode": "area",
            "sizeref": 1087.25,
            "symbol": "circle"
           },
           "mode": "markers",
           "name": "Other_Service",
           "showlegend": true,
           "type": "scatter",
           "x": [
            72400
           ],
           "xaxis": "x",
           "y": [
            72400
           ],
           "yaxis": "y"
          }
         ],
         "name": "2011"
        },
        {
         "data": [
          {
           "hovertemplate": "Industry=Agriculture<br>Year=2012<br>Count=%{marker.size}<extra></extra>",
           "ids": [
            "Agriculture"
           ],
           "legendgroup": "Agriculture",
           "marker": {
            "color": "#636efa",
            "size": [
             36100
            ],
            "sizemode": "area",
            "sizeref": 1087.25,
            "symbol": "circle"
           },
           "mode": "markers",
           "name": "Agriculture",
           "showlegend": true,
           "type": "scatter",
           "x": [
            36100
           ],
           "xaxis": "x",
           "y": [
            36100
           ],
           "yaxis": "y"
          },
          {
           "hovertemplate": "Industry=Production<br>Year=2012<br>Count=%{marker.size}<extra></extra>",
           "ids": [
            "Production"
           ],
           "legendgroup": "Production",
           "marker": {
            "color": "#EF553B",
            "size": [
             154400
            ],
            "sizemode": "area",
            "sizeref": 1087.25,
            "symbol": "circle"
           },
           "mode": "markers",
           "name": "Production",
           "showlegend": true,
           "type": "scatter",
           "x": [
            154400
           ],
           "xaxis": "x",
           "y": [
            154400
           ],
           "yaxis": "y"
          },
          {
           "hovertemplate": "Industry=Construction<br>Year=2012<br>Count=%{marker.size}<extra></extra>",
           "ids": [
            "Construction"
           ],
           "legendgroup": "Construction",
           "marker": {
            "color": "#00cc96",
            "size": [
             91300
            ],
            "sizemode": "area",
            "sizeref": 1087.25,
            "symbol": "circle"
           },
           "mode": "markers",
           "name": "Construction",
           "showlegend": true,
           "type": "scatter",
           "x": [
            91300
           ],
           "xaxis": "x",
           "y": [
            91300
           ],
           "yaxis": "y"
          },
          {
           "hovertemplate": "Industry=Retail<br>Year=2012<br>Count=%{marker.size}<extra></extra>",
           "ids": [
            "Retail"
           ],
           "legendgroup": "Retail",
           "marker": {
            "color": "#ab63fa",
            "size": [
             347300
            ],
            "sizemode": "area",
            "sizeref": 1087.25,
            "symbol": "circle"
           },
           "mode": "markers",
           "name": "Retail",
           "showlegend": true,
           "type": "scatter",
           "x": [
            347300
           ],
           "xaxis": "x",
           "y": [
            347300
           ],
           "yaxis": "y"
          },
          {
           "hovertemplate": "Industry=ICT<br>Year=2012<br>Count=%{marker.size}<extra></extra>",
           "ids": [
            "ICT"
           ],
           "legendgroup": "ICT",
           "marker": {
            "color": "#FFA15A",
            "size": [
             27200
            ],
            "sizemode": "area",
            "sizeref": 1087.25,
            "symbol": "circle"
           },
           "mode": "markers",
           "name": "ICT",
           "showlegend": true,
           "type": "scatter",
           "x": [
            27200
           ],
           "xaxis": "x",
           "y": [
            27200
           ],
           "yaxis": "y"
          },
          {
           "hovertemplate": "Industry=Finance<br>Year=2012<br>Count=%{marker.size}<extra></extra>",
           "ids": [
            "Finance"
           ],
           "legendgroup": "Finance",
           "marker": {
            "color": "#19d3f3",
            "size": [
             31100
            ],
            "sizemode": "area",
            "sizeref": 1087.25,
            "symbol": "circle"
           },
           "mode": "markers",
           "name": "Finance",
           "showlegend": true,
           "type": "scatter",
           "x": [
            31100
           ],
           "xaxis": "x",
           "y": [
            31100
           ],
           "yaxis": "y"
          },
          {
           "hovertemplate": "Industry=Real_Estate<br>Year=2012<br>Count=%{marker.size}<extra></extra>",
           "ids": [
            "Real_Estate"
           ],
           "legendgroup": "Real_Estate",
           "marker": {
            "color": "#FF6692",
            "size": [
             18800
            ],
            "sizemode": "area",
            "sizeref": 1087.25,
            "symbol": "circle"
           },
           "mode": "markers",
           "name": "Real_Estate",
           "showlegend": true,
           "type": "scatter",
           "x": [
            18800
           ],
           "xaxis": "x",
           "y": [
            18800
           ],
           "yaxis": "y"
          },
          {
           "hovertemplate": "Industry=Professional_Service<br>Year=2012<br>Count=%{marker.size}<extra></extra>",
           "ids": [
            "Professional_Service"
           ],
           "legendgroup": "Professional_Service",
           "marker": {
            "color": "#B6E880",
            "size": [
             137300
            ],
            "sizemode": "area",
            "sizeref": 1087.25,
            "symbol": "circle"
           },
           "mode": "markers",
           "name": "Professional_Service",
           "showlegend": true,
           "type": "scatter",
           "x": [
            137300
           ],
           "xaxis": "x",
           "y": [
            137300
           ],
           "yaxis": "y"
          },
          {
           "hovertemplate": "Industry=Public_Adminstration<br>Year=2012<br>Count=%{marker.size}<extra></extra>",
           "ids": [
            "Public_Adminstration"
           ],
           "legendgroup": "Public_Adminstration",
           "marker": {
            "color": "#FF97FF",
            "size": [
             421000
            ],
            "sizemode": "area",
            "sizeref": 1087.25,
            "symbol": "circle"
           },
           "mode": "markers",
           "name": "Public_Adminstration",
           "showlegend": true,
           "type": "scatter",
           "x": [
            421000
           ],
           "xaxis": "x",
           "y": [
            421000
           ],
           "yaxis": "y"
          },
          {
           "hovertemplate": "Industry=Other_Service<br>Year=2012<br>Count=%{marker.size}<extra></extra>",
           "ids": [
            "Other_Service"
           ],
           "legendgroup": "Other_Service",
           "marker": {
            "color": "#FECB52",
            "size": [
             72800
            ],
            "sizemode": "area",
            "sizeref": 1087.25,
            "symbol": "circle"
           },
           "mode": "markers",
           "name": "Other_Service",
           "showlegend": true,
           "type": "scatter",
           "x": [
            72800
           ],
           "xaxis": "x",
           "y": [
            72800
           ],
           "yaxis": "y"
          }
         ],
         "name": "2012"
        },
        {
         "data": [
          {
           "hovertemplate": "Industry=Agriculture<br>Year=2013<br>Count=%{marker.size}<extra></extra>",
           "ids": [
            "Agriculture"
           ],
           "legendgroup": "Agriculture",
           "marker": {
            "color": "#636efa",
            "size": [
             36800
            ],
            "sizemode": "area",
            "sizeref": 1087.25,
            "symbol": "circle"
           },
           "mode": "markers",
           "name": "Agriculture",
           "showlegend": true,
           "type": "scatter",
           "x": [
            36800
           ],
           "xaxis": "x",
           "y": [
            36800
           ],
           "yaxis": "y"
          },
          {
           "hovertemplate": "Industry=Production<br>Year=2013<br>Count=%{marker.size}<extra></extra>",
           "ids": [
            "Production"
           ],
           "legendgroup": "Production",
           "marker": {
            "color": "#EF553B",
            "size": [
             164200
            ],
            "sizemode": "area",
            "sizeref": 1087.25,
            "symbol": "circle"
           },
           "mode": "markers",
           "name": "Production",
           "showlegend": true,
           "type": "scatter",
           "x": [
            164200
           ],
           "xaxis": "x",
           "y": [
            164200
           ],
           "yaxis": "y"
          },
          {
           "hovertemplate": "Industry=Construction<br>Year=2013<br>Count=%{marker.size}<extra></extra>",
           "ids": [
            "Construction"
           ],
           "legendgroup": "Construction",
           "marker": {
            "color": "#00cc96",
            "size": [
             89300
            ],
            "sizemode": "area",
            "sizeref": 1087.25,
            "symbol": "circle"
           },
           "mode": "markers",
           "name": "Construction",
           "showlegend": true,
           "type": "scatter",
           "x": [
            89300
           ],
           "xaxis": "x",
           "y": [
            89300
           ],
           "yaxis": "y"
          },
          {
           "hovertemplate": "Industry=Retail<br>Year=2013<br>Count=%{marker.size}<extra></extra>",
           "ids": [
            "Retail"
           ],
           "legendgroup": "Retail",
           "marker": {
            "color": "#ab63fa",
            "size": [
             345100
            ],
            "sizemode": "area",
            "sizeref": 1087.25,
            "symbol": "circle"
           },
           "mode": "markers",
           "name": "Retail",
           "showlegend": true,
           "type": "scatter",
           "x": [
            345100
           ],
           "xaxis": "x",
           "y": [
            345100
           ],
           "yaxis": "y"
          },
          {
           "hovertemplate": "Industry=ICT<br>Year=2013<br>Count=%{marker.size}<extra></extra>",
           "ids": [
            "ICT"
           ],
           "legendgroup": "ICT",
           "marker": {
            "color": "#FFA15A",
            "size": [
             26900
            ],
            "sizemode": "area",
            "sizeref": 1087.25,
            "symbol": "circle"
           },
           "mode": "markers",
           "name": "ICT",
           "showlegend": true,
           "type": "scatter",
           "x": [
            26900
           ],
           "xaxis": "x",
           "y": [
            26900
           ],
           "yaxis": "y"
          },
          {
           "hovertemplate": "Industry=Finance<br>Year=2013<br>Count=%{marker.size}<extra></extra>",
           "ids": [
            "Finance"
           ],
           "legendgroup": "Finance",
           "marker": {
            "color": "#19d3f3",
            "size": [
             32400
            ],
            "sizemode": "area",
            "sizeref": 1087.25,
            "symbol": "circle"
           },
           "mode": "markers",
           "name": "Finance",
           "showlegend": true,
           "type": "scatter",
           "x": [
            32400
           ],
           "xaxis": "x",
           "y": [
            32400
           ],
           "yaxis": "y"
          },
          {
           "hovertemplate": "Industry=Real_Estate<br>Year=2013<br>Count=%{marker.size}<extra></extra>",
           "ids": [
            "Real_Estate"
           ],
           "legendgroup": "Real_Estate",
           "marker": {
            "color": "#FF6692",
            "size": [
             18000
            ],
            "sizemode": "area",
            "sizeref": 1087.25,
            "symbol": "circle"
           },
           "mode": "markers",
           "name": "Real_Estate",
           "showlegend": true,
           "type": "scatter",
           "x": [
            18000
           ],
           "xaxis": "x",
           "y": [
            18000
           ],
           "yaxis": "y"
          },
          {
           "hovertemplate": "Industry=Professional_Service<br>Year=2013<br>Count=%{marker.size}<extra></extra>",
           "ids": [
            "Professional_Service"
           ],
           "legendgroup": "Professional_Service",
           "marker": {
            "color": "#B6E880",
            "size": [
             149900
            ],
            "sizemode": "area",
            "sizeref": 1087.25,
            "symbol": "circle"
           },
           "mode": "markers",
           "name": "Professional_Service",
           "showlegend": true,
           "type": "scatter",
           "x": [
            149900
           ],
           "xaxis": "x",
           "y": [
            149900
           ],
           "yaxis": "y"
          },
          {
           "hovertemplate": "Industry=Public_Adminstration<br>Year=2013<br>Count=%{marker.size}<extra></extra>",
           "ids": [
            "Public_Adminstration"
           ],
           "legendgroup": "Public_Adminstration",
           "marker": {
            "color": "#FF97FF",
            "size": [
             427000
            ],
            "sizemode": "area",
            "sizeref": 1087.25,
            "symbol": "circle"
           },
           "mode": "markers",
           "name": "Public_Adminstration",
           "showlegend": true,
           "type": "scatter",
           "x": [
            427000
           ],
           "xaxis": "x",
           "y": [
            427000
           ],
           "yaxis": "y"
          },
          {
           "hovertemplate": "Industry=Other_Service<br>Year=2013<br>Count=%{marker.size}<extra></extra>",
           "ids": [
            "Other_Service"
           ],
           "legendgroup": "Other_Service",
           "marker": {
            "color": "#FECB52",
            "size": [
             75500
            ],
            "sizemode": "area",
            "sizeref": 1087.25,
            "symbol": "circle"
           },
           "mode": "markers",
           "name": "Other_Service",
           "showlegend": true,
           "type": "scatter",
           "x": [
            75500
           ],
           "xaxis": "x",
           "y": [
            75500
           ],
           "yaxis": "y"
          }
         ],
         "name": "2013"
        },
        {
         "data": [
          {
           "hovertemplate": "Industry=Agriculture<br>Year=2014<br>Count=%{marker.size}<extra></extra>",
           "ids": [
            "Agriculture"
           ],
           "legendgroup": "Agriculture",
           "marker": {
            "color": "#636efa",
            "size": [
             42700
            ],
            "sizemode": "area",
            "sizeref": 1087.25,
            "symbol": "circle"
           },
           "mode": "markers",
           "name": "Agriculture",
           "showlegend": true,
           "type": "scatter",
           "x": [
            42700
           ],
           "xaxis": "x",
           "y": [
            42700
           ],
           "yaxis": "y"
          },
          {
           "hovertemplate": "Industry=Production<br>Year=2014<br>Count=%{marker.size}<extra></extra>",
           "ids": [
            "Production"
           ],
           "legendgroup": "Production",
           "marker": {
            "color": "#EF553B",
            "size": [
             173300
            ],
            "sizemode": "area",
            "sizeref": 1087.25,
            "symbol": "circle"
           },
           "mode": "markers",
           "name": "Production",
           "showlegend": true,
           "type": "scatter",
           "x": [
            173300
           ],
           "xaxis": "x",
           "y": [
            173300
           ],
           "yaxis": "y"
          },
          {
           "hovertemplate": "Industry=Construction<br>Year=2014<br>Count=%{marker.size}<extra></extra>",
           "ids": [
            "Construction"
           ],
           "legendgroup": "Construction",
           "marker": {
            "color": "#00cc96",
            "size": [
             97000
            ],
            "sizemode": "area",
            "sizeref": 1087.25,
            "symbol": "circle"
           },
           "mode": "markers",
           "name": "Construction",
           "showlegend": true,
           "type": "scatter",
           "x": [
            97000
           ],
           "xaxis": "x",
           "y": [
            97000
           ],
           "yaxis": "y"
          },
          {
           "hovertemplate": "Industry=Retail<br>Year=2014<br>Count=%{marker.size}<extra></extra>",
           "ids": [
            "Retail"
           ],
           "legendgroup": "Retail",
           "marker": {
            "color": "#ab63fa",
            "size": [
             337300
            ],
            "sizemode": "area",
            "sizeref": 1087.25,
            "symbol": "circle"
           },
           "mode": "markers",
           "name": "Retail",
           "showlegend": true,
           "type": "scatter",
           "x": [
            337300
           ],
           "xaxis": "x",
           "y": [
            337300
           ],
           "yaxis": "y"
          },
          {
           "hovertemplate": "Industry=ICT<br>Year=2014<br>Count=%{marker.size}<extra></extra>",
           "ids": [
            "ICT"
           ],
           "legendgroup": "ICT",
           "marker": {
            "color": "#FFA15A",
            "size": [
             35700
            ],
            "sizemode": "area",
            "sizeref": 1087.25,
            "symbol": "circle"
           },
           "mode": "markers",
           "name": "ICT",
           "showlegend": true,
           "type": "scatter",
           "x": [
            35700
           ],
           "xaxis": "x",
           "y": [
            35700
           ],
           "yaxis": "y"
          },
          {
           "hovertemplate": "Industry=Finance<br>Year=2014<br>Count=%{marker.size}<extra></extra>",
           "ids": [
            "Finance"
           ],
           "legendgroup": "Finance",
           "marker": {
            "color": "#19d3f3",
            "size": [
             32400
            ],
            "sizemode": "area",
            "sizeref": 1087.25,
            "symbol": "circle"
           },
           "mode": "markers",
           "name": "Finance",
           "showlegend": true,
           "type": "scatter",
           "x": [
            32400
           ],
           "xaxis": "x",
           "y": [
            32400
           ],
           "yaxis": "y"
          },
          {
           "hovertemplate": "Industry=Real_Estate<br>Year=2014<br>Count=%{marker.size}<extra></extra>",
           "ids": [
            "Real_Estate"
           ],
           "legendgroup": "Real_Estate",
           "marker": {
            "color": "#FF6692",
            "size": [
             22200
            ],
            "sizemode": "area",
            "sizeref": 1087.25,
            "symbol": "circle"
           },
           "mode": "markers",
           "name": "Real_Estate",
           "showlegend": true,
           "type": "scatter",
           "x": [
            22200
           ],
           "xaxis": "x",
           "y": [
            22200
           ],
           "yaxis": "y"
          },
          {
           "hovertemplate": "Industry=Professional_Service<br>Year=2014<br>Count=%{marker.size}<extra></extra>",
           "ids": [
            "Professional_Service"
           ],
           "legendgroup": "Professional_Service",
           "marker": {
            "color": "#B6E880",
            "size": [
             152900
            ],
            "sizemode": "area",
            "sizeref": 1087.25,
            "symbol": "circle"
           },
           "mode": "markers",
           "name": "Professional_Service",
           "showlegend": true,
           "type": "scatter",
           "x": [
            152900
           ],
           "xaxis": "x",
           "y": [
            152900
           ],
           "yaxis": "y"
          },
          {
           "hovertemplate": "Industry=Public_Adminstration<br>Year=2014<br>Count=%{marker.size}<extra></extra>",
           "ids": [
            "Public_Adminstration"
           ],
           "legendgroup": "Public_Adminstration",
           "marker": {
            "color": "#FF97FF",
            "size": [
             427600
            ],
            "sizemode": "area",
            "sizeref": 1087.25,
            "symbol": "circle"
           },
           "mode": "markers",
           "name": "Public_Adminstration",
           "showlegend": true,
           "type": "scatter",
           "x": [
            427600
           ],
           "xaxis": "x",
           "y": [
            427600
           ],
           "yaxis": "y"
          },
          {
           "hovertemplate": "Industry=Other_Service<br>Year=2014<br>Count=%{marker.size}<extra></extra>",
           "ids": [
            "Other_Service"
           ],
           "legendgroup": "Other_Service",
           "marker": {
            "color": "#FECB52",
            "size": [
             73300
            ],
            "sizemode": "area",
            "sizeref": 1087.25,
            "symbol": "circle"
           },
           "mode": "markers",
           "name": "Other_Service",
           "showlegend": true,
           "type": "scatter",
           "x": [
            73300
           ],
           "xaxis": "x",
           "y": [
            73300
           ],
           "yaxis": "y"
          }
         ],
         "name": "2014"
        },
        {
         "data": [
          {
           "hovertemplate": "Industry=Agriculture<br>Year=2015<br>Count=%{marker.size}<extra></extra>",
           "ids": [
            "Agriculture"
           ],
           "legendgroup": "Agriculture",
           "marker": {
            "color": "#636efa",
            "size": [
             40700
            ],
            "sizemode": "area",
            "sizeref": 1087.25,
            "symbol": "circle"
           },
           "mode": "markers",
           "name": "Agriculture",
           "showlegend": true,
           "type": "scatter",
           "x": [
            40700
           ],
           "xaxis": "x",
           "y": [
            40700
           ],
           "yaxis": "y"
          },
          {
           "hovertemplate": "Industry=Production<br>Year=2015<br>Count=%{marker.size}<extra></extra>",
           "ids": [
            "Production"
           ],
           "legendgroup": "Production",
           "marker": {
            "color": "#EF553B",
            "size": [
             172300
            ],
            "sizemode": "area",
            "sizeref": 1087.25,
            "symbol": "circle"
           },
           "mode": "markers",
           "name": "Production",
           "showlegend": true,
           "type": "scatter",
           "x": [
            172300
           ],
           "xaxis": "x",
           "y": [
            172300
           ],
           "yaxis": "y"
          },
          {
           "hovertemplate": "Industry=Construction<br>Year=2015<br>Count=%{marker.size}<extra></extra>",
           "ids": [
            "Construction"
           ],
           "legendgroup": "Construction",
           "marker": {
            "color": "#00cc96",
            "size": [
             92600
            ],
            "sizemode": "area",
            "sizeref": 1087.25,
            "symbol": "circle"
           },
           "mode": "markers",
           "name": "Construction",
           "showlegend": true,
           "type": "scatter",
           "x": [
            92600
           ],
           "xaxis": "x",
           "y": [
            92600
           ],
           "yaxis": "y"
          },
          {
           "hovertemplate": "Industry=Retail<br>Year=2015<br>Count=%{marker.size}<extra></extra>",
           "ids": [
            "Retail"
           ],
           "legendgroup": "Retail",
           "marker": {
            "color": "#ab63fa",
            "size": [
             357700
            ],
            "sizemode": "area",
            "sizeref": 1087.25,
            "symbol": "circle"
           },
           "mode": "markers",
           "name": "Retail",
           "showlegend": true,
           "type": "scatter",
           "x": [
            357700
           ],
           "xaxis": "x",
           "y": [
            357700
           ],
           "yaxis": "y"
          },
          {
           "hovertemplate": "Industry=ICT<br>Year=2015<br>Count=%{marker.size}<extra></extra>",
           "ids": [
            "ICT"
           ],
           "legendgroup": "ICT",
           "marker": {
            "color": "#FFA15A",
            "size": [
             24000
            ],
            "sizemode": "area",
            "sizeref": 1087.25,
            "symbol": "circle"
           },
           "mode": "markers",
           "name": "ICT",
           "showlegend": true,
           "type": "scatter",
           "x": [
            24000
           ],
           "xaxis": "x",
           "y": [
            24000
           ],
           "yaxis": "y"
          },
          {
           "hovertemplate": "Industry=Finance<br>Year=2015<br>Count=%{marker.size}<extra></extra>",
           "ids": [
            "Finance"
           ],
           "legendgroup": "Finance",
           "marker": {
            "color": "#19d3f3",
            "size": [
             30800
            ],
            "sizemode": "area",
            "sizeref": 1087.25,
            "symbol": "circle"
           },
           "mode": "markers",
           "name": "Finance",
           "showlegend": true,
           "type": "scatter",
           "x": [
            30800
           ],
           "xaxis": "x",
           "y": [
            30800
           ],
           "yaxis": "y"
          },
          {
           "hovertemplate": "Industry=Real_Estate<br>Year=2015<br>Count=%{marker.size}<extra></extra>",
           "ids": [
            "Real_Estate"
           ],
           "legendgroup": "Real_Estate",
           "marker": {
            "color": "#FF6692",
            "size": [
             19100
            ],
            "sizemode": "area",
            "sizeref": 1087.25,
            "symbol": "circle"
           },
           "mode": "markers",
           "name": "Real_Estate",
           "showlegend": true,
           "type": "scatter",
           "x": [
            19100
           ],
           "xaxis": "x",
           "y": [
            19100
           ],
           "yaxis": "y"
          },
          {
           "hovertemplate": "Industry=Professional_Service<br>Year=2015<br>Count=%{marker.size}<extra></extra>",
           "ids": [
            "Professional_Service"
           ],
           "legendgroup": "Professional_Service",
           "marker": {
            "color": "#B6E880",
            "size": [
             166200
            ],
            "sizemode": "area",
            "sizeref": 1087.25,
            "symbol": "circle"
           },
           "mode": "markers",
           "name": "Professional_Service",
           "showlegend": true,
           "type": "scatter",
           "x": [
            166200
           ],
           "xaxis": "x",
           "y": [
            166200
           ],
           "yaxis": "y"
          },
          {
           "hovertemplate": "Industry=Public_Adminstration<br>Year=2015<br>Count=%{marker.size}<extra></extra>",
           "ids": [
            "Public_Adminstration"
           ],
           "legendgroup": "Public_Adminstration",
           "marker": {
            "color": "#FF97FF",
            "size": [
             423200
            ],
            "sizemode": "area",
            "sizeref": 1087.25,
            "symbol": "circle"
           },
           "mode": "markers",
           "name": "Public_Adminstration",
           "showlegend": true,
           "type": "scatter",
           "x": [
            423200
           ],
           "xaxis": "x",
           "y": [
            423200
           ],
           "yaxis": "y"
          },
          {
           "hovertemplate": "Industry=Other_Service<br>Year=2015<br>Count=%{marker.size}<extra></extra>",
           "ids": [
            "Other_Service"
           ],
           "legendgroup": "Other_Service",
           "marker": {
            "color": "#FECB52",
            "size": [
             77200
            ],
            "sizemode": "area",
            "sizeref": 1087.25,
            "symbol": "circle"
           },
           "mode": "markers",
           "name": "Other_Service",
           "showlegend": true,
           "type": "scatter",
           "x": [
            77200
           ],
           "xaxis": "x",
           "y": [
            77200
           ],
           "yaxis": "y"
          }
         ],
         "name": "2015"
        },
        {
         "data": [
          {
           "hovertemplate": "Industry=Agriculture<br>Year=2016<br>Count=%{marker.size}<extra></extra>",
           "ids": [
            "Agriculture"
           ],
           "legendgroup": "Agriculture",
           "marker": {
            "color": "#636efa",
            "size": [
             43200
            ],
            "sizemode": "area",
            "sizeref": 1087.25,
            "symbol": "circle"
           },
           "mode": "markers",
           "name": "Agriculture",
           "showlegend": true,
           "type": "scatter",
           "x": [
            43200
           ],
           "xaxis": "x",
           "y": [
            43200
           ],
           "yaxis": "y"
          },
          {
           "hovertemplate": "Industry=Production<br>Year=2016<br>Count=%{marker.size}<extra></extra>",
           "ids": [
            "Production"
           ],
           "legendgroup": "Production",
           "marker": {
            "color": "#EF553B",
            "size": [
             162500
            ],
            "sizemode": "area",
            "sizeref": 1087.25,
            "symbol": "circle"
           },
           "mode": "markers",
           "name": "Production",
           "showlegend": true,
           "type": "scatter",
           "x": [
            162500
           ],
           "xaxis": "x",
           "y": [
            162500
           ],
           "yaxis": "y"
          },
          {
           "hovertemplate": "Industry=Construction<br>Year=2016<br>Count=%{marker.size}<extra></extra>",
           "ids": [
            "Construction"
           ],
           "legendgroup": "Construction",
           "marker": {
            "color": "#00cc96",
            "size": [
             102700
            ],
            "sizemode": "area",
            "sizeref": 1087.25,
            "symbol": "circle"
           },
           "mode": "markers",
           "name": "Construction",
           "showlegend": true,
           "type": "scatter",
           "x": [
            102700
           ],
           "xaxis": "x",
           "y": [
            102700
           ],
           "yaxis": "y"
          },
          {
           "hovertemplate": "Industry=Retail<br>Year=2016<br>Count=%{marker.size}<extra></extra>",
           "ids": [
            "Retail"
           ],
           "legendgroup": "Retail",
           "marker": {
            "color": "#ab63fa",
            "size": [
             360200
            ],
            "sizemode": "area",
            "sizeref": 1087.25,
            "symbol": "circle"
           },
           "mode": "markers",
           "name": "Retail",
           "showlegend": true,
           "type": "scatter",
           "x": [
            360200
           ],
           "xaxis": "x",
           "y": [
            360200
           ],
           "yaxis": "y"
          },
          {
           "hovertemplate": "Industry=ICT<br>Year=2016<br>Count=%{marker.size}<extra></extra>",
           "ids": [
            "ICT"
           ],
           "legendgroup": "ICT",
           "marker": {
            "color": "#FFA15A",
            "size": [
             34400
            ],
            "sizemode": "area",
            "sizeref": 1087.25,
            "symbol": "circle"
           },
           "mode": "markers",
           "name": "ICT",
           "showlegend": true,
           "type": "scatter",
           "x": [
            34400
           ],
           "xaxis": "x",
           "y": [
            34400
           ],
           "yaxis": "y"
          },
          {
           "hovertemplate": "Industry=Finance<br>Year=2016<br>Count=%{marker.size}<extra></extra>",
           "ids": [
            "Finance"
           ],
           "legendgroup": "Finance",
           "marker": {
            "color": "#19d3f3",
            "size": [
             31000
            ],
            "sizemode": "area",
            "sizeref": 1087.25,
            "symbol": "circle"
           },
           "mode": "markers",
           "name": "Finance",
           "showlegend": true,
           "type": "scatter",
           "x": [
            31000
           ],
           "xaxis": "x",
           "y": [
            31000
           ],
           "yaxis": "y"
          },
          {
           "hovertemplate": "Industry=Real_Estate<br>Year=2016<br>Count=%{marker.size}<extra></extra>",
           "ids": [
            "Real_Estate"
           ],
           "legendgroup": "Real_Estate",
           "marker": {
            "color": "#FF6692",
            "size": [
             22700
            ],
            "sizemode": "area",
            "sizeref": 1087.25,
            "symbol": "circle"
           },
           "mode": "markers",
           "name": "Real_Estate",
           "showlegend": true,
           "type": "scatter",
           "x": [
            22700
           ],
           "xaxis": "x",
           "y": [
            22700
           ],
           "yaxis": "y"
          },
          {
           "hovertemplate": "Industry=Professional_Service<br>Year=2016<br>Count=%{marker.size}<extra></extra>",
           "ids": [
            "Professional_Service"
           ],
           "legendgroup": "Professional_Service",
           "marker": {
            "color": "#B6E880",
            "size": [
             161200
            ],
            "sizemode": "area",
            "sizeref": 1087.25,
            "symbol": "circle"
           },
           "mode": "markers",
           "name": "Professional_Service",
           "showlegend": true,
           "type": "scatter",
           "x": [
            161200
           ],
           "xaxis": "x",
           "y": [
            161200
           ],
           "yaxis": "y"
          },
          {
           "hovertemplate": "Industry=Public_Adminstration<br>Year=2016<br>Count=%{marker.size}<extra></extra>",
           "ids": [
            "Public_Adminstration"
           ],
           "legendgroup": "Public_Adminstration",
           "marker": {
            "color": "#FF97FF",
            "size": [
             418500
            ],
            "sizemode": "area",
            "sizeref": 1087.25,
            "symbol": "circle"
           },
           "mode": "markers",
           "name": "Public_Adminstration",
           "showlegend": true,
           "type": "scatter",
           "x": [
            418500
           ],
           "xaxis": "x",
           "y": [
            418500
           ],
           "yaxis": "y"
          },
          {
           "hovertemplate": "Industry=Other_Service<br>Year=2016<br>Count=%{marker.size}<extra></extra>",
           "ids": [
            "Other_Service"
           ],
           "legendgroup": "Other_Service",
           "marker": {
            "color": "#FECB52",
            "size": [
             72400
            ],
            "sizemode": "area",
            "sizeref": 1087.25,
            "symbol": "circle"
           },
           "mode": "markers",
           "name": "Other_Service",
           "showlegend": true,
           "type": "scatter",
           "x": [
            72400
           ],
           "xaxis": "x",
           "y": [
            72400
           ],
           "yaxis": "y"
          }
         ],
         "name": "2016"
        },
        {
         "data": [
          {
           "hovertemplate": "Industry=Agriculture<br>Year=2017<br>Count=%{marker.size}<extra></extra>",
           "ids": [
            "Agriculture"
           ],
           "legendgroup": "Agriculture",
           "marker": {
            "color": "#636efa",
            "size": [
             40200
            ],
            "sizemode": "area",
            "sizeref": 1087.25,
            "symbol": "circle"
           },
           "mode": "markers",
           "name": "Agriculture",
           "showlegend": true,
           "type": "scatter",
           "x": [
            40200
           ],
           "xaxis": "x",
           "y": [
            40200
           ],
           "yaxis": "y"
          },
          {
           "hovertemplate": "Industry=Production<br>Year=2017<br>Count=%{marker.size}<extra></extra>",
           "ids": [
            "Production"
           ],
           "legendgroup": "Production",
           "marker": {
            "color": "#EF553B",
            "size": [
             165100
            ],
            "sizemode": "area",
            "sizeref": 1087.25,
            "symbol": "circle"
           },
           "mode": "markers",
           "name": "Production",
           "showlegend": true,
           "type": "scatter",
           "x": [
            165100
           ],
           "xaxis": "x",
           "y": [
            165100
           ],
           "yaxis": "y"
          },
          {
           "hovertemplate": "Industry=Construction<br>Year=2017<br>Count=%{marker.size}<extra></extra>",
           "ids": [
            "Construction"
           ],
           "legendgroup": "Construction",
           "marker": {
            "color": "#00cc96",
            "size": [
             90800
            ],
            "sizemode": "area",
            "sizeref": 1087.25,
            "symbol": "circle"
           },
           "mode": "markers",
           "name": "Construction",
           "showlegend": true,
           "type": "scatter",
           "x": [
            90800
           ],
           "xaxis": "x",
           "y": [
            90800
           ],
           "yaxis": "y"
          },
          {
           "hovertemplate": "Industry=Retail<br>Year=2017<br>Count=%{marker.size}<extra></extra>",
           "ids": [
            "Retail"
           ],
           "legendgroup": "Retail",
           "marker": {
            "color": "#ab63fa",
            "size": [
             333500
            ],
            "sizemode": "area",
            "sizeref": 1087.25,
            "symbol": "circle"
           },
           "mode": "markers",
           "name": "Retail",
           "showlegend": true,
           "type": "scatter",
           "x": [
            333500
           ],
           "xaxis": "x",
           "y": [
            333500
           ],
           "yaxis": "y"
          },
          {
           "hovertemplate": "Industry=ICT<br>Year=2017<br>Count=%{marker.size}<extra></extra>",
           "ids": [
            "ICT"
           ],
           "legendgroup": "ICT",
           "marker": {
            "color": "#FFA15A",
            "size": [
             58900
            ],
            "sizemode": "area",
            "sizeref": 1087.25,
            "symbol": "circle"
           },
           "mode": "markers",
           "name": "ICT",
           "showlegend": true,
           "type": "scatter",
           "x": [
            58900
           ],
           "xaxis": "x",
           "y": [
            58900
           ],
           "yaxis": "y"
          },
          {
           "hovertemplate": "Industry=Finance<br>Year=2017<br>Count=%{marker.size}<extra></extra>",
           "ids": [
            "Finance"
           ],
           "legendgroup": "Finance",
           "marker": {
            "color": "#19d3f3",
            "size": [
             32100
            ],
            "sizemode": "area",
            "sizeref": 1087.25,
            "symbol": "circle"
           },
           "mode": "markers",
           "name": "Finance",
           "showlegend": true,
           "type": "scatter",
           "x": [
            32100
           ],
           "xaxis": "x",
           "y": [
            32100
           ],
           "yaxis": "y"
          },
          {
           "hovertemplate": "Industry=Real_Estate<br>Year=2017<br>Count=%{marker.size}<extra></extra>",
           "ids": [
            "Real_Estate"
           ],
           "legendgroup": "Real_Estate",
           "marker": {
            "color": "#FF6692",
            "size": [
             18200
            ],
            "sizemode": "area",
            "sizeref": 1087.25,
            "symbol": "circle"
           },
           "mode": "markers",
           "name": "Real_Estate",
           "showlegend": true,
           "type": "scatter",
           "x": [
            18200
           ],
           "xaxis": "x",
           "y": [
            18200
           ],
           "yaxis": "y"
          },
          {
           "hovertemplate": "Industry=Professional_Service<br>Year=2017<br>Count=%{marker.size}<extra></extra>",
           "ids": [
            "Professional_Service"
           ],
           "legendgroup": "Professional_Service",
           "marker": {
            "color": "#B6E880",
            "size": [
             176400
            ],
            "sizemode": "area",
            "sizeref": 1087.25,
            "symbol": "circle"
           },
           "mode": "markers",
           "name": "Professional_Service",
           "showlegend": true,
           "type": "scatter",
           "x": [
            176400
           ],
           "xaxis": "x",
           "y": [
            176400
           ],
           "yaxis": "y"
          },
          {
           "hovertemplate": "Industry=Public_Adminstration<br>Year=2017<br>Count=%{marker.size}<extra></extra>",
           "ids": [
            "Public_Adminstration"
           ],
           "legendgroup": "Public_Adminstration",
           "marker": {
            "color": "#FF97FF",
            "size": [
             424500
            ],
            "sizemode": "area",
            "sizeref": 1087.25,
            "symbol": "circle"
           },
           "mode": "markers",
           "name": "Public_Adminstration",
           "showlegend": true,
           "type": "scatter",
           "x": [
            424500
           ],
           "xaxis": "x",
           "y": [
            424500
           ],
           "yaxis": "y"
          },
          {
           "hovertemplate": "Industry=Other_Service<br>Year=2017<br>Count=%{marker.size}<extra></extra>",
           "ids": [
            "Other_Service"
           ],
           "legendgroup": "Other_Service",
           "marker": {
            "color": "#FECB52",
            "size": [
             83200
            ],
            "sizemode": "area",
            "sizeref": 1087.25,
            "symbol": "circle"
           },
           "mode": "markers",
           "name": "Other_Service",
           "showlegend": true,
           "type": "scatter",
           "x": [
            83200
           ],
           "xaxis": "x",
           "y": [
            83200
           ],
           "yaxis": "y"
          }
         ],
         "name": "2017"
        },
        {
         "data": [
          {
           "hovertemplate": "Industry=Agriculture<br>Year=2018<br>Count=%{marker.size}<extra></extra>",
           "ids": [
            "Agriculture"
           ],
           "legendgroup": "Agriculture",
           "marker": {
            "color": "#636efa",
            "size": [
             41100
            ],
            "sizemode": "area",
            "sizeref": 1087.25,
            "symbol": "circle"
           },
           "mode": "markers",
           "name": "Agriculture",
           "showlegend": true,
           "type": "scatter",
           "x": [
            41100
           ],
           "xaxis": "x",
           "y": [
            41100
           ],
           "yaxis": "y"
          },
          {
           "hovertemplate": "Industry=Production<br>Year=2018<br>Count=%{marker.size}<extra></extra>",
           "ids": [
            "Production"
           ],
           "legendgroup": "Production",
           "marker": {
            "color": "#EF553B",
            "size": [
             165700
            ],
            "sizemode": "area",
            "sizeref": 1087.25,
            "symbol": "circle"
           },
           "mode": "markers",
           "name": "Production",
           "showlegend": true,
           "type": "scatter",
           "x": [
            165700
           ],
           "xaxis": "x",
           "y": [
            165700
           ],
           "yaxis": "y"
          },
          {
           "hovertemplate": "Industry=Construction<br>Year=2018<br>Count=%{marker.size}<extra></extra>",
           "ids": [
            "Construction"
           ],
           "legendgroup": "Construction",
           "marker": {
            "color": "#00cc96",
            "size": [
             101800
            ],
            "sizemode": "area",
            "sizeref": 1087.25,
            "symbol": "circle"
           },
           "mode": "markers",
           "name": "Construction",
           "showlegend": true,
           "type": "scatter",
           "x": [
            101800
           ],
           "xaxis": "x",
           "y": [
            101800
           ],
           "yaxis": "y"
          },
          {
           "hovertemplate": "Industry=Retail<br>Year=2018<br>Count=%{marker.size}<extra></extra>",
           "ids": [
            "Retail"
           ],
           "legendgroup": "Retail",
           "marker": {
            "color": "#ab63fa",
            "size": [
             347600
            ],
            "sizemode": "area",
            "sizeref": 1087.25,
            "symbol": "circle"
           },
           "mode": "markers",
           "name": "Retail",
           "showlegend": true,
           "type": "scatter",
           "x": [
            347600
           ],
           "xaxis": "x",
           "y": [
            347600
           ],
           "yaxis": "y"
          },
          {
           "hovertemplate": "Industry=ICT<br>Year=2018<br>Count=%{marker.size}<extra></extra>",
           "ids": [
            "ICT"
           ],
           "legendgroup": "ICT",
           "marker": {
            "color": "#FFA15A",
            "size": [
             31500
            ],
            "sizemode": "area",
            "sizeref": 1087.25,
            "symbol": "circle"
           },
           "mode": "markers",
           "name": "ICT",
           "showlegend": true,
           "type": "scatter",
           "x": [
            31500
           ],
           "xaxis": "x",
           "y": [
            31500
           ],
           "yaxis": "y"
          },
          {
           "hovertemplate": "Industry=Finance<br>Year=2018<br>Count=%{marker.size}<extra></extra>",
           "ids": [
            "Finance"
           ],
           "legendgroup": "Finance",
           "marker": {
            "color": "#19d3f3",
            "size": [
             35500
            ],
            "sizemode": "area",
            "sizeref": 1087.25,
            "symbol": "circle"
           },
           "mode": "markers",
           "name": "Finance",
           "showlegend": true,
           "type": "scatter",
           "x": [
            35500
           ],
           "xaxis": "x",
           "y": [
            35500
           ],
           "yaxis": "y"
          },
          {
           "hovertemplate": "Industry=Real_Estate<br>Year=2018<br>Count=%{marker.size}<extra></extra>",
           "ids": [
            "Real_Estate"
           ],
           "legendgroup": "Real_Estate",
           "marker": {
            "color": "#FF6692",
            "size": [
             25200
            ],
            "sizemode": "area",
            "sizeref": 1087.25,
            "symbol": "circle"
           },
           "mode": "markers",
           "name": "Real_Estate",
           "showlegend": true,
           "type": "scatter",
           "x": [
            25200
           ],
           "xaxis": "x",
           "y": [
            25200
           ],
           "yaxis": "y"
          },
          {
           "hovertemplate": "Industry=Professional_Service<br>Year=2018<br>Count=%{marker.size}<extra></extra>",
           "ids": [
            "Professional_Service"
           ],
           "legendgroup": "Professional_Service",
           "marker": {
            "color": "#B6E880",
            "size": [
             187100
            ],
            "sizemode": "area",
            "sizeref": 1087.25,
            "symbol": "circle"
           },
           "mode": "markers",
           "name": "Professional_Service",
           "showlegend": true,
           "type": "scatter",
           "x": [
            187100
           ],
           "xaxis": "x",
           "y": [
            187100
           ],
           "yaxis": "y"
          },
          {
           "hovertemplate": "Industry=Public_Adminstration<br>Year=2018<br>Count=%{marker.size}<extra></extra>",
           "ids": [
            "Public_Adminstration"
           ],
           "legendgroup": "Public_Adminstration",
           "marker": {
            "color": "#FF97FF",
            "size": [
             434900
            ],
            "sizemode": "area",
            "sizeref": 1087.25,
            "symbol": "circle"
           },
           "mode": "markers",
           "name": "Public_Adminstration",
           "showlegend": true,
           "type": "scatter",
           "x": [
            434900
           ],
           "xaxis": "x",
           "y": [
            434900
           ],
           "yaxis": "y"
          },
          {
           "hovertemplate": "Industry=Other_Service<br>Year=2018<br>Count=%{marker.size}<extra></extra>",
           "ids": [
            "Other_Service"
           ],
           "legendgroup": "Other_Service",
           "marker": {
            "color": "#FECB52",
            "size": [
             81800
            ],
            "sizemode": "area",
            "sizeref": 1087.25,
            "symbol": "circle"
           },
           "mode": "markers",
           "name": "Other_Service",
           "showlegend": true,
           "type": "scatter",
           "x": [
            81800
           ],
           "xaxis": "x",
           "y": [
            81800
           ],
           "yaxis": "y"
          }
         ],
         "name": "2018"
        }
       ],
       "layout": {
        "legend": {
         "itemsizing": "constant",
         "title": {
          "text": "Industry"
         },
         "tracegroupgap": 0
        },
        "sliders": [
         {
          "active": 0,
          "currentvalue": {
           "prefix": "Year="
          },
          "len": 0.9,
          "pad": {
           "b": 10,
           "t": 60
          },
          "steps": [
           {
            "args": [
             [
              "2009"
             ],
             {
              "frame": {
               "duration": 0,
               "redraw": false
              },
              "fromcurrent": true,
              "mode": "immediate",
              "transition": {
               "duration": 0,
               "easing": "linear"
              }
             }
            ],
            "label": "2009",
            "method": "animate"
           },
           {
            "args": [
             [
              "2010"
             ],
             {
              "frame": {
               "duration": 0,
               "redraw": false
              },
              "fromcurrent": true,
              "mode": "immediate",
              "transition": {
               "duration": 0,
               "easing": "linear"
              }
             }
            ],
            "label": "2010",
            "method": "animate"
           },
           {
            "args": [
             [
              "2011"
             ],
             {
              "frame": {
               "duration": 0,
               "redraw": false
              },
              "fromcurrent": true,
              "mode": "immediate",
              "transition": {
               "duration": 0,
               "easing": "linear"
              }
             }
            ],
            "label": "2011",
            "method": "animate"
           },
           {
            "args": [
             [
              "2012"
             ],
             {
              "frame": {
               "duration": 0,
               "redraw": false
              },
              "fromcurrent": true,
              "mode": "immediate",
              "transition": {
               "duration": 0,
               "easing": "linear"
              }
             }
            ],
            "label": "2012",
            "method": "animate"
           },
           {
            "args": [
             [
              "2013"
             ],
             {
              "frame": {
               "duration": 0,
               "redraw": false
              },
              "fromcurrent": true,
              "mode": "immediate",
              "transition": {
               "duration": 0,
               "easing": "linear"
              }
             }
            ],
            "label": "2013",
            "method": "animate"
           },
           {
            "args": [
             [
              "2014"
             ],
             {
              "frame": {
               "duration": 0,
               "redraw": false
              },
              "fromcurrent": true,
              "mode": "immediate",
              "transition": {
               "duration": 0,
               "easing": "linear"
              }
             }
            ],
            "label": "2014",
            "method": "animate"
           },
           {
            "args": [
             [
              "2015"
             ],
             {
              "frame": {
               "duration": 0,
               "redraw": false
              },
              "fromcurrent": true,
              "mode": "immediate",
              "transition": {
               "duration": 0,
               "easing": "linear"
              }
             }
            ],
            "label": "2015",
            "method": "animate"
           },
           {
            "args": [
             [
              "2016"
             ],
             {
              "frame": {
               "duration": 0,
               "redraw": false
              },
              "fromcurrent": true,
              "mode": "immediate",
              "transition": {
               "duration": 0,
               "easing": "linear"
              }
             }
            ],
            "label": "2016",
            "method": "animate"
           },
           {
            "args": [
             [
              "2017"
             ],
             {
              "frame": {
               "duration": 0,
               "redraw": false
              },
              "fromcurrent": true,
              "mode": "immediate",
              "transition": {
               "duration": 0,
               "easing": "linear"
              }
             }
            ],
            "label": "2017",
            "method": "animate"
           },
           {
            "args": [
             [
              "2018"
             ],
             {
              "frame": {
               "duration": 0,
               "redraw": false
              },
              "fromcurrent": true,
              "mode": "immediate",
              "transition": {
               "duration": 0,
               "easing": "linear"
              }
             }
            ],
            "label": "2018",
            "method": "animate"
           }
          ],
          "x": 0.1,
          "xanchor": "left",
          "y": 0,
          "yanchor": "top"
         }
        ],
        "template": {
         "data": {
          "bar": [
           {
            "error_x": {
             "color": "#2a3f5f"
            },
            "error_y": {
             "color": "#2a3f5f"
            },
            "marker": {
             "line": {
              "color": "#E5ECF6",
              "width": 0.5
             }
            },
            "type": "bar"
           }
          ],
          "barpolar": [
           {
            "marker": {
             "line": {
              "color": "#E5ECF6",
              "width": 0.5
             }
            },
            "type": "barpolar"
           }
          ],
          "carpet": [
           {
            "aaxis": {
             "endlinecolor": "#2a3f5f",
             "gridcolor": "white",
             "linecolor": "white",
             "minorgridcolor": "white",
             "startlinecolor": "#2a3f5f"
            },
            "baxis": {
             "endlinecolor": "#2a3f5f",
             "gridcolor": "white",
             "linecolor": "white",
             "minorgridcolor": "white",
             "startlinecolor": "#2a3f5f"
            },
            "type": "carpet"
           }
          ],
          "choropleth": [
           {
            "colorbar": {
             "outlinewidth": 0,
             "ticks": ""
            },
            "type": "choropleth"
           }
          ],
          "contour": [
           {
            "colorbar": {
             "outlinewidth": 0,
             "ticks": ""
            },
            "colorscale": [
             [
              0,
              "#0d0887"
             ],
             [
              0.1111111111111111,
              "#46039f"
             ],
             [
              0.2222222222222222,
              "#7201a8"
             ],
             [
              0.3333333333333333,
              "#9c179e"
             ],
             [
              0.4444444444444444,
              "#bd3786"
             ],
             [
              0.5555555555555556,
              "#d8576b"
             ],
             [
              0.6666666666666666,
              "#ed7953"
             ],
             [
              0.7777777777777778,
              "#fb9f3a"
             ],
             [
              0.8888888888888888,
              "#fdca26"
             ],
             [
              1,
              "#f0f921"
             ]
            ],
            "type": "contour"
           }
          ],
          "contourcarpet": [
           {
            "colorbar": {
             "outlinewidth": 0,
             "ticks": ""
            },
            "type": "contourcarpet"
           }
          ],
          "heatmap": [
           {
            "colorbar": {
             "outlinewidth": 0,
             "ticks": ""
            },
            "colorscale": [
             [
              0,
              "#0d0887"
             ],
             [
              0.1111111111111111,
              "#46039f"
             ],
             [
              0.2222222222222222,
              "#7201a8"
             ],
             [
              0.3333333333333333,
              "#9c179e"
             ],
             [
              0.4444444444444444,
              "#bd3786"
             ],
             [
              0.5555555555555556,
              "#d8576b"
             ],
             [
              0.6666666666666666,
              "#ed7953"
             ],
             [
              0.7777777777777778,
              "#fb9f3a"
             ],
             [
              0.8888888888888888,
              "#fdca26"
             ],
             [
              1,
              "#f0f921"
             ]
            ],
            "type": "heatmap"
           }
          ],
          "heatmapgl": [
           {
            "colorbar": {
             "outlinewidth": 0,
             "ticks": ""
            },
            "colorscale": [
             [
              0,
              "#0d0887"
             ],
             [
              0.1111111111111111,
              "#46039f"
             ],
             [
              0.2222222222222222,
              "#7201a8"
             ],
             [
              0.3333333333333333,
              "#9c179e"
             ],
             [
              0.4444444444444444,
              "#bd3786"
             ],
             [
              0.5555555555555556,
              "#d8576b"
             ],
             [
              0.6666666666666666,
              "#ed7953"
             ],
             [
              0.7777777777777778,
              "#fb9f3a"
             ],
             [
              0.8888888888888888,
              "#fdca26"
             ],
             [
              1,
              "#f0f921"
             ]
            ],
            "type": "heatmapgl"
           }
          ],
          "histogram": [
           {
            "marker": {
             "colorbar": {
              "outlinewidth": 0,
              "ticks": ""
             }
            },
            "type": "histogram"
           }
          ],
          "histogram2d": [
           {
            "colorbar": {
             "outlinewidth": 0,
             "ticks": ""
            },
            "colorscale": [
             [
              0,
              "#0d0887"
             ],
             [
              0.1111111111111111,
              "#46039f"
             ],
             [
              0.2222222222222222,
              "#7201a8"
             ],
             [
              0.3333333333333333,
              "#9c179e"
             ],
             [
              0.4444444444444444,
              "#bd3786"
             ],
             [
              0.5555555555555556,
              "#d8576b"
             ],
             [
              0.6666666666666666,
              "#ed7953"
             ],
             [
              0.7777777777777778,
              "#fb9f3a"
             ],
             [
              0.8888888888888888,
              "#fdca26"
             ],
             [
              1,
              "#f0f921"
             ]
            ],
            "type": "histogram2d"
           }
          ],
          "histogram2dcontour": [
           {
            "colorbar": {
             "outlinewidth": 0,
             "ticks": ""
            },
            "colorscale": [
             [
              0,
              "#0d0887"
             ],
             [
              0.1111111111111111,
              "#46039f"
             ],
             [
              0.2222222222222222,
              "#7201a8"
             ],
             [
              0.3333333333333333,
              "#9c179e"
             ],
             [
              0.4444444444444444,
              "#bd3786"
             ],
             [
              0.5555555555555556,
              "#d8576b"
             ],
             [
              0.6666666666666666,
              "#ed7953"
             ],
             [
              0.7777777777777778,
              "#fb9f3a"
             ],
             [
              0.8888888888888888,
              "#fdca26"
             ],
             [
              1,
              "#f0f921"
             ]
            ],
            "type": "histogram2dcontour"
           }
          ],
          "mesh3d": [
           {
            "colorbar": {
             "outlinewidth": 0,
             "ticks": ""
            },
            "type": "mesh3d"
           }
          ],
          "parcoords": [
           {
            "line": {
             "colorbar": {
              "outlinewidth": 0,
              "ticks": ""
             }
            },
            "type": "parcoords"
           }
          ],
          "pie": [
           {
            "automargin": true,
            "type": "pie"
           }
          ],
          "scatter": [
           {
            "marker": {
             "colorbar": {
              "outlinewidth": 0,
              "ticks": ""
             }
            },
            "type": "scatter"
           }
          ],
          "scatter3d": [
           {
            "line": {
             "colorbar": {
              "outlinewidth": 0,
              "ticks": ""
             }
            },
            "marker": {
             "colorbar": {
              "outlinewidth": 0,
              "ticks": ""
             }
            },
            "type": "scatter3d"
           }
          ],
          "scattercarpet": [
           {
            "marker": {
             "colorbar": {
              "outlinewidth": 0,
              "ticks": ""
             }
            },
            "type": "scattercarpet"
           }
          ],
          "scattergeo": [
           {
            "marker": {
             "colorbar": {
              "outlinewidth": 0,
              "ticks": ""
             }
            },
            "type": "scattergeo"
           }
          ],
          "scattergl": [
           {
            "marker": {
             "colorbar": {
              "outlinewidth": 0,
              "ticks": ""
             }
            },
            "type": "scattergl"
           }
          ],
          "scattermapbox": [
           {
            "marker": {
             "colorbar": {
              "outlinewidth": 0,
              "ticks": ""
             }
            },
            "type": "scattermapbox"
           }
          ],
          "scatterpolar": [
           {
            "marker": {
             "colorbar": {
              "outlinewidth": 0,
              "ticks": ""
             }
            },
            "type": "scatterpolar"
           }
          ],
          "scatterpolargl": [
           {
            "marker": {
             "colorbar": {
              "outlinewidth": 0,
              "ticks": ""
             }
            },
            "type": "scatterpolargl"
           }
          ],
          "scatterternary": [
           {
            "marker": {
             "colorbar": {
              "outlinewidth": 0,
              "ticks": ""
             }
            },
            "type": "scatterternary"
           }
          ],
          "surface": [
           {
            "colorbar": {
             "outlinewidth": 0,
             "ticks": ""
            },
            "colorscale": [
             [
              0,
              "#0d0887"
             ],
             [
              0.1111111111111111,
              "#46039f"
             ],
             [
              0.2222222222222222,
              "#7201a8"
             ],
             [
              0.3333333333333333,
              "#9c179e"
             ],
             [
              0.4444444444444444,
              "#bd3786"
             ],
             [
              0.5555555555555556,
              "#d8576b"
             ],
             [
              0.6666666666666666,
              "#ed7953"
             ],
             [
              0.7777777777777778,
              "#fb9f3a"
             ],
             [
              0.8888888888888888,
              "#fdca26"
             ],
             [
              1,
              "#f0f921"
             ]
            ],
            "type": "surface"
           }
          ],
          "table": [
           {
            "cells": {
             "fill": {
              "color": "#EBF0F8"
             },
             "line": {
              "color": "white"
             }
            },
            "header": {
             "fill": {
              "color": "#C8D4E3"
             },
             "line": {
              "color": "white"
             }
            },
            "type": "table"
           }
          ]
         },
         "layout": {
          "annotationdefaults": {
           "arrowcolor": "#2a3f5f",
           "arrowhead": 0,
           "arrowwidth": 1
          },
          "coloraxis": {
           "colorbar": {
            "outlinewidth": 0,
            "ticks": ""
           }
          },
          "colorscale": {
           "diverging": [
            [
             0,
             "#8e0152"
            ],
            [
             0.1,
             "#c51b7d"
            ],
            [
             0.2,
             "#de77ae"
            ],
            [
             0.3,
             "#f1b6da"
            ],
            [
             0.4,
             "#fde0ef"
            ],
            [
             0.5,
             "#f7f7f7"
            ],
            [
             0.6,
             "#e6f5d0"
            ],
            [
             0.7,
             "#b8e186"
            ],
            [
             0.8,
             "#7fbc41"
            ],
            [
             0.9,
             "#4d9221"
            ],
            [
             1,
             "#276419"
            ]
           ],
           "sequential": [
            [
             0,
             "#0d0887"
            ],
            [
             0.1111111111111111,
             "#46039f"
            ],
            [
             0.2222222222222222,
             "#7201a8"
            ],
            [
             0.3333333333333333,
             "#9c179e"
            ],
            [
             0.4444444444444444,
             "#bd3786"
            ],
            [
             0.5555555555555556,
             "#d8576b"
            ],
            [
             0.6666666666666666,
             "#ed7953"
            ],
            [
             0.7777777777777778,
             "#fb9f3a"
            ],
            [
             0.8888888888888888,
             "#fdca26"
            ],
            [
             1,
             "#f0f921"
            ]
           ],
           "sequentialminus": [
            [
             0,
             "#0d0887"
            ],
            [
             0.1111111111111111,
             "#46039f"
            ],
            [
             0.2222222222222222,
             "#7201a8"
            ],
            [
             0.3333333333333333,
             "#9c179e"
            ],
            [
             0.4444444444444444,
             "#bd3786"
            ],
            [
             0.5555555555555556,
             "#d8576b"
            ],
            [
             0.6666666666666666,
             "#ed7953"
            ],
            [
             0.7777777777777778,
             "#fb9f3a"
            ],
            [
             0.8888888888888888,
             "#fdca26"
            ],
            [
             1,
             "#f0f921"
            ]
           ]
          },
          "colorway": [
           "#636efa",
           "#EF553B",
           "#00cc96",
           "#ab63fa",
           "#FFA15A",
           "#19d3f3",
           "#FF6692",
           "#B6E880",
           "#FF97FF",
           "#FECB52"
          ],
          "font": {
           "color": "#2a3f5f"
          },
          "geo": {
           "bgcolor": "white",
           "lakecolor": "white",
           "landcolor": "#E5ECF6",
           "showlakes": true,
           "showland": true,
           "subunitcolor": "white"
          },
          "hoverlabel": {
           "align": "left"
          },
          "hovermode": "closest",
          "mapbox": {
           "style": "light"
          },
          "paper_bgcolor": "white",
          "plot_bgcolor": "#E5ECF6",
          "polar": {
           "angularaxis": {
            "gridcolor": "white",
            "linecolor": "white",
            "ticks": ""
           },
           "bgcolor": "#E5ECF6",
           "radialaxis": {
            "gridcolor": "white",
            "linecolor": "white",
            "ticks": ""
           }
          },
          "scene": {
           "xaxis": {
            "backgroundcolor": "#E5ECF6",
            "gridcolor": "white",
            "gridwidth": 2,
            "linecolor": "white",
            "showbackground": true,
            "ticks": "",
            "zerolinecolor": "white"
           },
           "yaxis": {
            "backgroundcolor": "#E5ECF6",
            "gridcolor": "white",
            "gridwidth": 2,
            "linecolor": "white",
            "showbackground": true,
            "ticks": "",
            "zerolinecolor": "white"
           },
           "zaxis": {
            "backgroundcolor": "#E5ECF6",
            "gridcolor": "white",
            "gridwidth": 2,
            "linecolor": "white",
            "showbackground": true,
            "ticks": "",
            "zerolinecolor": "white"
           }
          },
          "shapedefaults": {
           "line": {
            "color": "#2a3f5f"
           }
          },
          "ternary": {
           "aaxis": {
            "gridcolor": "white",
            "linecolor": "white",
            "ticks": ""
           },
           "baxis": {
            "gridcolor": "white",
            "linecolor": "white",
            "ticks": ""
           },
           "bgcolor": "#E5ECF6",
           "caxis": {
            "gridcolor": "white",
            "linecolor": "white",
            "ticks": ""
           }
          },
          "title": {
           "x": 0.05
          },
          "xaxis": {
           "automargin": true,
           "gridcolor": "white",
           "linecolor": "white",
           "ticks": "",
           "title": {
            "standoff": 15
           },
           "zerolinecolor": "white",
           "zerolinewidth": 2
          },
          "yaxis": {
           "automargin": true,
           "gridcolor": "white",
           "linecolor": "white",
           "ticks": "",
           "title": {
            "standoff": 15
           },
           "zerolinecolor": "white",
           "zerolinewidth": 2
          }
         }
        },
        "title": {
         "text": "Change of Workforce number over the Period (2009-2018)",
         "x": 0.5
        },
        "updatemenus": [
         {
          "buttons": [
           {
            "args": [
             null,
             {
              "frame": {
               "duration": 500,
               "redraw": false
              },
              "fromcurrent": true,
              "mode": "immediate",
              "transition": {
               "duration": 500,
               "easing": "linear"
              }
             }
            ],
            "label": "&#9654;",
            "method": "animate"
           },
           {
            "args": [
             [
              null
             ],
             {
              "frame": {
               "duration": 0,
               "redraw": false
              },
              "fromcurrent": true,
              "mode": "immediate",
              "transition": {
               "duration": 0,
               "easing": "linear"
              }
             }
            ],
            "label": "&#9724;",
            "method": "animate"
           }
          ],
          "direction": "left",
          "pad": {
           "r": 10,
           "t": 70
          },
          "showactive": false,
          "type": "buttons",
          "x": 0.1,
          "xanchor": "right",
          "y": 0,
          "yanchor": "top"
         }
        ],
        "xaxis": {
         "anchor": "y",
         "domain": [
          0,
          1
         ],
         "title": {
          "text": "Count"
         },
         "type": "log"
        },
        "yaxis": {
         "anchor": "x",
         "domain": [
          0,
          1
         ],
         "title": {
          "text": "Count"
         }
        }
       }
      },
      "text/html": [
       "<div>\n",
       "        \n",
       "        \n",
       "            <div id=\"b2e6ec44-519f-45dd-860e-076b348b7714\" class=\"plotly-graph-div\" style=\"height:525px; width:100%;\"></div>\n",
       "            <script type=\"text/javascript\">\n",
       "                require([\"plotly\"], function(Plotly) {\n",
       "                    window.PLOTLYENV=window.PLOTLYENV || {};\n",
       "                    \n",
       "                if (document.getElementById(\"b2e6ec44-519f-45dd-860e-076b348b7714\")) {\n",
       "                    Plotly.newPlot(\n",
       "                        'b2e6ec44-519f-45dd-860e-076b348b7714',\n",
       "                        [{\"hovertemplate\": \"Industry=Agriculture<br>Year=2009<br>Count=%{marker.size}<extra></extra>\", \"ids\": [\"Agriculture\"], \"legendgroup\": \"Agriculture\", \"marker\": {\"color\": \"#636efa\", \"size\": [37700.0], \"sizemode\": \"area\", \"sizeref\": 1087.25, \"symbol\": \"circle\"}, \"mode\": \"markers\", \"name\": \"Agriculture\", \"showlegend\": true, \"type\": \"scatter\", \"x\": [37700.0], \"xaxis\": \"x\", \"y\": [37700.0], \"yaxis\": \"y\"}, {\"hovertemplate\": \"Industry=Production<br>Year=2009<br>Count=%{marker.size}<extra></extra>\", \"ids\": [\"Production\"], \"legendgroup\": \"Production\", \"marker\": {\"color\": \"#EF553B\", \"size\": [156700.0], \"sizemode\": \"area\", \"sizeref\": 1087.25, \"symbol\": \"circle\"}, \"mode\": \"markers\", \"name\": \"Production\", \"showlegend\": true, \"type\": \"scatter\", \"x\": [156700.0], \"xaxis\": \"x\", \"y\": [156700.0], \"yaxis\": \"y\"}, {\"hovertemplate\": \"Industry=Construction<br>Year=2009<br>Count=%{marker.size}<extra></extra>\", \"ids\": [\"Construction\"], \"legendgroup\": \"Construction\", \"marker\": {\"color\": \"#00cc96\", \"size\": [96600.0], \"sizemode\": \"area\", \"sizeref\": 1087.25, \"symbol\": \"circle\"}, \"mode\": \"markers\", \"name\": \"Construction\", \"showlegend\": true, \"type\": \"scatter\", \"x\": [96600.0], \"xaxis\": \"x\", \"y\": [96600.0], \"yaxis\": \"y\"}, {\"hovertemplate\": \"Industry=Retail<br>Year=2009<br>Count=%{marker.size}<extra></extra>\", \"ids\": [\"Retail\"], \"legendgroup\": \"Retail\", \"marker\": {\"color\": \"#ab63fa\", \"size\": [345400.0], \"sizemode\": \"area\", \"sizeref\": 1087.25, \"symbol\": \"circle\"}, \"mode\": \"markers\", \"name\": \"Retail\", \"showlegend\": true, \"type\": \"scatter\", \"x\": [345400.0], \"xaxis\": \"x\", \"y\": [345400.0], \"yaxis\": \"y\"}, {\"hovertemplate\": \"Industry=ICT<br>Year=2009<br>Count=%{marker.size}<extra></extra>\", \"ids\": [\"ICT\"], \"legendgroup\": \"ICT\", \"marker\": {\"color\": \"#FFA15A\", \"size\": [27800.0], \"sizemode\": \"area\", \"sizeref\": 1087.25, \"symbol\": \"circle\"}, \"mode\": \"markers\", \"name\": \"ICT\", \"showlegend\": true, \"type\": \"scatter\", \"x\": [27800.0], \"xaxis\": \"x\", \"y\": [27800.0], \"yaxis\": \"y\"}, {\"hovertemplate\": \"Industry=Finance<br>Year=2009<br>Count=%{marker.size}<extra></extra>\", \"ids\": [\"Finance\"], \"legendgroup\": \"Finance\", \"marker\": {\"color\": \"#19d3f3\", \"size\": [33800.0], \"sizemode\": \"area\", \"sizeref\": 1087.25, \"symbol\": \"circle\"}, \"mode\": \"markers\", \"name\": \"Finance\", \"showlegend\": true, \"type\": \"scatter\", \"x\": [33800.0], \"xaxis\": \"x\", \"y\": [33800.0], \"yaxis\": \"y\"}, {\"hovertemplate\": \"Industry=Real_Estate<br>Year=2009<br>Count=%{marker.size}<extra></extra>\", \"ids\": [\"Real_Estate\"], \"legendgroup\": \"Real_Estate\", \"marker\": {\"color\": \"#FF6692\", \"size\": [13500.0], \"sizemode\": \"area\", \"sizeref\": 1087.25, \"symbol\": \"circle\"}, \"mode\": \"markers\", \"name\": \"Real_Estate\", \"showlegend\": true, \"type\": \"scatter\", \"x\": [13500.0], \"xaxis\": \"x\", \"y\": [13500.0], \"yaxis\": \"y\"}, {\"hovertemplate\": \"Industry=Professional_Service<br>Year=2009<br>Count=%{marker.size}<extra></extra>\", \"ids\": [\"Professional_Service\"], \"legendgroup\": \"Professional_Service\", \"marker\": {\"color\": \"#B6E880\", \"size\": [144800.0], \"sizemode\": \"area\", \"sizeref\": 1087.25, \"symbol\": \"circle\"}, \"mode\": \"markers\", \"name\": \"Professional_Service\", \"showlegend\": true, \"type\": \"scatter\", \"x\": [144800.0], \"xaxis\": \"x\", \"y\": [144800.0], \"yaxis\": \"y\"}, {\"hovertemplate\": \"Industry=Public_Adminstration<br>Year=2009<br>Count=%{marker.size}<extra></extra>\", \"ids\": [\"Public_Adminstration\"], \"legendgroup\": \"Public_Adminstration\", \"marker\": {\"color\": \"#FF97FF\", \"size\": [415600.0], \"sizemode\": \"area\", \"sizeref\": 1087.25, \"symbol\": \"circle\"}, \"mode\": \"markers\", \"name\": \"Public_Adminstration\", \"showlegend\": true, \"type\": \"scatter\", \"x\": [415600.0], \"xaxis\": \"x\", \"y\": [415600.0], \"yaxis\": \"y\"}, {\"hovertemplate\": \"Industry=Other_Service<br>Year=2009<br>Count=%{marker.size}<extra></extra>\", \"ids\": [\"Other_Service\"], \"legendgroup\": \"Other_Service\", \"marker\": {\"color\": \"#FECB52\", \"size\": [64200.0], \"sizemode\": \"area\", \"sizeref\": 1087.25, \"symbol\": \"circle\"}, \"mode\": \"markers\", \"name\": \"Other_Service\", \"showlegend\": true, \"type\": \"scatter\", \"x\": [64200.0], \"xaxis\": \"x\", \"y\": [64200.0], \"yaxis\": \"y\"}],\n",
       "                        {\"legend\": {\"itemsizing\": \"constant\", \"title\": {\"text\": \"Industry\"}, \"tracegroupgap\": 0}, \"sliders\": [{\"active\": 0, \"currentvalue\": {\"prefix\": \"Year=\"}, \"len\": 0.9, \"pad\": {\"b\": 10, \"t\": 60}, \"steps\": [{\"args\": [[\"2009\"], {\"frame\": {\"duration\": 0, \"redraw\": false}, \"fromcurrent\": true, \"mode\": \"immediate\", \"transition\": {\"duration\": 0, \"easing\": \"linear\"}}], \"label\": \"2009\", \"method\": \"animate\"}, {\"args\": [[\"2010\"], {\"frame\": {\"duration\": 0, \"redraw\": false}, \"fromcurrent\": true, \"mode\": \"immediate\", \"transition\": {\"duration\": 0, \"easing\": \"linear\"}}], \"label\": \"2010\", \"method\": \"animate\"}, {\"args\": [[\"2011\"], {\"frame\": {\"duration\": 0, \"redraw\": false}, \"fromcurrent\": true, \"mode\": \"immediate\", \"transition\": {\"duration\": 0, \"easing\": \"linear\"}}], \"label\": \"2011\", \"method\": \"animate\"}, {\"args\": [[\"2012\"], {\"frame\": {\"duration\": 0, \"redraw\": false}, \"fromcurrent\": true, \"mode\": \"immediate\", \"transition\": {\"duration\": 0, \"easing\": \"linear\"}}], \"label\": \"2012\", \"method\": \"animate\"}, {\"args\": [[\"2013\"], {\"frame\": {\"duration\": 0, \"redraw\": false}, \"fromcurrent\": true, \"mode\": \"immediate\", \"transition\": {\"duration\": 0, \"easing\": \"linear\"}}], \"label\": \"2013\", \"method\": \"animate\"}, {\"args\": [[\"2014\"], {\"frame\": {\"duration\": 0, \"redraw\": false}, \"fromcurrent\": true, \"mode\": \"immediate\", \"transition\": {\"duration\": 0, \"easing\": \"linear\"}}], \"label\": \"2014\", \"method\": \"animate\"}, {\"args\": [[\"2015\"], {\"frame\": {\"duration\": 0, \"redraw\": false}, \"fromcurrent\": true, \"mode\": \"immediate\", \"transition\": {\"duration\": 0, \"easing\": \"linear\"}}], \"label\": \"2015\", \"method\": \"animate\"}, {\"args\": [[\"2016\"], {\"frame\": {\"duration\": 0, \"redraw\": false}, \"fromcurrent\": true, \"mode\": \"immediate\", \"transition\": {\"duration\": 0, \"easing\": \"linear\"}}], \"label\": \"2016\", \"method\": \"animate\"}, {\"args\": [[\"2017\"], {\"frame\": {\"duration\": 0, \"redraw\": false}, \"fromcurrent\": true, \"mode\": \"immediate\", \"transition\": {\"duration\": 0, \"easing\": \"linear\"}}], \"label\": \"2017\", \"method\": \"animate\"}, {\"args\": [[\"2018\"], {\"frame\": {\"duration\": 0, \"redraw\": false}, \"fromcurrent\": true, \"mode\": \"immediate\", \"transition\": {\"duration\": 0, \"easing\": \"linear\"}}], \"label\": \"2018\", \"method\": \"animate\"}], \"x\": 0.1, \"xanchor\": \"left\", \"y\": 0, \"yanchor\": \"top\"}], \"template\": {\"data\": {\"bar\": [{\"error_x\": {\"color\": \"#2a3f5f\"}, \"error_y\": {\"color\": \"#2a3f5f\"}, \"marker\": {\"line\": {\"color\": \"#E5ECF6\", \"width\": 0.5}}, \"type\": \"bar\"}], \"barpolar\": [{\"marker\": {\"line\": {\"color\": \"#E5ECF6\", \"width\": 0.5}}, \"type\": \"barpolar\"}], \"carpet\": [{\"aaxis\": {\"endlinecolor\": \"#2a3f5f\", \"gridcolor\": \"white\", \"linecolor\": \"white\", \"minorgridcolor\": \"white\", \"startlinecolor\": \"#2a3f5f\"}, \"baxis\": {\"endlinecolor\": \"#2a3f5f\", \"gridcolor\": \"white\", \"linecolor\": \"white\", \"minorgridcolor\": \"white\", \"startlinecolor\": \"#2a3f5f\"}, \"type\": \"carpet\"}], \"choropleth\": [{\"colorbar\": {\"outlinewidth\": 0, \"ticks\": \"\"}, \"type\": \"choropleth\"}], \"contour\": [{\"colorbar\": {\"outlinewidth\": 0, \"ticks\": \"\"}, \"colorscale\": [[0.0, \"#0d0887\"], [0.1111111111111111, \"#46039f\"], [0.2222222222222222, \"#7201a8\"], [0.3333333333333333, \"#9c179e\"], [0.4444444444444444, \"#bd3786\"], [0.5555555555555556, \"#d8576b\"], [0.6666666666666666, \"#ed7953\"], [0.7777777777777778, \"#fb9f3a\"], [0.8888888888888888, \"#fdca26\"], [1.0, \"#f0f921\"]], \"type\": \"contour\"}], \"contourcarpet\": [{\"colorbar\": {\"outlinewidth\": 0, \"ticks\": \"\"}, \"type\": \"contourcarpet\"}], \"heatmap\": [{\"colorbar\": {\"outlinewidth\": 0, \"ticks\": \"\"}, \"colorscale\": [[0.0, \"#0d0887\"], [0.1111111111111111, \"#46039f\"], [0.2222222222222222, \"#7201a8\"], [0.3333333333333333, \"#9c179e\"], [0.4444444444444444, \"#bd3786\"], [0.5555555555555556, \"#d8576b\"], [0.6666666666666666, \"#ed7953\"], [0.7777777777777778, \"#fb9f3a\"], [0.8888888888888888, \"#fdca26\"], [1.0, \"#f0f921\"]], \"type\": \"heatmap\"}], \"heatmapgl\": [{\"colorbar\": {\"outlinewidth\": 0, \"ticks\": \"\"}, \"colorscale\": [[0.0, \"#0d0887\"], [0.1111111111111111, \"#46039f\"], [0.2222222222222222, \"#7201a8\"], [0.3333333333333333, \"#9c179e\"], [0.4444444444444444, \"#bd3786\"], [0.5555555555555556, \"#d8576b\"], [0.6666666666666666, \"#ed7953\"], [0.7777777777777778, \"#fb9f3a\"], [0.8888888888888888, \"#fdca26\"], [1.0, \"#f0f921\"]], \"type\": \"heatmapgl\"}], \"histogram\": [{\"marker\": {\"colorbar\": {\"outlinewidth\": 0, \"ticks\": \"\"}}, \"type\": \"histogram\"}], \"histogram2d\": [{\"colorbar\": {\"outlinewidth\": 0, \"ticks\": \"\"}, \"colorscale\": [[0.0, \"#0d0887\"], [0.1111111111111111, \"#46039f\"], [0.2222222222222222, \"#7201a8\"], [0.3333333333333333, \"#9c179e\"], [0.4444444444444444, \"#bd3786\"], [0.5555555555555556, \"#d8576b\"], [0.6666666666666666, \"#ed7953\"], [0.7777777777777778, \"#fb9f3a\"], [0.8888888888888888, \"#fdca26\"], [1.0, \"#f0f921\"]], \"type\": \"histogram2d\"}], \"histogram2dcontour\": [{\"colorbar\": {\"outlinewidth\": 0, \"ticks\": \"\"}, \"colorscale\": [[0.0, \"#0d0887\"], [0.1111111111111111, \"#46039f\"], [0.2222222222222222, \"#7201a8\"], [0.3333333333333333, \"#9c179e\"], [0.4444444444444444, \"#bd3786\"], [0.5555555555555556, \"#d8576b\"], [0.6666666666666666, \"#ed7953\"], [0.7777777777777778, \"#fb9f3a\"], [0.8888888888888888, \"#fdca26\"], [1.0, \"#f0f921\"]], \"type\": \"histogram2dcontour\"}], \"mesh3d\": [{\"colorbar\": {\"outlinewidth\": 0, \"ticks\": \"\"}, \"type\": \"mesh3d\"}], \"parcoords\": [{\"line\": {\"colorbar\": {\"outlinewidth\": 0, \"ticks\": \"\"}}, \"type\": \"parcoords\"}], \"pie\": [{\"automargin\": true, \"type\": \"pie\"}], \"scatter\": [{\"marker\": {\"colorbar\": {\"outlinewidth\": 0, \"ticks\": \"\"}}, \"type\": \"scatter\"}], \"scatter3d\": [{\"line\": {\"colorbar\": {\"outlinewidth\": 0, \"ticks\": \"\"}}, \"marker\": {\"colorbar\": {\"outlinewidth\": 0, \"ticks\": \"\"}}, \"type\": \"scatter3d\"}], \"scattercarpet\": [{\"marker\": {\"colorbar\": {\"outlinewidth\": 0, \"ticks\": \"\"}}, \"type\": \"scattercarpet\"}], \"scattergeo\": [{\"marker\": {\"colorbar\": {\"outlinewidth\": 0, \"ticks\": \"\"}}, \"type\": \"scattergeo\"}], \"scattergl\": [{\"marker\": {\"colorbar\": {\"outlinewidth\": 0, \"ticks\": \"\"}}, \"type\": \"scattergl\"}], \"scattermapbox\": [{\"marker\": {\"colorbar\": {\"outlinewidth\": 0, \"ticks\": \"\"}}, \"type\": \"scattermapbox\"}], \"scatterpolar\": [{\"marker\": {\"colorbar\": {\"outlinewidth\": 0, \"ticks\": \"\"}}, \"type\": \"scatterpolar\"}], \"scatterpolargl\": [{\"marker\": {\"colorbar\": {\"outlinewidth\": 0, \"ticks\": \"\"}}, \"type\": \"scatterpolargl\"}], \"scatterternary\": [{\"marker\": {\"colorbar\": {\"outlinewidth\": 0, \"ticks\": \"\"}}, \"type\": \"scatterternary\"}], \"surface\": [{\"colorbar\": {\"outlinewidth\": 0, \"ticks\": \"\"}, \"colorscale\": [[0.0, \"#0d0887\"], [0.1111111111111111, \"#46039f\"], [0.2222222222222222, \"#7201a8\"], [0.3333333333333333, \"#9c179e\"], [0.4444444444444444, \"#bd3786\"], [0.5555555555555556, \"#d8576b\"], [0.6666666666666666, \"#ed7953\"], [0.7777777777777778, \"#fb9f3a\"], [0.8888888888888888, \"#fdca26\"], [1.0, \"#f0f921\"]], \"type\": \"surface\"}], \"table\": [{\"cells\": {\"fill\": {\"color\": \"#EBF0F8\"}, \"line\": {\"color\": \"white\"}}, \"header\": {\"fill\": {\"color\": \"#C8D4E3\"}, \"line\": {\"color\": \"white\"}}, \"type\": \"table\"}]}, \"layout\": {\"annotationdefaults\": {\"arrowcolor\": \"#2a3f5f\", \"arrowhead\": 0, \"arrowwidth\": 1}, \"coloraxis\": {\"colorbar\": {\"outlinewidth\": 0, \"ticks\": \"\"}}, \"colorscale\": {\"diverging\": [[0, \"#8e0152\"], [0.1, \"#c51b7d\"], [0.2, \"#de77ae\"], [0.3, \"#f1b6da\"], [0.4, \"#fde0ef\"], [0.5, \"#f7f7f7\"], [0.6, \"#e6f5d0\"], [0.7, \"#b8e186\"], [0.8, \"#7fbc41\"], [0.9, \"#4d9221\"], [1, \"#276419\"]], \"sequential\": [[0.0, \"#0d0887\"], [0.1111111111111111, \"#46039f\"], [0.2222222222222222, \"#7201a8\"], [0.3333333333333333, \"#9c179e\"], [0.4444444444444444, \"#bd3786\"], [0.5555555555555556, \"#d8576b\"], [0.6666666666666666, \"#ed7953\"], [0.7777777777777778, \"#fb9f3a\"], [0.8888888888888888, \"#fdca26\"], [1.0, \"#f0f921\"]], \"sequentialminus\": [[0.0, \"#0d0887\"], [0.1111111111111111, \"#46039f\"], [0.2222222222222222, \"#7201a8\"], [0.3333333333333333, \"#9c179e\"], [0.4444444444444444, \"#bd3786\"], [0.5555555555555556, \"#d8576b\"], [0.6666666666666666, \"#ed7953\"], [0.7777777777777778, \"#fb9f3a\"], [0.8888888888888888, \"#fdca26\"], [1.0, \"#f0f921\"]]}, \"colorway\": [\"#636efa\", \"#EF553B\", \"#00cc96\", \"#ab63fa\", \"#FFA15A\", \"#19d3f3\", \"#FF6692\", \"#B6E880\", \"#FF97FF\", \"#FECB52\"], \"font\": {\"color\": \"#2a3f5f\"}, \"geo\": {\"bgcolor\": \"white\", \"lakecolor\": \"white\", \"landcolor\": \"#E5ECF6\", \"showlakes\": true, \"showland\": true, \"subunitcolor\": \"white\"}, \"hoverlabel\": {\"align\": \"left\"}, \"hovermode\": \"closest\", \"mapbox\": {\"style\": \"light\"}, \"paper_bgcolor\": \"white\", \"plot_bgcolor\": \"#E5ECF6\", \"polar\": {\"angularaxis\": {\"gridcolor\": \"white\", \"linecolor\": \"white\", \"ticks\": \"\"}, \"bgcolor\": \"#E5ECF6\", \"radialaxis\": {\"gridcolor\": \"white\", \"linecolor\": \"white\", \"ticks\": \"\"}}, \"scene\": {\"xaxis\": {\"backgroundcolor\": \"#E5ECF6\", \"gridcolor\": \"white\", \"gridwidth\": 2, \"linecolor\": \"white\", \"showbackground\": true, \"ticks\": \"\", \"zerolinecolor\": \"white\"}, \"yaxis\": {\"backgroundcolor\": \"#E5ECF6\", \"gridcolor\": \"white\", \"gridwidth\": 2, \"linecolor\": \"white\", \"showbackground\": true, \"ticks\": \"\", \"zerolinecolor\": \"white\"}, \"zaxis\": {\"backgroundcolor\": \"#E5ECF6\", \"gridcolor\": \"white\", \"gridwidth\": 2, \"linecolor\": \"white\", \"showbackground\": true, \"ticks\": \"\", \"zerolinecolor\": \"white\"}}, \"shapedefaults\": {\"line\": {\"color\": \"#2a3f5f\"}}, \"ternary\": {\"aaxis\": {\"gridcolor\": \"white\", \"linecolor\": \"white\", \"ticks\": \"\"}, \"baxis\": {\"gridcolor\": \"white\", \"linecolor\": \"white\", \"ticks\": \"\"}, \"bgcolor\": \"#E5ECF6\", \"caxis\": {\"gridcolor\": \"white\", \"linecolor\": \"white\", \"ticks\": \"\"}}, \"title\": {\"x\": 0.05}, \"xaxis\": {\"automargin\": true, \"gridcolor\": \"white\", \"linecolor\": \"white\", \"ticks\": \"\", \"title\": {\"standoff\": 15}, \"zerolinecolor\": \"white\", \"zerolinewidth\": 2}, \"yaxis\": {\"automargin\": true, \"gridcolor\": \"white\", \"linecolor\": \"white\", \"ticks\": \"\", \"title\": {\"standoff\": 15}, \"zerolinecolor\": \"white\", \"zerolinewidth\": 2}}}, \"title\": {\"text\": \"Change of Workforce number over the Period (2009-2018)\", \"x\": 0.5}, \"updatemenus\": [{\"buttons\": [{\"args\": [null, {\"frame\": {\"duration\": 500, \"redraw\": false}, \"fromcurrent\": true, \"mode\": \"immediate\", \"transition\": {\"duration\": 500, \"easing\": \"linear\"}}], \"label\": \"&#9654;\", \"method\": \"animate\"}, {\"args\": [[null], {\"frame\": {\"duration\": 0, \"redraw\": false}, \"fromcurrent\": true, \"mode\": \"immediate\", \"transition\": {\"duration\": 0, \"easing\": \"linear\"}}], \"label\": \"&#9724;\", \"method\": \"animate\"}], \"direction\": \"left\", \"pad\": {\"r\": 10, \"t\": 70}, \"showactive\": false, \"type\": \"buttons\", \"x\": 0.1, \"xanchor\": \"right\", \"y\": 0, \"yanchor\": \"top\"}], \"xaxis\": {\"anchor\": \"y\", \"domain\": [0.0, 1.0], \"title\": {\"text\": \"Count\"}, \"type\": \"log\"}, \"yaxis\": {\"anchor\": \"x\", \"domain\": [0.0, 1.0], \"title\": {\"text\": \"Count\"}}},\n",
       "                        {\"responsive\": true}\n",
       "                    ).then(function(){\n",
       "                            Plotly.addFrames('b2e6ec44-519f-45dd-860e-076b348b7714', [{\"data\": [{\"hovertemplate\": \"Industry=Agriculture<br>Year=2009<br>Count=%{marker.size}<extra></extra>\", \"ids\": [\"Agriculture\"], \"legendgroup\": \"Agriculture\", \"marker\": {\"color\": \"#636efa\", \"size\": [37700.0], \"sizemode\": \"area\", \"sizeref\": 1087.25, \"symbol\": \"circle\"}, \"mode\": \"markers\", \"name\": \"Agriculture\", \"showlegend\": true, \"x\": [37700.0], \"xaxis\": \"x\", \"y\": [37700.0], \"yaxis\": \"y\", \"type\": \"scatter\"}, {\"hovertemplate\": \"Industry=Production<br>Year=2009<br>Count=%{marker.size}<extra></extra>\", \"ids\": [\"Production\"], \"legendgroup\": \"Production\", \"marker\": {\"color\": \"#EF553B\", \"size\": [156700.0], \"sizemode\": \"area\", \"sizeref\": 1087.25, \"symbol\": \"circle\"}, \"mode\": \"markers\", \"name\": \"Production\", \"showlegend\": true, \"x\": [156700.0], \"xaxis\": \"x\", \"y\": [156700.0], \"yaxis\": \"y\", \"type\": \"scatter\"}, {\"hovertemplate\": \"Industry=Construction<br>Year=2009<br>Count=%{marker.size}<extra></extra>\", \"ids\": [\"Construction\"], \"legendgroup\": \"Construction\", \"marker\": {\"color\": \"#00cc96\", \"size\": [96600.0], \"sizemode\": \"area\", \"sizeref\": 1087.25, \"symbol\": \"circle\"}, \"mode\": \"markers\", \"name\": \"Construction\", \"showlegend\": true, \"x\": [96600.0], \"xaxis\": \"x\", \"y\": [96600.0], \"yaxis\": \"y\", \"type\": \"scatter\"}, {\"hovertemplate\": \"Industry=Retail<br>Year=2009<br>Count=%{marker.size}<extra></extra>\", \"ids\": [\"Retail\"], \"legendgroup\": \"Retail\", \"marker\": {\"color\": \"#ab63fa\", \"size\": [345400.0], \"sizemode\": \"area\", \"sizeref\": 1087.25, \"symbol\": \"circle\"}, \"mode\": \"markers\", \"name\": \"Retail\", \"showlegend\": true, \"x\": [345400.0], \"xaxis\": \"x\", \"y\": [345400.0], \"yaxis\": \"y\", \"type\": \"scatter\"}, {\"hovertemplate\": \"Industry=ICT<br>Year=2009<br>Count=%{marker.size}<extra></extra>\", \"ids\": [\"ICT\"], \"legendgroup\": \"ICT\", \"marker\": {\"color\": \"#FFA15A\", \"size\": [27800.0], \"sizemode\": \"area\", \"sizeref\": 1087.25, \"symbol\": \"circle\"}, \"mode\": \"markers\", \"name\": \"ICT\", \"showlegend\": true, \"x\": [27800.0], \"xaxis\": \"x\", \"y\": [27800.0], \"yaxis\": \"y\", \"type\": \"scatter\"}, {\"hovertemplate\": \"Industry=Finance<br>Year=2009<br>Count=%{marker.size}<extra></extra>\", \"ids\": [\"Finance\"], \"legendgroup\": \"Finance\", \"marker\": {\"color\": \"#19d3f3\", \"size\": [33800.0], \"sizemode\": \"area\", \"sizeref\": 1087.25, \"symbol\": \"circle\"}, \"mode\": \"markers\", \"name\": \"Finance\", \"showlegend\": true, \"x\": [33800.0], \"xaxis\": \"x\", \"y\": [33800.0], \"yaxis\": \"y\", \"type\": \"scatter\"}, {\"hovertemplate\": \"Industry=Real_Estate<br>Year=2009<br>Count=%{marker.size}<extra></extra>\", \"ids\": [\"Real_Estate\"], \"legendgroup\": \"Real_Estate\", \"marker\": {\"color\": \"#FF6692\", \"size\": [13500.0], \"sizemode\": \"area\", \"sizeref\": 1087.25, \"symbol\": \"circle\"}, \"mode\": \"markers\", \"name\": \"Real_Estate\", \"showlegend\": true, \"x\": [13500.0], \"xaxis\": \"x\", \"y\": [13500.0], \"yaxis\": \"y\", \"type\": \"scatter\"}, {\"hovertemplate\": \"Industry=Professional_Service<br>Year=2009<br>Count=%{marker.size}<extra></extra>\", \"ids\": [\"Professional_Service\"], \"legendgroup\": \"Professional_Service\", \"marker\": {\"color\": \"#B6E880\", \"size\": [144800.0], \"sizemode\": \"area\", \"sizeref\": 1087.25, \"symbol\": \"circle\"}, \"mode\": \"markers\", \"name\": \"Professional_Service\", \"showlegend\": true, \"x\": [144800.0], \"xaxis\": \"x\", \"y\": [144800.0], \"yaxis\": \"y\", \"type\": \"scatter\"}, {\"hovertemplate\": \"Industry=Public_Adminstration<br>Year=2009<br>Count=%{marker.size}<extra></extra>\", \"ids\": [\"Public_Adminstration\"], \"legendgroup\": \"Public_Adminstration\", \"marker\": {\"color\": \"#FF97FF\", \"size\": [415600.0], \"sizemode\": \"area\", \"sizeref\": 1087.25, \"symbol\": \"circle\"}, \"mode\": \"markers\", \"name\": \"Public_Adminstration\", \"showlegend\": true, \"x\": [415600.0], \"xaxis\": \"x\", \"y\": [415600.0], \"yaxis\": \"y\", \"type\": \"scatter\"}, {\"hovertemplate\": \"Industry=Other_Service<br>Year=2009<br>Count=%{marker.size}<extra></extra>\", \"ids\": [\"Other_Service\"], \"legendgroup\": \"Other_Service\", \"marker\": {\"color\": \"#FECB52\", \"size\": [64200.0], \"sizemode\": \"area\", \"sizeref\": 1087.25, \"symbol\": \"circle\"}, \"mode\": \"markers\", \"name\": \"Other_Service\", \"showlegend\": true, \"x\": [64200.0], \"xaxis\": \"x\", \"y\": [64200.0], \"yaxis\": \"y\", \"type\": \"scatter\"}], \"name\": \"2009\"}, {\"data\": [{\"hovertemplate\": \"Industry=Agriculture<br>Year=2010<br>Count=%{marker.size}<extra></extra>\", \"ids\": [\"Agriculture\"], \"legendgroup\": \"Agriculture\", \"marker\": {\"color\": \"#636efa\", \"size\": [38200.0], \"sizemode\": \"area\", \"sizeref\": 1087.25, \"symbol\": \"circle\"}, \"mode\": \"markers\", \"name\": \"Agriculture\", \"showlegend\": true, \"x\": [38200.0], \"xaxis\": \"x\", \"y\": [38200.0], \"yaxis\": \"y\", \"type\": \"scatter\"}, {\"hovertemplate\": \"Industry=Production<br>Year=2010<br>Count=%{marker.size}<extra></extra>\", \"ids\": [\"Production\"], \"legendgroup\": \"Production\", \"marker\": {\"color\": \"#EF553B\", \"size\": [149800.0], \"sizemode\": \"area\", \"sizeref\": 1087.25, \"symbol\": \"circle\"}, \"mode\": \"markers\", \"name\": \"Production\", \"showlegend\": true, \"x\": [149800.0], \"xaxis\": \"x\", \"y\": [149800.0], \"yaxis\": \"y\", \"type\": \"scatter\"}, {\"hovertemplate\": \"Industry=Construction<br>Year=2010<br>Count=%{marker.size}<extra></extra>\", \"ids\": [\"Construction\"], \"legendgroup\": \"Construction\", \"marker\": {\"color\": \"#00cc96\", \"size\": [93200.0], \"sizemode\": \"area\", \"sizeref\": 1087.25, \"symbol\": \"circle\"}, \"mode\": \"markers\", \"name\": \"Construction\", \"showlegend\": true, \"x\": [93200.0], \"xaxis\": \"x\", \"y\": [93200.0], \"yaxis\": \"y\", \"type\": \"scatter\"}, {\"hovertemplate\": \"Industry=Retail<br>Year=2010<br>Count=%{marker.size}<extra></extra>\", \"ids\": [\"Retail\"], \"legendgroup\": \"Retail\", \"marker\": {\"color\": \"#ab63fa\", \"size\": [344500.0], \"sizemode\": \"area\", \"sizeref\": 1087.25, \"symbol\": \"circle\"}, \"mode\": \"markers\", \"name\": \"Retail\", \"showlegend\": true, \"x\": [344500.0], \"xaxis\": \"x\", \"y\": [344500.0], \"yaxis\": \"y\", \"type\": \"scatter\"}, {\"hovertemplate\": \"Industry=ICT<br>Year=2010<br>Count=%{marker.size}<extra></extra>\", \"ids\": [\"ICT\"], \"legendgroup\": \"ICT\", \"marker\": {\"color\": \"#FFA15A\", \"size\": [27900.0], \"sizemode\": \"area\", \"sizeref\": 1087.25, \"symbol\": \"circle\"}, \"mode\": \"markers\", \"name\": \"ICT\", \"showlegend\": true, \"x\": [27900.0], \"xaxis\": \"x\", \"y\": [27900.0], \"yaxis\": \"y\", \"type\": \"scatter\"}, {\"hovertemplate\": \"Industry=Finance<br>Year=2010<br>Count=%{marker.size}<extra></extra>\", \"ids\": [\"Finance\"], \"legendgroup\": \"Finance\", \"marker\": {\"color\": \"#19d3f3\", \"size\": [29800.0], \"sizemode\": \"area\", \"sizeref\": 1087.25, \"symbol\": \"circle\"}, \"mode\": \"markers\", \"name\": \"Finance\", \"showlegend\": true, \"x\": [29800.0], \"xaxis\": \"x\", \"y\": [29800.0], \"yaxis\": \"y\", \"type\": \"scatter\"}, {\"hovertemplate\": \"Industry=Real_Estate<br>Year=2010<br>Count=%{marker.size}<extra></extra>\", \"ids\": [\"Real_Estate\"], \"legendgroup\": \"Real_Estate\", \"marker\": {\"color\": \"#FF6692\", \"size\": [14600.0], \"sizemode\": \"area\", \"sizeref\": 1087.25, \"symbol\": \"circle\"}, \"mode\": \"markers\", \"name\": \"Real_Estate\", \"showlegend\": true, \"x\": [14600.0], \"xaxis\": \"x\", \"y\": [14600.0], \"yaxis\": \"y\", \"type\": \"scatter\"}, {\"hovertemplate\": \"Industry=Professional_Service<br>Year=2010<br>Count=%{marker.size}<extra></extra>\", \"ids\": [\"Professional_Service\"], \"legendgroup\": \"Professional_Service\", \"marker\": {\"color\": \"#B6E880\", \"size\": [145800.0], \"sizemode\": \"area\", \"sizeref\": 1087.25, \"symbol\": \"circle\"}, \"mode\": \"markers\", \"name\": \"Professional_Service\", \"showlegend\": true, \"x\": [145800.0], \"xaxis\": \"x\", \"y\": [145800.0], \"yaxis\": \"y\", \"type\": \"scatter\"}, {\"hovertemplate\": \"Industry=Public_Adminstration<br>Year=2010<br>Count=%{marker.size}<extra></extra>\", \"ids\": [\"Public_Adminstration\"], \"legendgroup\": \"Public_Adminstration\", \"marker\": {\"color\": \"#FF97FF\", \"size\": [418600.0], \"sizemode\": \"area\", \"sizeref\": 1087.25, \"symbol\": \"circle\"}, \"mode\": \"markers\", \"name\": \"Public_Adminstration\", \"showlegend\": true, \"x\": [418600.0], \"xaxis\": \"x\", \"y\": [418600.0], \"yaxis\": \"y\", \"type\": \"scatter\"}, {\"hovertemplate\": \"Industry=Other_Service<br>Year=2010<br>Count=%{marker.size}<extra></extra>\", \"ids\": [\"Other_Service\"], \"legendgroup\": \"Other_Service\", \"marker\": {\"color\": \"#FECB52\", \"size\": [68000.0], \"sizemode\": \"area\", \"sizeref\": 1087.25, \"symbol\": \"circle\"}, \"mode\": \"markers\", \"name\": \"Other_Service\", \"showlegend\": true, \"x\": [68000.0], \"xaxis\": \"x\", \"y\": [68000.0], \"yaxis\": \"y\", \"type\": \"scatter\"}], \"name\": \"2010\"}, {\"data\": [{\"hovertemplate\": \"Industry=Agriculture<br>Year=2011<br>Count=%{marker.size}<extra></extra>\", \"ids\": [\"Agriculture\"], \"legendgroup\": \"Agriculture\", \"marker\": {\"color\": \"#636efa\", \"size\": [36100.0], \"sizemode\": \"area\", \"sizeref\": 1087.25, \"symbol\": \"circle\"}, \"mode\": \"markers\", \"name\": \"Agriculture\", \"showlegend\": true, \"x\": [36100.0], \"xaxis\": \"x\", \"y\": [36100.0], \"yaxis\": \"y\", \"type\": \"scatter\"}, {\"hovertemplate\": \"Industry=Production<br>Year=2011<br>Count=%{marker.size}<extra></extra>\", \"ids\": [\"Production\"], \"legendgroup\": \"Production\", \"marker\": {\"color\": \"#EF553B\", \"size\": [158600.0], \"sizemode\": \"area\", \"sizeref\": 1087.25, \"symbol\": \"circle\"}, \"mode\": \"markers\", \"name\": \"Production\", \"showlegend\": true, \"x\": [158600.0], \"xaxis\": \"x\", \"y\": [158600.0], \"yaxis\": \"y\", \"type\": \"scatter\"}, {\"hovertemplate\": \"Industry=Construction<br>Year=2011<br>Count=%{marker.size}<extra></extra>\", \"ids\": [\"Construction\"], \"legendgroup\": \"Construction\", \"marker\": {\"color\": \"#00cc96\", \"size\": [90000.0], \"sizemode\": \"area\", \"sizeref\": 1087.25, \"symbol\": \"circle\"}, \"mode\": \"markers\", \"name\": \"Construction\", \"showlegend\": true, \"x\": [90000.0], \"xaxis\": \"x\", \"y\": [90000.0], \"yaxis\": \"y\", \"type\": \"scatter\"}, {\"hovertemplate\": \"Industry=Retail<br>Year=2011<br>Count=%{marker.size}<extra></extra>\", \"ids\": [\"Retail\"], \"legendgroup\": \"Retail\", \"marker\": {\"color\": \"#ab63fa\", \"size\": [343100.0], \"sizemode\": \"area\", \"sizeref\": 1087.25, \"symbol\": \"circle\"}, \"mode\": \"markers\", \"name\": \"Retail\", \"showlegend\": true, \"x\": [343100.0], \"xaxis\": \"x\", \"y\": [343100.0], \"yaxis\": \"y\", \"type\": \"scatter\"}, {\"hovertemplate\": \"Industry=ICT<br>Year=2011<br>Count=%{marker.size}<extra></extra>\", \"ids\": [\"ICT\"], \"legendgroup\": \"ICT\", \"marker\": {\"color\": \"#FFA15A\", \"size\": [26400.0], \"sizemode\": \"area\", \"sizeref\": 1087.25, \"symbol\": \"circle\"}, \"mode\": \"markers\", \"name\": \"ICT\", \"showlegend\": true, \"x\": [26400.0], \"xaxis\": \"x\", \"y\": [26400.0], \"yaxis\": \"y\", \"type\": \"scatter\"}, {\"hovertemplate\": \"Industry=Finance<br>Year=2011<br>Count=%{marker.size}<extra></extra>\", \"ids\": [\"Finance\"], \"legendgroup\": \"Finance\", \"marker\": {\"color\": \"#19d3f3\", \"size\": [33200.0], \"sizemode\": \"area\", \"sizeref\": 1087.25, \"symbol\": \"circle\"}, \"mode\": \"markers\", \"name\": \"Finance\", \"showlegend\": true, \"x\": [33200.0], \"xaxis\": \"x\", \"y\": [33200.0], \"yaxis\": \"y\", \"type\": \"scatter\"}, {\"hovertemplate\": \"Industry=Real_Estate<br>Year=2011<br>Count=%{marker.size}<extra></extra>\", \"ids\": [\"Real_Estate\"], \"legendgroup\": \"Real_Estate\", \"marker\": {\"color\": \"#FF6692\", \"size\": [17600.0], \"sizemode\": \"area\", \"sizeref\": 1087.25, \"symbol\": \"circle\"}, \"mode\": \"markers\", \"name\": \"Real_Estate\", \"showlegend\": true, \"x\": [17600.0], \"xaxis\": \"x\", \"y\": [17600.0], \"yaxis\": \"y\", \"type\": \"scatter\"}, {\"hovertemplate\": \"Industry=Professional_Service<br>Year=2011<br>Count=%{marker.size}<extra></extra>\", \"ids\": [\"Professional_Service\"], \"legendgroup\": \"Professional_Service\", \"marker\": {\"color\": \"#B6E880\", \"size\": [143600.0], \"sizemode\": \"area\", \"sizeref\": 1087.25, \"symbol\": \"circle\"}, \"mode\": \"markers\", \"name\": \"Professional_Service\", \"showlegend\": true, \"x\": [143600.0], \"xaxis\": \"x\", \"y\": [143600.0], \"yaxis\": \"y\", \"type\": \"scatter\"}, {\"hovertemplate\": \"Industry=Public_Adminstration<br>Year=2011<br>Count=%{marker.size}<extra></extra>\", \"ids\": [\"Public_Adminstration\"], \"legendgroup\": \"Public_Adminstration\", \"marker\": {\"color\": \"#FF97FF\", \"size\": [425600.0], \"sizemode\": \"area\", \"sizeref\": 1087.25, \"symbol\": \"circle\"}, \"mode\": \"markers\", \"name\": \"Public_Adminstration\", \"showlegend\": true, \"x\": [425600.0], \"xaxis\": \"x\", \"y\": [425600.0], \"yaxis\": \"y\", \"type\": \"scatter\"}, {\"hovertemplate\": \"Industry=Other_Service<br>Year=2011<br>Count=%{marker.size}<extra></extra>\", \"ids\": [\"Other_Service\"], \"legendgroup\": \"Other_Service\", \"marker\": {\"color\": \"#FECB52\", \"size\": [72400.0], \"sizemode\": \"area\", \"sizeref\": 1087.25, \"symbol\": \"circle\"}, \"mode\": \"markers\", \"name\": \"Other_Service\", \"showlegend\": true, \"x\": [72400.0], \"xaxis\": \"x\", \"y\": [72400.0], \"yaxis\": \"y\", \"type\": \"scatter\"}], \"name\": \"2011\"}, {\"data\": [{\"hovertemplate\": \"Industry=Agriculture<br>Year=2012<br>Count=%{marker.size}<extra></extra>\", \"ids\": [\"Agriculture\"], \"legendgroup\": \"Agriculture\", \"marker\": {\"color\": \"#636efa\", \"size\": [36100.0], \"sizemode\": \"area\", \"sizeref\": 1087.25, \"symbol\": \"circle\"}, \"mode\": \"markers\", \"name\": \"Agriculture\", \"showlegend\": true, \"x\": [36100.0], \"xaxis\": \"x\", \"y\": [36100.0], \"yaxis\": \"y\", \"type\": \"scatter\"}, {\"hovertemplate\": \"Industry=Production<br>Year=2012<br>Count=%{marker.size}<extra></extra>\", \"ids\": [\"Production\"], \"legendgroup\": \"Production\", \"marker\": {\"color\": \"#EF553B\", \"size\": [154400.0], \"sizemode\": \"area\", \"sizeref\": 1087.25, \"symbol\": \"circle\"}, \"mode\": \"markers\", \"name\": \"Production\", \"showlegend\": true, \"x\": [154400.0], \"xaxis\": \"x\", \"y\": [154400.0], \"yaxis\": \"y\", \"type\": \"scatter\"}, {\"hovertemplate\": \"Industry=Construction<br>Year=2012<br>Count=%{marker.size}<extra></extra>\", \"ids\": [\"Construction\"], \"legendgroup\": \"Construction\", \"marker\": {\"color\": \"#00cc96\", \"size\": [91300.0], \"sizemode\": \"area\", \"sizeref\": 1087.25, \"symbol\": \"circle\"}, \"mode\": \"markers\", \"name\": \"Construction\", \"showlegend\": true, \"x\": [91300.0], \"xaxis\": \"x\", \"y\": [91300.0], \"yaxis\": \"y\", \"type\": \"scatter\"}, {\"hovertemplate\": \"Industry=Retail<br>Year=2012<br>Count=%{marker.size}<extra></extra>\", \"ids\": [\"Retail\"], \"legendgroup\": \"Retail\", \"marker\": {\"color\": \"#ab63fa\", \"size\": [347300.0], \"sizemode\": \"area\", \"sizeref\": 1087.25, \"symbol\": \"circle\"}, \"mode\": \"markers\", \"name\": \"Retail\", \"showlegend\": true, \"x\": [347300.0], \"xaxis\": \"x\", \"y\": [347300.0], \"yaxis\": \"y\", \"type\": \"scatter\"}, {\"hovertemplate\": \"Industry=ICT<br>Year=2012<br>Count=%{marker.size}<extra></extra>\", \"ids\": [\"ICT\"], \"legendgroup\": \"ICT\", \"marker\": {\"color\": \"#FFA15A\", \"size\": [27200.0], \"sizemode\": \"area\", \"sizeref\": 1087.25, \"symbol\": \"circle\"}, \"mode\": \"markers\", \"name\": \"ICT\", \"showlegend\": true, \"x\": [27200.0], \"xaxis\": \"x\", \"y\": [27200.0], \"yaxis\": \"y\", \"type\": \"scatter\"}, {\"hovertemplate\": \"Industry=Finance<br>Year=2012<br>Count=%{marker.size}<extra></extra>\", \"ids\": [\"Finance\"], \"legendgroup\": \"Finance\", \"marker\": {\"color\": \"#19d3f3\", \"size\": [31100.0], \"sizemode\": \"area\", \"sizeref\": 1087.25, \"symbol\": \"circle\"}, \"mode\": \"markers\", \"name\": \"Finance\", \"showlegend\": true, \"x\": [31100.0], \"xaxis\": \"x\", \"y\": [31100.0], \"yaxis\": \"y\", \"type\": \"scatter\"}, {\"hovertemplate\": \"Industry=Real_Estate<br>Year=2012<br>Count=%{marker.size}<extra></extra>\", \"ids\": [\"Real_Estate\"], \"legendgroup\": \"Real_Estate\", \"marker\": {\"color\": \"#FF6692\", \"size\": [18800.0], \"sizemode\": \"area\", \"sizeref\": 1087.25, \"symbol\": \"circle\"}, \"mode\": \"markers\", \"name\": \"Real_Estate\", \"showlegend\": true, \"x\": [18800.0], \"xaxis\": \"x\", \"y\": [18800.0], \"yaxis\": \"y\", \"type\": \"scatter\"}, {\"hovertemplate\": \"Industry=Professional_Service<br>Year=2012<br>Count=%{marker.size}<extra></extra>\", \"ids\": [\"Professional_Service\"], \"legendgroup\": \"Professional_Service\", \"marker\": {\"color\": \"#B6E880\", \"size\": [137300.0], \"sizemode\": \"area\", \"sizeref\": 1087.25, \"symbol\": \"circle\"}, \"mode\": \"markers\", \"name\": \"Professional_Service\", \"showlegend\": true, \"x\": [137300.0], \"xaxis\": \"x\", \"y\": [137300.0], \"yaxis\": \"y\", \"type\": \"scatter\"}, {\"hovertemplate\": \"Industry=Public_Adminstration<br>Year=2012<br>Count=%{marker.size}<extra></extra>\", \"ids\": [\"Public_Adminstration\"], \"legendgroup\": \"Public_Adminstration\", \"marker\": {\"color\": \"#FF97FF\", \"size\": [421000.0], \"sizemode\": \"area\", \"sizeref\": 1087.25, \"symbol\": \"circle\"}, \"mode\": \"markers\", \"name\": \"Public_Adminstration\", \"showlegend\": true, \"x\": [421000.0], \"xaxis\": \"x\", \"y\": [421000.0], \"yaxis\": \"y\", \"type\": \"scatter\"}, {\"hovertemplate\": \"Industry=Other_Service<br>Year=2012<br>Count=%{marker.size}<extra></extra>\", \"ids\": [\"Other_Service\"], \"legendgroup\": \"Other_Service\", \"marker\": {\"color\": \"#FECB52\", \"size\": [72800.0], \"sizemode\": \"area\", \"sizeref\": 1087.25, \"symbol\": \"circle\"}, \"mode\": \"markers\", \"name\": \"Other_Service\", \"showlegend\": true, \"x\": [72800.0], \"xaxis\": \"x\", \"y\": [72800.0], \"yaxis\": \"y\", \"type\": \"scatter\"}], \"name\": \"2012\"}, {\"data\": [{\"hovertemplate\": \"Industry=Agriculture<br>Year=2013<br>Count=%{marker.size}<extra></extra>\", \"ids\": [\"Agriculture\"], \"legendgroup\": \"Agriculture\", \"marker\": {\"color\": \"#636efa\", \"size\": [36800.0], \"sizemode\": \"area\", \"sizeref\": 1087.25, \"symbol\": \"circle\"}, \"mode\": \"markers\", \"name\": \"Agriculture\", \"showlegend\": true, \"x\": [36800.0], \"xaxis\": \"x\", \"y\": [36800.0], \"yaxis\": \"y\", \"type\": \"scatter\"}, {\"hovertemplate\": \"Industry=Production<br>Year=2013<br>Count=%{marker.size}<extra></extra>\", \"ids\": [\"Production\"], \"legendgroup\": \"Production\", \"marker\": {\"color\": \"#EF553B\", \"size\": [164200.0], \"sizemode\": \"area\", \"sizeref\": 1087.25, \"symbol\": \"circle\"}, \"mode\": \"markers\", \"name\": \"Production\", \"showlegend\": true, \"x\": [164200.0], \"xaxis\": \"x\", \"y\": [164200.0], \"yaxis\": \"y\", \"type\": \"scatter\"}, {\"hovertemplate\": \"Industry=Construction<br>Year=2013<br>Count=%{marker.size}<extra></extra>\", \"ids\": [\"Construction\"], \"legendgroup\": \"Construction\", \"marker\": {\"color\": \"#00cc96\", \"size\": [89300.0], \"sizemode\": \"area\", \"sizeref\": 1087.25, \"symbol\": \"circle\"}, \"mode\": \"markers\", \"name\": \"Construction\", \"showlegend\": true, \"x\": [89300.0], \"xaxis\": \"x\", \"y\": [89300.0], \"yaxis\": \"y\", \"type\": \"scatter\"}, {\"hovertemplate\": \"Industry=Retail<br>Year=2013<br>Count=%{marker.size}<extra></extra>\", \"ids\": [\"Retail\"], \"legendgroup\": \"Retail\", \"marker\": {\"color\": \"#ab63fa\", \"size\": [345100.0], \"sizemode\": \"area\", \"sizeref\": 1087.25, \"symbol\": \"circle\"}, \"mode\": \"markers\", \"name\": \"Retail\", \"showlegend\": true, \"x\": [345100.0], \"xaxis\": \"x\", \"y\": [345100.0], \"yaxis\": \"y\", \"type\": \"scatter\"}, {\"hovertemplate\": \"Industry=ICT<br>Year=2013<br>Count=%{marker.size}<extra></extra>\", \"ids\": [\"ICT\"], \"legendgroup\": \"ICT\", \"marker\": {\"color\": \"#FFA15A\", \"size\": [26900.0], \"sizemode\": \"area\", \"sizeref\": 1087.25, \"symbol\": \"circle\"}, \"mode\": \"markers\", \"name\": \"ICT\", \"showlegend\": true, \"x\": [26900.0], \"xaxis\": \"x\", \"y\": [26900.0], \"yaxis\": \"y\", \"type\": \"scatter\"}, {\"hovertemplate\": \"Industry=Finance<br>Year=2013<br>Count=%{marker.size}<extra></extra>\", \"ids\": [\"Finance\"], \"legendgroup\": \"Finance\", \"marker\": {\"color\": \"#19d3f3\", \"size\": [32400.0], \"sizemode\": \"area\", \"sizeref\": 1087.25, \"symbol\": \"circle\"}, \"mode\": \"markers\", \"name\": \"Finance\", \"showlegend\": true, \"x\": [32400.0], \"xaxis\": \"x\", \"y\": [32400.0], \"yaxis\": \"y\", \"type\": \"scatter\"}, {\"hovertemplate\": \"Industry=Real_Estate<br>Year=2013<br>Count=%{marker.size}<extra></extra>\", \"ids\": [\"Real_Estate\"], \"legendgroup\": \"Real_Estate\", \"marker\": {\"color\": \"#FF6692\", \"size\": [18000.0], \"sizemode\": \"area\", \"sizeref\": 1087.25, \"symbol\": \"circle\"}, \"mode\": \"markers\", \"name\": \"Real_Estate\", \"showlegend\": true, \"x\": [18000.0], \"xaxis\": \"x\", \"y\": [18000.0], \"yaxis\": \"y\", \"type\": \"scatter\"}, {\"hovertemplate\": \"Industry=Professional_Service<br>Year=2013<br>Count=%{marker.size}<extra></extra>\", \"ids\": [\"Professional_Service\"], \"legendgroup\": \"Professional_Service\", \"marker\": {\"color\": \"#B6E880\", \"size\": [149900.0], \"sizemode\": \"area\", \"sizeref\": 1087.25, \"symbol\": \"circle\"}, \"mode\": \"markers\", \"name\": \"Professional_Service\", \"showlegend\": true, \"x\": [149900.0], \"xaxis\": \"x\", \"y\": [149900.0], \"yaxis\": \"y\", \"type\": \"scatter\"}, {\"hovertemplate\": \"Industry=Public_Adminstration<br>Year=2013<br>Count=%{marker.size}<extra></extra>\", \"ids\": [\"Public_Adminstration\"], \"legendgroup\": \"Public_Adminstration\", \"marker\": {\"color\": \"#FF97FF\", \"size\": [427000.0], \"sizemode\": \"area\", \"sizeref\": 1087.25, \"symbol\": \"circle\"}, \"mode\": \"markers\", \"name\": \"Public_Adminstration\", \"showlegend\": true, \"x\": [427000.0], \"xaxis\": \"x\", \"y\": [427000.0], \"yaxis\": \"y\", \"type\": \"scatter\"}, {\"hovertemplate\": \"Industry=Other_Service<br>Year=2013<br>Count=%{marker.size}<extra></extra>\", \"ids\": [\"Other_Service\"], \"legendgroup\": \"Other_Service\", \"marker\": {\"color\": \"#FECB52\", \"size\": [75500.0], \"sizemode\": \"area\", \"sizeref\": 1087.25, \"symbol\": \"circle\"}, \"mode\": \"markers\", \"name\": \"Other_Service\", \"showlegend\": true, \"x\": [75500.0], \"xaxis\": \"x\", \"y\": [75500.0], \"yaxis\": \"y\", \"type\": \"scatter\"}], \"name\": \"2013\"}, {\"data\": [{\"hovertemplate\": \"Industry=Agriculture<br>Year=2014<br>Count=%{marker.size}<extra></extra>\", \"ids\": [\"Agriculture\"], \"legendgroup\": \"Agriculture\", \"marker\": {\"color\": \"#636efa\", \"size\": [42700.0], \"sizemode\": \"area\", \"sizeref\": 1087.25, \"symbol\": \"circle\"}, \"mode\": \"markers\", \"name\": \"Agriculture\", \"showlegend\": true, \"x\": [42700.0], \"xaxis\": \"x\", \"y\": [42700.0], \"yaxis\": \"y\", \"type\": \"scatter\"}, {\"hovertemplate\": \"Industry=Production<br>Year=2014<br>Count=%{marker.size}<extra></extra>\", \"ids\": [\"Production\"], \"legendgroup\": \"Production\", \"marker\": {\"color\": \"#EF553B\", \"size\": [173300.0], \"sizemode\": \"area\", \"sizeref\": 1087.25, \"symbol\": \"circle\"}, \"mode\": \"markers\", \"name\": \"Production\", \"showlegend\": true, \"x\": [173300.0], \"xaxis\": \"x\", \"y\": [173300.0], \"yaxis\": \"y\", \"type\": \"scatter\"}, {\"hovertemplate\": \"Industry=Construction<br>Year=2014<br>Count=%{marker.size}<extra></extra>\", \"ids\": [\"Construction\"], \"legendgroup\": \"Construction\", \"marker\": {\"color\": \"#00cc96\", \"size\": [97000.0], \"sizemode\": \"area\", \"sizeref\": 1087.25, \"symbol\": \"circle\"}, \"mode\": \"markers\", \"name\": \"Construction\", \"showlegend\": true, \"x\": [97000.0], \"xaxis\": \"x\", \"y\": [97000.0], \"yaxis\": \"y\", \"type\": \"scatter\"}, {\"hovertemplate\": \"Industry=Retail<br>Year=2014<br>Count=%{marker.size}<extra></extra>\", \"ids\": [\"Retail\"], \"legendgroup\": \"Retail\", \"marker\": {\"color\": \"#ab63fa\", \"size\": [337300.0], \"sizemode\": \"area\", \"sizeref\": 1087.25, \"symbol\": \"circle\"}, \"mode\": \"markers\", \"name\": \"Retail\", \"showlegend\": true, \"x\": [337300.0], \"xaxis\": \"x\", \"y\": [337300.0], \"yaxis\": \"y\", \"type\": \"scatter\"}, {\"hovertemplate\": \"Industry=ICT<br>Year=2014<br>Count=%{marker.size}<extra></extra>\", \"ids\": [\"ICT\"], \"legendgroup\": \"ICT\", \"marker\": {\"color\": \"#FFA15A\", \"size\": [35700.0], \"sizemode\": \"area\", \"sizeref\": 1087.25, \"symbol\": \"circle\"}, \"mode\": \"markers\", \"name\": \"ICT\", \"showlegend\": true, \"x\": [35700.0], \"xaxis\": \"x\", \"y\": [35700.0], \"yaxis\": \"y\", \"type\": \"scatter\"}, {\"hovertemplate\": \"Industry=Finance<br>Year=2014<br>Count=%{marker.size}<extra></extra>\", \"ids\": [\"Finance\"], \"legendgroup\": \"Finance\", \"marker\": {\"color\": \"#19d3f3\", \"size\": [32400.0], \"sizemode\": \"area\", \"sizeref\": 1087.25, \"symbol\": \"circle\"}, \"mode\": \"markers\", \"name\": \"Finance\", \"showlegend\": true, \"x\": [32400.0], \"xaxis\": \"x\", \"y\": [32400.0], \"yaxis\": \"y\", \"type\": \"scatter\"}, {\"hovertemplate\": \"Industry=Real_Estate<br>Year=2014<br>Count=%{marker.size}<extra></extra>\", \"ids\": [\"Real_Estate\"], \"legendgroup\": \"Real_Estate\", \"marker\": {\"color\": \"#FF6692\", \"size\": [22200.0], \"sizemode\": \"area\", \"sizeref\": 1087.25, \"symbol\": \"circle\"}, \"mode\": \"markers\", \"name\": \"Real_Estate\", \"showlegend\": true, \"x\": [22200.0], \"xaxis\": \"x\", \"y\": [22200.0], \"yaxis\": \"y\", \"type\": \"scatter\"}, {\"hovertemplate\": \"Industry=Professional_Service<br>Year=2014<br>Count=%{marker.size}<extra></extra>\", \"ids\": [\"Professional_Service\"], \"legendgroup\": \"Professional_Service\", \"marker\": {\"color\": \"#B6E880\", \"size\": [152900.0], \"sizemode\": \"area\", \"sizeref\": 1087.25, \"symbol\": \"circle\"}, \"mode\": \"markers\", \"name\": \"Professional_Service\", \"showlegend\": true, \"x\": [152900.0], \"xaxis\": \"x\", \"y\": [152900.0], \"yaxis\": \"y\", \"type\": \"scatter\"}, {\"hovertemplate\": \"Industry=Public_Adminstration<br>Year=2014<br>Count=%{marker.size}<extra></extra>\", \"ids\": [\"Public_Adminstration\"], \"legendgroup\": \"Public_Adminstration\", \"marker\": {\"color\": \"#FF97FF\", \"size\": [427600.0], \"sizemode\": \"area\", \"sizeref\": 1087.25, \"symbol\": \"circle\"}, \"mode\": \"markers\", \"name\": \"Public_Adminstration\", \"showlegend\": true, \"x\": [427600.0], \"xaxis\": \"x\", \"y\": [427600.0], \"yaxis\": \"y\", \"type\": \"scatter\"}, {\"hovertemplate\": \"Industry=Other_Service<br>Year=2014<br>Count=%{marker.size}<extra></extra>\", \"ids\": [\"Other_Service\"], \"legendgroup\": \"Other_Service\", \"marker\": {\"color\": \"#FECB52\", \"size\": [73300.0], \"sizemode\": \"area\", \"sizeref\": 1087.25, \"symbol\": \"circle\"}, \"mode\": \"markers\", \"name\": \"Other_Service\", \"showlegend\": true, \"x\": [73300.0], \"xaxis\": \"x\", \"y\": [73300.0], \"yaxis\": \"y\", \"type\": \"scatter\"}], \"name\": \"2014\"}, {\"data\": [{\"hovertemplate\": \"Industry=Agriculture<br>Year=2015<br>Count=%{marker.size}<extra></extra>\", \"ids\": [\"Agriculture\"], \"legendgroup\": \"Agriculture\", \"marker\": {\"color\": \"#636efa\", \"size\": [40700.0], \"sizemode\": \"area\", \"sizeref\": 1087.25, \"symbol\": \"circle\"}, \"mode\": \"markers\", \"name\": \"Agriculture\", \"showlegend\": true, \"x\": [40700.0], \"xaxis\": \"x\", \"y\": [40700.0], \"yaxis\": \"y\", \"type\": \"scatter\"}, {\"hovertemplate\": \"Industry=Production<br>Year=2015<br>Count=%{marker.size}<extra></extra>\", \"ids\": [\"Production\"], \"legendgroup\": \"Production\", \"marker\": {\"color\": \"#EF553B\", \"size\": [172300.0], \"sizemode\": \"area\", \"sizeref\": 1087.25, \"symbol\": \"circle\"}, \"mode\": \"markers\", \"name\": \"Production\", \"showlegend\": true, \"x\": [172300.0], \"xaxis\": \"x\", \"y\": [172300.0], \"yaxis\": \"y\", \"type\": \"scatter\"}, {\"hovertemplate\": \"Industry=Construction<br>Year=2015<br>Count=%{marker.size}<extra></extra>\", \"ids\": [\"Construction\"], \"legendgroup\": \"Construction\", \"marker\": {\"color\": \"#00cc96\", \"size\": [92600.0], \"sizemode\": \"area\", \"sizeref\": 1087.25, \"symbol\": \"circle\"}, \"mode\": \"markers\", \"name\": \"Construction\", \"showlegend\": true, \"x\": [92600.0], \"xaxis\": \"x\", \"y\": [92600.0], \"yaxis\": \"y\", \"type\": \"scatter\"}, {\"hovertemplate\": \"Industry=Retail<br>Year=2015<br>Count=%{marker.size}<extra></extra>\", \"ids\": [\"Retail\"], \"legendgroup\": \"Retail\", \"marker\": {\"color\": \"#ab63fa\", \"size\": [357700.0], \"sizemode\": \"area\", \"sizeref\": 1087.25, \"symbol\": \"circle\"}, \"mode\": \"markers\", \"name\": \"Retail\", \"showlegend\": true, \"x\": [357700.0], \"xaxis\": \"x\", \"y\": [357700.0], \"yaxis\": \"y\", \"type\": \"scatter\"}, {\"hovertemplate\": \"Industry=ICT<br>Year=2015<br>Count=%{marker.size}<extra></extra>\", \"ids\": [\"ICT\"], \"legendgroup\": \"ICT\", \"marker\": {\"color\": \"#FFA15A\", \"size\": [24000.0], \"sizemode\": \"area\", \"sizeref\": 1087.25, \"symbol\": \"circle\"}, \"mode\": \"markers\", \"name\": \"ICT\", \"showlegend\": true, \"x\": [24000.0], \"xaxis\": \"x\", \"y\": [24000.0], \"yaxis\": \"y\", \"type\": \"scatter\"}, {\"hovertemplate\": \"Industry=Finance<br>Year=2015<br>Count=%{marker.size}<extra></extra>\", \"ids\": [\"Finance\"], \"legendgroup\": \"Finance\", \"marker\": {\"color\": \"#19d3f3\", \"size\": [30800.0], \"sizemode\": \"area\", \"sizeref\": 1087.25, \"symbol\": \"circle\"}, \"mode\": \"markers\", \"name\": \"Finance\", \"showlegend\": true, \"x\": [30800.0], \"xaxis\": \"x\", \"y\": [30800.0], \"yaxis\": \"y\", \"type\": \"scatter\"}, {\"hovertemplate\": \"Industry=Real_Estate<br>Year=2015<br>Count=%{marker.size}<extra></extra>\", \"ids\": [\"Real_Estate\"], \"legendgroup\": \"Real_Estate\", \"marker\": {\"color\": \"#FF6692\", \"size\": [19100.0], \"sizemode\": \"area\", \"sizeref\": 1087.25, \"symbol\": \"circle\"}, \"mode\": \"markers\", \"name\": \"Real_Estate\", \"showlegend\": true, \"x\": [19100.0], \"xaxis\": \"x\", \"y\": [19100.0], \"yaxis\": \"y\", \"type\": \"scatter\"}, {\"hovertemplate\": \"Industry=Professional_Service<br>Year=2015<br>Count=%{marker.size}<extra></extra>\", \"ids\": [\"Professional_Service\"], \"legendgroup\": \"Professional_Service\", \"marker\": {\"color\": \"#B6E880\", \"size\": [166200.0], \"sizemode\": \"area\", \"sizeref\": 1087.25, \"symbol\": \"circle\"}, \"mode\": \"markers\", \"name\": \"Professional_Service\", \"showlegend\": true, \"x\": [166200.0], \"xaxis\": \"x\", \"y\": [166200.0], \"yaxis\": \"y\", \"type\": \"scatter\"}, {\"hovertemplate\": \"Industry=Public_Adminstration<br>Year=2015<br>Count=%{marker.size}<extra></extra>\", \"ids\": [\"Public_Adminstration\"], \"legendgroup\": \"Public_Adminstration\", \"marker\": {\"color\": \"#FF97FF\", \"size\": [423200.0], \"sizemode\": \"area\", \"sizeref\": 1087.25, \"symbol\": \"circle\"}, \"mode\": \"markers\", \"name\": \"Public_Adminstration\", \"showlegend\": true, \"x\": [423200.0], \"xaxis\": \"x\", \"y\": [423200.0], \"yaxis\": \"y\", \"type\": \"scatter\"}, {\"hovertemplate\": \"Industry=Other_Service<br>Year=2015<br>Count=%{marker.size}<extra></extra>\", \"ids\": [\"Other_Service\"], \"legendgroup\": \"Other_Service\", \"marker\": {\"color\": \"#FECB52\", \"size\": [77200.0], \"sizemode\": \"area\", \"sizeref\": 1087.25, \"symbol\": \"circle\"}, \"mode\": \"markers\", \"name\": \"Other_Service\", \"showlegend\": true, \"x\": [77200.0], \"xaxis\": \"x\", \"y\": [77200.0], \"yaxis\": \"y\", \"type\": \"scatter\"}], \"name\": \"2015\"}, {\"data\": [{\"hovertemplate\": \"Industry=Agriculture<br>Year=2016<br>Count=%{marker.size}<extra></extra>\", \"ids\": [\"Agriculture\"], \"legendgroup\": \"Agriculture\", \"marker\": {\"color\": \"#636efa\", \"size\": [43200.0], \"sizemode\": \"area\", \"sizeref\": 1087.25, \"symbol\": \"circle\"}, \"mode\": \"markers\", \"name\": \"Agriculture\", \"showlegend\": true, \"x\": [43200.0], \"xaxis\": \"x\", \"y\": [43200.0], \"yaxis\": \"y\", \"type\": \"scatter\"}, {\"hovertemplate\": \"Industry=Production<br>Year=2016<br>Count=%{marker.size}<extra></extra>\", \"ids\": [\"Production\"], \"legendgroup\": \"Production\", \"marker\": {\"color\": \"#EF553B\", \"size\": [162500.0], \"sizemode\": \"area\", \"sizeref\": 1087.25, \"symbol\": \"circle\"}, \"mode\": \"markers\", \"name\": \"Production\", \"showlegend\": true, \"x\": [162500.0], \"xaxis\": \"x\", \"y\": [162500.0], \"yaxis\": \"y\", \"type\": \"scatter\"}, {\"hovertemplate\": \"Industry=Construction<br>Year=2016<br>Count=%{marker.size}<extra></extra>\", \"ids\": [\"Construction\"], \"legendgroup\": \"Construction\", \"marker\": {\"color\": \"#00cc96\", \"size\": [102700.0], \"sizemode\": \"area\", \"sizeref\": 1087.25, \"symbol\": \"circle\"}, \"mode\": \"markers\", \"name\": \"Construction\", \"showlegend\": true, \"x\": [102700.0], \"xaxis\": \"x\", \"y\": [102700.0], \"yaxis\": \"y\", \"type\": \"scatter\"}, {\"hovertemplate\": \"Industry=Retail<br>Year=2016<br>Count=%{marker.size}<extra></extra>\", \"ids\": [\"Retail\"], \"legendgroup\": \"Retail\", \"marker\": {\"color\": \"#ab63fa\", \"size\": [360200.0], \"sizemode\": \"area\", \"sizeref\": 1087.25, \"symbol\": \"circle\"}, \"mode\": \"markers\", \"name\": \"Retail\", \"showlegend\": true, \"x\": [360200.0], \"xaxis\": \"x\", \"y\": [360200.0], \"yaxis\": \"y\", \"type\": \"scatter\"}, {\"hovertemplate\": \"Industry=ICT<br>Year=2016<br>Count=%{marker.size}<extra></extra>\", \"ids\": [\"ICT\"], \"legendgroup\": \"ICT\", \"marker\": {\"color\": \"#FFA15A\", \"size\": [34400.0], \"sizemode\": \"area\", \"sizeref\": 1087.25, \"symbol\": \"circle\"}, \"mode\": \"markers\", \"name\": \"ICT\", \"showlegend\": true, \"x\": [34400.0], \"xaxis\": \"x\", \"y\": [34400.0], \"yaxis\": \"y\", \"type\": \"scatter\"}, {\"hovertemplate\": \"Industry=Finance<br>Year=2016<br>Count=%{marker.size}<extra></extra>\", \"ids\": [\"Finance\"], \"legendgroup\": \"Finance\", \"marker\": {\"color\": \"#19d3f3\", \"size\": [31000.0], \"sizemode\": \"area\", \"sizeref\": 1087.25, \"symbol\": \"circle\"}, \"mode\": \"markers\", \"name\": \"Finance\", \"showlegend\": true, \"x\": [31000.0], \"xaxis\": \"x\", \"y\": [31000.0], \"yaxis\": \"y\", \"type\": \"scatter\"}, {\"hovertemplate\": \"Industry=Real_Estate<br>Year=2016<br>Count=%{marker.size}<extra></extra>\", \"ids\": [\"Real_Estate\"], \"legendgroup\": \"Real_Estate\", \"marker\": {\"color\": \"#FF6692\", \"size\": [22700.0], \"sizemode\": \"area\", \"sizeref\": 1087.25, \"symbol\": \"circle\"}, \"mode\": \"markers\", \"name\": \"Real_Estate\", \"showlegend\": true, \"x\": [22700.0], \"xaxis\": \"x\", \"y\": [22700.0], \"yaxis\": \"y\", \"type\": \"scatter\"}, {\"hovertemplate\": \"Industry=Professional_Service<br>Year=2016<br>Count=%{marker.size}<extra></extra>\", \"ids\": [\"Professional_Service\"], \"legendgroup\": \"Professional_Service\", \"marker\": {\"color\": \"#B6E880\", \"size\": [161200.0], \"sizemode\": \"area\", \"sizeref\": 1087.25, \"symbol\": \"circle\"}, \"mode\": \"markers\", \"name\": \"Professional_Service\", \"showlegend\": true, \"x\": [161200.0], \"xaxis\": \"x\", \"y\": [161200.0], \"yaxis\": \"y\", \"type\": \"scatter\"}, {\"hovertemplate\": \"Industry=Public_Adminstration<br>Year=2016<br>Count=%{marker.size}<extra></extra>\", \"ids\": [\"Public_Adminstration\"], \"legendgroup\": \"Public_Adminstration\", \"marker\": {\"color\": \"#FF97FF\", \"size\": [418500.0], \"sizemode\": \"area\", \"sizeref\": 1087.25, \"symbol\": \"circle\"}, \"mode\": \"markers\", \"name\": \"Public_Adminstration\", \"showlegend\": true, \"x\": [418500.0], \"xaxis\": \"x\", \"y\": [418500.0], \"yaxis\": \"y\", \"type\": \"scatter\"}, {\"hovertemplate\": \"Industry=Other_Service<br>Year=2016<br>Count=%{marker.size}<extra></extra>\", \"ids\": [\"Other_Service\"], \"legendgroup\": \"Other_Service\", \"marker\": {\"color\": \"#FECB52\", \"size\": [72400.0], \"sizemode\": \"area\", \"sizeref\": 1087.25, \"symbol\": \"circle\"}, \"mode\": \"markers\", \"name\": \"Other_Service\", \"showlegend\": true, \"x\": [72400.0], \"xaxis\": \"x\", \"y\": [72400.0], \"yaxis\": \"y\", \"type\": \"scatter\"}], \"name\": \"2016\"}, {\"data\": [{\"hovertemplate\": \"Industry=Agriculture<br>Year=2017<br>Count=%{marker.size}<extra></extra>\", \"ids\": [\"Agriculture\"], \"legendgroup\": \"Agriculture\", \"marker\": {\"color\": \"#636efa\", \"size\": [40200.0], \"sizemode\": \"area\", \"sizeref\": 1087.25, \"symbol\": \"circle\"}, \"mode\": \"markers\", \"name\": \"Agriculture\", \"showlegend\": true, \"x\": [40200.0], \"xaxis\": \"x\", \"y\": [40200.0], \"yaxis\": \"y\", \"type\": \"scatter\"}, {\"hovertemplate\": \"Industry=Production<br>Year=2017<br>Count=%{marker.size}<extra></extra>\", \"ids\": [\"Production\"], \"legendgroup\": \"Production\", \"marker\": {\"color\": \"#EF553B\", \"size\": [165100.0], \"sizemode\": \"area\", \"sizeref\": 1087.25, \"symbol\": \"circle\"}, \"mode\": \"markers\", \"name\": \"Production\", \"showlegend\": true, \"x\": [165100.0], \"xaxis\": \"x\", \"y\": [165100.0], \"yaxis\": \"y\", \"type\": \"scatter\"}, {\"hovertemplate\": \"Industry=Construction<br>Year=2017<br>Count=%{marker.size}<extra></extra>\", \"ids\": [\"Construction\"], \"legendgroup\": \"Construction\", \"marker\": {\"color\": \"#00cc96\", \"size\": [90800.0], \"sizemode\": \"area\", \"sizeref\": 1087.25, \"symbol\": \"circle\"}, \"mode\": \"markers\", \"name\": \"Construction\", \"showlegend\": true, \"x\": [90800.0], \"xaxis\": \"x\", \"y\": [90800.0], \"yaxis\": \"y\", \"type\": \"scatter\"}, {\"hovertemplate\": \"Industry=Retail<br>Year=2017<br>Count=%{marker.size}<extra></extra>\", \"ids\": [\"Retail\"], \"legendgroup\": \"Retail\", \"marker\": {\"color\": \"#ab63fa\", \"size\": [333500.0], \"sizemode\": \"area\", \"sizeref\": 1087.25, \"symbol\": \"circle\"}, \"mode\": \"markers\", \"name\": \"Retail\", \"showlegend\": true, \"x\": [333500.0], \"xaxis\": \"x\", \"y\": [333500.0], \"yaxis\": \"y\", \"type\": \"scatter\"}, {\"hovertemplate\": \"Industry=ICT<br>Year=2017<br>Count=%{marker.size}<extra></extra>\", \"ids\": [\"ICT\"], \"legendgroup\": \"ICT\", \"marker\": {\"color\": \"#FFA15A\", \"size\": [58900.0], \"sizemode\": \"area\", \"sizeref\": 1087.25, \"symbol\": \"circle\"}, \"mode\": \"markers\", \"name\": \"ICT\", \"showlegend\": true, \"x\": [58900.0], \"xaxis\": \"x\", \"y\": [58900.0], \"yaxis\": \"y\", \"type\": \"scatter\"}, {\"hovertemplate\": \"Industry=Finance<br>Year=2017<br>Count=%{marker.size}<extra></extra>\", \"ids\": [\"Finance\"], \"legendgroup\": \"Finance\", \"marker\": {\"color\": \"#19d3f3\", \"size\": [32100.0], \"sizemode\": \"area\", \"sizeref\": 1087.25, \"symbol\": \"circle\"}, \"mode\": \"markers\", \"name\": \"Finance\", \"showlegend\": true, \"x\": [32100.0], \"xaxis\": \"x\", \"y\": [32100.0], \"yaxis\": \"y\", \"type\": \"scatter\"}, {\"hovertemplate\": \"Industry=Real_Estate<br>Year=2017<br>Count=%{marker.size}<extra></extra>\", \"ids\": [\"Real_Estate\"], \"legendgroup\": \"Real_Estate\", \"marker\": {\"color\": \"#FF6692\", \"size\": [18200.0], \"sizemode\": \"area\", \"sizeref\": 1087.25, \"symbol\": \"circle\"}, \"mode\": \"markers\", \"name\": \"Real_Estate\", \"showlegend\": true, \"x\": [18200.0], \"xaxis\": \"x\", \"y\": [18200.0], \"yaxis\": \"y\", \"type\": \"scatter\"}, {\"hovertemplate\": \"Industry=Professional_Service<br>Year=2017<br>Count=%{marker.size}<extra></extra>\", \"ids\": [\"Professional_Service\"], \"legendgroup\": \"Professional_Service\", \"marker\": {\"color\": \"#B6E880\", \"size\": [176400.0], \"sizemode\": \"area\", \"sizeref\": 1087.25, \"symbol\": \"circle\"}, \"mode\": \"markers\", \"name\": \"Professional_Service\", \"showlegend\": true, \"x\": [176400.0], \"xaxis\": \"x\", \"y\": [176400.0], \"yaxis\": \"y\", \"type\": \"scatter\"}, {\"hovertemplate\": \"Industry=Public_Adminstration<br>Year=2017<br>Count=%{marker.size}<extra></extra>\", \"ids\": [\"Public_Adminstration\"], \"legendgroup\": \"Public_Adminstration\", \"marker\": {\"color\": \"#FF97FF\", \"size\": [424500.0], \"sizemode\": \"area\", \"sizeref\": 1087.25, \"symbol\": \"circle\"}, \"mode\": \"markers\", \"name\": \"Public_Adminstration\", \"showlegend\": true, \"x\": [424500.0], \"xaxis\": \"x\", \"y\": [424500.0], \"yaxis\": \"y\", \"type\": \"scatter\"}, {\"hovertemplate\": \"Industry=Other_Service<br>Year=2017<br>Count=%{marker.size}<extra></extra>\", \"ids\": [\"Other_Service\"], \"legendgroup\": \"Other_Service\", \"marker\": {\"color\": \"#FECB52\", \"size\": [83200.0], \"sizemode\": \"area\", \"sizeref\": 1087.25, \"symbol\": \"circle\"}, \"mode\": \"markers\", \"name\": \"Other_Service\", \"showlegend\": true, \"x\": [83200.0], \"xaxis\": \"x\", \"y\": [83200.0], \"yaxis\": \"y\", \"type\": \"scatter\"}], \"name\": \"2017\"}, {\"data\": [{\"hovertemplate\": \"Industry=Agriculture<br>Year=2018<br>Count=%{marker.size}<extra></extra>\", \"ids\": [\"Agriculture\"], \"legendgroup\": \"Agriculture\", \"marker\": {\"color\": \"#636efa\", \"size\": [41100.0], \"sizemode\": \"area\", \"sizeref\": 1087.25, \"symbol\": \"circle\"}, \"mode\": \"markers\", \"name\": \"Agriculture\", \"showlegend\": true, \"x\": [41100.0], \"xaxis\": \"x\", \"y\": [41100.0], \"yaxis\": \"y\", \"type\": \"scatter\"}, {\"hovertemplate\": \"Industry=Production<br>Year=2018<br>Count=%{marker.size}<extra></extra>\", \"ids\": [\"Production\"], \"legendgroup\": \"Production\", \"marker\": {\"color\": \"#EF553B\", \"size\": [165700.0], \"sizemode\": \"area\", \"sizeref\": 1087.25, \"symbol\": \"circle\"}, \"mode\": \"markers\", \"name\": \"Production\", \"showlegend\": true, \"x\": [165700.0], \"xaxis\": \"x\", \"y\": [165700.0], \"yaxis\": \"y\", \"type\": \"scatter\"}, {\"hovertemplate\": \"Industry=Construction<br>Year=2018<br>Count=%{marker.size}<extra></extra>\", \"ids\": [\"Construction\"], \"legendgroup\": \"Construction\", \"marker\": {\"color\": \"#00cc96\", \"size\": [101800.0], \"sizemode\": \"area\", \"sizeref\": 1087.25, \"symbol\": \"circle\"}, \"mode\": \"markers\", \"name\": \"Construction\", \"showlegend\": true, \"x\": [101800.0], \"xaxis\": \"x\", \"y\": [101800.0], \"yaxis\": \"y\", \"type\": \"scatter\"}, {\"hovertemplate\": \"Industry=Retail<br>Year=2018<br>Count=%{marker.size}<extra></extra>\", \"ids\": [\"Retail\"], \"legendgroup\": \"Retail\", \"marker\": {\"color\": \"#ab63fa\", \"size\": [347600.0], \"sizemode\": \"area\", \"sizeref\": 1087.25, \"symbol\": \"circle\"}, \"mode\": \"markers\", \"name\": \"Retail\", \"showlegend\": true, \"x\": [347600.0], \"xaxis\": \"x\", \"y\": [347600.0], \"yaxis\": \"y\", \"type\": \"scatter\"}, {\"hovertemplate\": \"Industry=ICT<br>Year=2018<br>Count=%{marker.size}<extra></extra>\", \"ids\": [\"ICT\"], \"legendgroup\": \"ICT\", \"marker\": {\"color\": \"#FFA15A\", \"size\": [31500.0], \"sizemode\": \"area\", \"sizeref\": 1087.25, \"symbol\": \"circle\"}, \"mode\": \"markers\", \"name\": \"ICT\", \"showlegend\": true, \"x\": [31500.0], \"xaxis\": \"x\", \"y\": [31500.0], \"yaxis\": \"y\", \"type\": \"scatter\"}, {\"hovertemplate\": \"Industry=Finance<br>Year=2018<br>Count=%{marker.size}<extra></extra>\", \"ids\": [\"Finance\"], \"legendgroup\": \"Finance\", \"marker\": {\"color\": \"#19d3f3\", \"size\": [35500.0], \"sizemode\": \"area\", \"sizeref\": 1087.25, \"symbol\": \"circle\"}, \"mode\": \"markers\", \"name\": \"Finance\", \"showlegend\": true, \"x\": [35500.0], \"xaxis\": \"x\", \"y\": [35500.0], \"yaxis\": \"y\", \"type\": \"scatter\"}, {\"hovertemplate\": \"Industry=Real_Estate<br>Year=2018<br>Count=%{marker.size}<extra></extra>\", \"ids\": [\"Real_Estate\"], \"legendgroup\": \"Real_Estate\", \"marker\": {\"color\": \"#FF6692\", \"size\": [25200.0], \"sizemode\": \"area\", \"sizeref\": 1087.25, \"symbol\": \"circle\"}, \"mode\": \"markers\", \"name\": \"Real_Estate\", \"showlegend\": true, \"x\": [25200.0], \"xaxis\": \"x\", \"y\": [25200.0], \"yaxis\": \"y\", \"type\": \"scatter\"}, {\"hovertemplate\": \"Industry=Professional_Service<br>Year=2018<br>Count=%{marker.size}<extra></extra>\", \"ids\": [\"Professional_Service\"], \"legendgroup\": \"Professional_Service\", \"marker\": {\"color\": \"#B6E880\", \"size\": [187100.0], \"sizemode\": \"area\", \"sizeref\": 1087.25, \"symbol\": \"circle\"}, \"mode\": \"markers\", \"name\": \"Professional_Service\", \"showlegend\": true, \"x\": [187100.0], \"xaxis\": \"x\", \"y\": [187100.0], \"yaxis\": \"y\", \"type\": \"scatter\"}, {\"hovertemplate\": \"Industry=Public_Adminstration<br>Year=2018<br>Count=%{marker.size}<extra></extra>\", \"ids\": [\"Public_Adminstration\"], \"legendgroup\": \"Public_Adminstration\", \"marker\": {\"color\": \"#FF97FF\", \"size\": [434900.0], \"sizemode\": \"area\", \"sizeref\": 1087.25, \"symbol\": \"circle\"}, \"mode\": \"markers\", \"name\": \"Public_Adminstration\", \"showlegend\": true, \"x\": [434900.0], \"xaxis\": \"x\", \"y\": [434900.0], \"yaxis\": \"y\", \"type\": \"scatter\"}, {\"hovertemplate\": \"Industry=Other_Service<br>Year=2018<br>Count=%{marker.size}<extra></extra>\", \"ids\": [\"Other_Service\"], \"legendgroup\": \"Other_Service\", \"marker\": {\"color\": \"#FECB52\", \"size\": [81800.0], \"sizemode\": \"area\", \"sizeref\": 1087.25, \"symbol\": \"circle\"}, \"mode\": \"markers\", \"name\": \"Other_Service\", \"showlegend\": true, \"x\": [81800.0], \"xaxis\": \"x\", \"y\": [81800.0], \"yaxis\": \"y\", \"type\": \"scatter\"}], \"name\": \"2018\"}]);\n",
       "                        }).then(function(){\n",
       "                            \n",
       "var gd = document.getElementById('b2e6ec44-519f-45dd-860e-076b348b7714');\n",
       "var x = new MutationObserver(function (mutations, observer) {{\n",
       "        var display = window.getComputedStyle(gd).display;\n",
       "        if (!display || display === 'none') {{\n",
       "            console.log([gd, 'removed!']);\n",
       "            Plotly.purge(gd);\n",
       "            observer.disconnect();\n",
       "        }}\n",
       "}});\n",
       "\n",
       "// Listen for the removal of the full notebook cells\n",
       "var notebookContainer = gd.closest('#notebook-container');\n",
       "if (notebookContainer) {{\n",
       "    x.observe(notebookContainer, {childList: true});\n",
       "}}\n",
       "\n",
       "// Listen for the clearing of the current output cell\n",
       "var outputEl = gd.closest('.output');\n",
       "if (outputEl) {{\n",
       "    x.observe(outputEl, {childList: true});\n",
       "}}\n",
       "\n",
       "                        })\n",
       "                };\n",
       "                });\n",
       "            </script>\n",
       "        </div>"
      ]
     },
     "metadata": {},
     "output_type": "display_data"
    }
   ],
   "source": [
    "# plot for the Change of workforce number over the period\n",
    "px.scatter(df_modified, x=\"Count\", y=\"Count\", animation_frame=\"Year\", animation_group=\"Industry\", size=\"Count\"\n",
    "           , color=\"Industry\",log_x=True,title=\"Change of Workforce number over the Period (2009-2018)\").update(layout=dict(title=dict(x=0.5)))"
   ]
  },
  {
   "cell_type": "markdown",
   "metadata": {},
   "source": [
    "<h3>4. PCA/Correlation </h3>"
   ]
  },
  {
   "cell_type": "markdown",
   "metadata": {},
   "source": [
    "<h4>4.1 PCA Analysis</h4>"
   ]
  },
  {
   "cell_type": "code",
   "execution_count": 11,
   "metadata": {},
   "outputs": [
    {
     "data": {
      "text/html": [
       "<div>\n",
       "<style scoped>\n",
       "    .dataframe tbody tr th:only-of-type {\n",
       "        vertical-align: middle;\n",
       "    }\n",
       "\n",
       "    .dataframe tbody tr th {\n",
       "        vertical-align: top;\n",
       "    }\n",
       "\n",
       "    .dataframe thead th {\n",
       "        text-align: right;\n",
       "    }\n",
       "</style>\n",
       "<table border=\"1\" class=\"dataframe\">\n",
       "  <thead>\n",
       "    <tr style=\"text-align: right;\">\n",
       "      <th></th>\n",
       "      <th>2009</th>\n",
       "      <th>2010</th>\n",
       "      <th>2011</th>\n",
       "      <th>2012</th>\n",
       "      <th>2013</th>\n",
       "      <th>2014</th>\n",
       "      <th>2015</th>\n",
       "      <th>2016</th>\n",
       "      <th>2017</th>\n",
       "      <th>2018</th>\n",
       "    </tr>\n",
       "  </thead>\n",
       "  <tbody>\n",
       "    <tr>\n",
       "      <td>0</td>\n",
       "      <td>-0.722944</td>\n",
       "      <td>-0.712345</td>\n",
       "      <td>-0.734524</td>\n",
       "      <td>-0.730311</td>\n",
       "      <td>-0.739850</td>\n",
       "      <td>-0.731262</td>\n",
       "      <td>-0.732126</td>\n",
       "      <td>-0.729848</td>\n",
       "      <td>-0.785431</td>\n",
       "      <td>-0.769321</td>\n",
       "    </tr>\n",
       "    <tr>\n",
       "      <td>1</td>\n",
       "      <td>0.174046</td>\n",
       "      <td>0.125885</td>\n",
       "      <td>0.178414</td>\n",
       "      <td>0.154620</td>\n",
       "      <td>0.205460</td>\n",
       "      <td>0.255949</td>\n",
       "      <td>0.234445</td>\n",
       "      <td>0.161541</td>\n",
       "      <td>0.175489</td>\n",
       "      <td>0.151322</td>\n",
       "    </tr>\n",
       "    <tr>\n",
       "      <td>2</td>\n",
       "      <td>-0.278972</td>\n",
       "      <td>-0.299239</td>\n",
       "      <td>-0.332831</td>\n",
       "      <td>-0.317393</td>\n",
       "      <td>-0.350299</td>\n",
       "      <td>-0.320806</td>\n",
       "      <td>-0.350933</td>\n",
       "      <td>-0.285274</td>\n",
       "      <td>-0.396139</td>\n",
       "      <td>-0.320821</td>\n",
       "    </tr>\n",
       "    <tr>\n",
       "      <td>3</td>\n",
       "      <td>1.596417</td>\n",
       "      <td>1.588280</td>\n",
       "      <td>1.553410</td>\n",
       "      <td>1.597587</td>\n",
       "      <td>1.547741</td>\n",
       "      <td>1.495632</td>\n",
       "      <td>1.596163</td>\n",
       "      <td>1.638720</td>\n",
       "      <td>1.471078</td>\n",
       "      <td>1.495344</td>\n",
       "    </tr>\n",
       "    <tr>\n",
       "      <td>4</td>\n",
       "      <td>-0.797568</td>\n",
       "      <td>-0.789708</td>\n",
       "      <td>-0.806813</td>\n",
       "      <td>-0.796886</td>\n",
       "      <td>-0.813308</td>\n",
       "      <td>-0.784175</td>\n",
       "      <td>-0.854783</td>\n",
       "      <td>-0.795600</td>\n",
       "      <td>-0.641563</td>\n",
       "      <td>-0.840254</td>\n",
       "    </tr>\n",
       "  </tbody>\n",
       "</table>\n",
       "</div>"
      ],
      "text/plain": [
       "       2009      2010      2011      2012      2013      2014      2015  \\\n",
       "0 -0.722944 -0.712345 -0.734524 -0.730311 -0.739850 -0.731262 -0.732126   \n",
       "1  0.174046  0.125885  0.178414  0.154620  0.205460  0.255949  0.234445   \n",
       "2 -0.278972 -0.299239 -0.332831 -0.317393 -0.350299 -0.320806 -0.350933   \n",
       "3  1.596417  1.588280  1.553410  1.597587  1.547741  1.495632  1.596163   \n",
       "4 -0.797568 -0.789708 -0.806813 -0.796886 -0.813308 -0.784175 -0.854783   \n",
       "\n",
       "       2016      2017      2018  \n",
       "0 -0.729848 -0.785431 -0.769321  \n",
       "1  0.161541  0.175489  0.151322  \n",
       "2 -0.285274 -0.396139 -0.320821  \n",
       "3  1.638720  1.471078  1.495344  \n",
       "4 -0.795600 -0.641563 -0.840254  "
      ]
     },
     "execution_count": 11,
     "metadata": {},
     "output_type": "execute_result"
    }
   ],
   "source": [
    "#4.1 \n",
    "\n",
    "#calling the method to get the initial dataframe, otherwise when run this code block twise, total get doubled,\n",
    "#due to total performed on previous result.\n",
    "df_merged = get_merged_dataframe()\n",
    "\n",
    "features = ['2009', '2010', '2011', '2012', '2013', '2014', '2015', '2016', '2017', '2018']\n",
    "x = df_merged.loc[:, features].values\n",
    "y = df_merged.loc[:,['Industry']].values\n",
    "\n",
    "#scaling the dataset\n",
    "x = StandardScaler().fit_transform(x)\n",
    "pd.DataFrame(data = x, columns = features).head()"
   ]
  },
  {
   "cell_type": "code",
   "execution_count": 59,
   "metadata": {},
   "outputs": [
    {
     "name": "stdout",
     "output_type": "stream",
     "text": [
      "Explained Variance Ratio\n"
     ]
    },
    {
     "data": {
      "text/plain": [
       "array([0.99808273, 0.00102919])"
      ]
     },
     "execution_count": 59,
     "metadata": {},
     "output_type": "execute_result"
    }
   ],
   "source": [
    "#aaplying the PCA\n",
    "pca = PCA(n_components=2)\n",
    "pca\n",
    "principalComponents = pca.fit_transform(x)\n",
    "print(\"Explained Variance Ratio\")\n",
    "pca.explained_variance_ratio_"
   ]
  },
  {
   "cell_type": "code",
   "execution_count": 13,
   "metadata": {},
   "outputs": [
    {
     "data": {
      "text/html": [
       "<div>\n",
       "<style scoped>\n",
       "    .dataframe tbody tr th:only-of-type {\n",
       "        vertical-align: middle;\n",
       "    }\n",
       "\n",
       "    .dataframe tbody tr th {\n",
       "        vertical-align: top;\n",
       "    }\n",
       "\n",
       "    .dataframe thead th {\n",
       "        text-align: right;\n",
       "    }\n",
       "</style>\n",
       "<table border=\"1\" class=\"dataframe\">\n",
       "  <thead>\n",
       "    <tr style=\"text-align: right;\">\n",
       "      <th></th>\n",
       "      <th>pc 1</th>\n",
       "      <th>pc 2</th>\n",
       "      <th>Industry</th>\n",
       "    </tr>\n",
       "  </thead>\n",
       "  <tbody>\n",
       "    <tr>\n",
       "      <td>0</td>\n",
       "      <td>-2.336228</td>\n",
       "      <td>-0.062033</td>\n",
       "      <td>Agriculture</td>\n",
       "    </tr>\n",
       "    <tr>\n",
       "      <td>1</td>\n",
       "      <td>0.574654</td>\n",
       "      <td>0.007002</td>\n",
       "      <td>Production</td>\n",
       "    </tr>\n",
       "    <tr>\n",
       "      <td>2</td>\n",
       "      <td>-1.028544</td>\n",
       "      <td>-0.068697</td>\n",
       "      <td>Construction</td>\n",
       "    </tr>\n",
       "    <tr>\n",
       "      <td>3</td>\n",
       "      <td>4.927032</td>\n",
       "      <td>-0.121161</td>\n",
       "      <td>Retail</td>\n",
       "    </tr>\n",
       "    <tr>\n",
       "      <td>4</td>\n",
       "      <td>-2.504829</td>\n",
       "      <td>0.084791</td>\n",
       "      <td>ICT</td>\n",
       "    </tr>\n",
       "    <tr>\n",
       "      <td>5</td>\n",
       "      <td>-2.503685</td>\n",
       "      <td>-0.078178</td>\n",
       "      <td>Finance</td>\n",
       "    </tr>\n",
       "    <tr>\n",
       "      <td>6</td>\n",
       "      <td>-2.816887</td>\n",
       "      <td>-0.057759</td>\n",
       "      <td>Real_Estate</td>\n",
       "    </tr>\n",
       "    <tr>\n",
       "      <td>7</td>\n",
       "      <td>0.438737</td>\n",
       "      <td>0.248729</td>\n",
       "      <td>Professional_Service</td>\n",
       "    </tr>\n",
       "    <tr>\n",
       "      <td>8</td>\n",
       "      <td>6.762305</td>\n",
       "      <td>0.023413</td>\n",
       "      <td>Public_Adminstration</td>\n",
       "    </tr>\n",
       "    <tr>\n",
       "      <td>9</td>\n",
       "      <td>-1.512556</td>\n",
       "      <td>0.023895</td>\n",
       "      <td>Other_Service</td>\n",
       "    </tr>\n",
       "  </tbody>\n",
       "</table>\n",
       "</div>"
      ],
      "text/plain": [
       "       pc 1      pc 2              Industry\n",
       "0 -2.336228 -0.062033           Agriculture\n",
       "1  0.574654  0.007002            Production\n",
       "2 -1.028544 -0.068697          Construction\n",
       "3  4.927032 -0.121161                Retail\n",
       "4 -2.504829  0.084791                   ICT\n",
       "5 -2.503685 -0.078178               Finance\n",
       "6 -2.816887 -0.057759           Real_Estate\n",
       "7  0.438737  0.248729  Professional_Service\n",
       "8  6.762305  0.023413  Public_Adminstration\n",
       "9 -1.512556  0.023895         Other_Service"
      ]
     },
     "execution_count": 13,
     "metadata": {},
     "output_type": "execute_result"
    }
   ],
   "source": [
    "principalDf = pd.DataFrame(data = principalComponents\n",
    "             , columns = ['pc 1', 'pc 2'])\n",
    "finalDf = pd.concat([principalDf, df_merged[['Industry']]], axis = 1)\n",
    "finalDf"
   ]
  },
  {
   "cell_type": "code",
   "execution_count": 14,
   "metadata": {},
   "outputs": [
    {
     "data": {
      "image/png": "[encoded data removed]",
      "text/plain": [
       "<Figure size 576x576 with 1 Axes>"
      ]
     },
     "metadata": {
      "needs_background": "light"
     },
     "output_type": "display_data"
    }
   ],
   "source": [
    "#plot the PCA results\n",
    "fig = plt.figure(figsize = (8,8))\n",
    "ax = fig.add_subplot(1,1,1) \n",
    "ax.set_xlabel('PC 1', fontsize = 15)\n",
    "ax.set_ylabel('PC 2', fontsize = 15)\n",
    "ax.set_title('Two Component PCA', fontsize = 20)\n",
    "\n",
    "\n",
    "targets = ['Agriculture', 'Production', 'Construction', 'Retail', 'ICT', 'Finance', 'Real_Estate', 'Professional_Service', 'Public_Adminstration', 'Other_Service']\n",
    "colors = ['red', 'green', 'black', 'pink', 'back', 'purple', 'grey', 'violet', 'brown', 'Orange']\n",
    "for target in targets:\n",
    "    indicesToKeep = finalDf['Industry'] == target\n",
    "    ax.scatter(finalDf.loc[indicesToKeep, 'pc 1']\n",
    "               , finalDf.loc[indicesToKeep, 'pc 2']              \n",
    "               , s = 50)\n",
    "ax.legend(targets)\n",
    "ax.grid()"
   ]
  },
  {
   "cell_type": "markdown",
   "metadata": {},
   "source": [
    "According to the scatter plot, Principal component 1 is correlated to the total number of employed over the 10 years period. The public administration has the highest value in the PC1 axis and the real estate industry ranked the lowest. This behaviour is similar to the features of the bar graph in section 2.1. According to the plot, Public administration and Retail related points are much higher than other industry values. \n",
    "\n",
    "In the dynamic scatter plot in section 3, it is clearly identified that Professional service and Other service are positively correlated. They behave in a similar pattern. On the other hand, ICT and Retail behave opposite.\n",
    "\n",
    "Explained variance ratio of the analysis shows that PC1 contains 99.81% of variance. Moreover, considering the highest and the lowest values of the PC2 axis, it indicates that a feature of Professional service is opposite to the Retail. In addition, PC2 axis shows Professional service is deviated from all the other industries in a feature."
   ]
  },
  {
   "cell_type": "markdown",
   "metadata": {},
   "source": [
    "<h4>4.2 Year wise Correlation for each Industry</h4>"
   ]
  },
  {
   "cell_type": "code",
   "execution_count": 15,
   "metadata": {},
   "outputs": [],
   "source": [
    "#4.2"
   ]
  },
  {
   "cell_type": "code",
   "execution_count": 57,
   "metadata": {},
   "outputs": [
    {
     "name": "stdout",
     "output_type": "stream",
     "text": [
      "Correlation of each industry over the years\n",
      "\n",
      "Agriculture: 0.6906437128725659\n",
      "Production: 0.6605828848606121\n",
      "Construction: 0.4014453690001148\n",
      "Retail: 0.11754064536999999\n",
      "ICT: 0.5248046106196186\n",
      "Finance: 0.21507973618434498\n",
      "Real_Estate: 0.8247174534601301\n",
      "Professional_Service: 0.8884606182935701\n",
      "Public_Adminstration: 0.612054008266096\n",
      "Other_Service: 0.8809717695346911\n"
     ]
    },
    {
     "data": {
      "application/vnd.plotly.v1+json": {
       "config": {
        "plotlyServerURL": "https://plot.ly"
       },
       "data": [
        {
         "hovertemplate": "Year=%{x}<br>Count=%{y}<extra></extra>",
         "legendgroup": "",
         "marker": {
          "color": "#636efa",
          "symbol": "circle"
         },
         "mode": "markers",
         "name": "",
         "showlegend": false,
         "type": "scatter",
         "x": [
          2009,
          2010,
          2011,
          2012,
          2013,
          2014,
          2015,
          2016,
          2017,
          2018
         ],
         "xaxis": "x",
         "y": [
          37700,
          38200,
          36100,
          36100,
          36800,
          42700,
          40700,
          43200,
          40200,
          41100
         ],
         "yaxis": "y"
        },
        {
         "hovertemplate": "<b>OLS trendline</b><br>Count = 604.848 * Year + -1.17858e+06<br>R<sup>2</sup>=0.476989<br><br>Year=%{x}<br>Count=%{y} <b>(trend)</b><extra></extra>",
         "legendgroup": "",
         "marker": {
          "color": "#636efa",
          "symbol": "circle"
         },
         "mode": "lines",
         "name": "",
         "showlegend": false,
         "type": "scatter",
         "x": [
          2009,
          2010,
          2011,
          2012,
          2013,
          2014,
          2015,
          2016,
          2017,
          2018
         ],
         "xaxis": "x",
         "y": [
          36558.18181818235,
          37163.03030303074,
          37767.87878787913,
          38372.72727272753,
          38977.57575757592,
          39582.42424242431,
          40187.272727272706,
          40792.1212121211,
          41396.96969696949,
          42001.81818181812
         ],
         "yaxis": "y"
        },
        {
         "hovertemplate": "Year=%{x}<br>Count=%{y}<extra></extra>",
         "legendgroup": "",
         "marker": {
          "color": "#636efa",
          "symbol": "circle"
         },
         "mode": "markers",
         "name": "",
         "showlegend": false,
         "type": "scatter",
         "x": [
          2009,
          2010,
          2011,
          2012,
          2013,
          2014,
          2015,
          2016,
          2017,
          2018
         ],
         "xaxis": "x2",
         "y": [
          156700,
          149800,
          158600,
          154400,
          164200,
          173300,
          172300,
          162500,
          165100,
          165700
         ],
         "yaxis": "y2"
        },
        {
         "hovertemplate": "<b>OLS trendline</b><br>Count = 1638.79 * Year + -3.13744e+06<br>R<sup>2</sup>=0.436370<br><br>Year=%{x}<br>Count=%{y} <b>(trend)</b><extra></extra>",
         "legendgroup": "",
         "marker": {
          "color": "#636efa",
          "symbol": "circle"
         },
         "mode": "lines",
         "name": "",
         "showlegend": false,
         "type": "scatter",
         "x": [
          2009,
          2010,
          2011,
          2012,
          2013,
          2014,
          2015,
          2016,
          2017,
          2018
         ],
         "xaxis": "x2",
         "y": [
          154885.45454545738,
          156524.242424245,
          158163.03030303307,
          159801.81818182068,
          161440.6060606083,
          163079.3939393959,
          164718.1818181835,
          166356.96969697112,
          167995.7575757592,
          169634.5454545468
         ],
         "yaxis": "y2"
        },
        {
         "hovertemplate": "Year=%{x}<br>Count=%{y}<extra></extra>",
         "legendgroup": "",
         "marker": {
          "color": "#636efa",
          "symbol": "circle"
         },
         "mode": "markers",
         "name": "",
         "showlegend": false,
         "type": "scatter",
         "x": [
          2009,
          2010,
          2011,
          2012,
          2013,
          2014,
          2015,
          2016,
          2017,
          2018
         ],
         "xaxis": "x3",
         "y": [
          96600,
          93200,
          90000,
          91300,
          89300,
          97000,
          92600,
          102700,
          90800,
          101800
         ],
         "yaxis": "y3"
        },
        {
         "hovertemplate": "<b>OLS trendline</b><br>Count = 636.97 * Year + -1.18801e+06<br>R<sup>2</sup>=0.161158<br><br>Year=%{x}<br>Count=%{y} <b>(trend)</b><extra></extra>",
         "legendgroup": "",
         "marker": {
          "color": "#636efa",
          "symbol": "circle"
         },
         "mode": "lines",
         "name": "",
         "showlegend": false,
         "type": "scatter",
         "x": [
          2009,
          2010,
          2011,
          2012,
          2013,
          2014,
          2015,
          2016,
          2017,
          2018
         ],
         "xaxis": "x3",
         "y": [
          91663.63636363624,
          92300.60606060573,
          92937.57575757522,
          93574.54545454471,
          94211.5151515142,
          94848.48484848393,
          95485.45454545342,
          96122.42424242292,
          96759.39393939241,
          97396.3636363619
         ],
         "yaxis": "y3"
        },
        {
         "hovertemplate": "Year=%{x}<br>Count=%{y}<extra></extra>",
         "legendgroup": "",
         "marker": {
          "color": "#636efa",
          "symbol": "circle"
         },
         "mode": "markers",
         "name": "",
         "showlegend": false,
         "type": "scatter",
         "x": [
          2009,
          2010,
          2011,
          2012,
          2013,
          2014,
          2015,
          2016,
          2017,
          2018
         ],
         "xaxis": "x4",
         "y": [
          345400,
          344500,
          343100,
          347300,
          345100,
          337300,
          357700,
          360200,
          333500,
          347600
         ],
         "yaxis": "y4"
        },
        {
         "hovertemplate": "<b>OLS trendline</b><br>Count = 313.333 * Year + -284727<br>R<sup>2</sup>=0.013816<br><br>Year=%{x}<br>Count=%{y} <b>(trend)</b><extra></extra>",
         "legendgroup": "",
         "marker": {
          "color": "#636efa",
          "symbol": "circle"
         },
         "mode": "lines",
         "name": "",
         "showlegend": false,
         "type": "scatter",
         "x": [
          2009,
          2010,
          2011,
          2012,
          2013,
          2014,
          2015,
          2016,
          2017,
          2018
         ],
         "xaxis": "x4",
         "y": [
          344759.99999998906,
          345073.3333333223,
          345386.6666666557,
          345699.99999998894,
          346013.3333333223,
          346326.66666665557,
          346639.9999999888,
          346953.3333333222,
          347266.66666665545,
          347579.9999999888
         ],
         "yaxis": "y4"
        },
        {
         "hovertemplate": "Year=%{x}<br>Count=%{y}<extra></extra>",
         "legendgroup": "",
         "marker": {
          "color": "#636efa",
          "symbol": "circle"
         },
         "mode": "markers",
         "name": "",
         "showlegend": false,
         "type": "scatter",
         "x": [
          2009,
          2010,
          2011,
          2012,
          2013,
          2014,
          2015,
          2016,
          2017,
          2018
         ],
         "xaxis": "x5",
         "y": [
          27800,
          27900,
          26400,
          27200,
          26900,
          35700,
          24000,
          34400,
          58900,
          31500
         ],
         "yaxis": "y5"
        },
        {
         "hovertemplate": "<b>OLS trendline</b><br>Count = 1754.55 * Year + -3.50071e+06<br>R<sup>2</sup>=0.275420<br><br>Year=%{x}<br>Count=%{y} <b>(trend)</b><extra></extra>",
         "legendgroup": "",
         "marker": {
          "color": "#636efa",
          "symbol": "circle"
         },
         "mode": "lines",
         "name": "",
         "showlegend": false,
         "type": "scatter",
         "x": [
          2009,
          2010,
          2011,
          2012,
          2013,
          2014,
          2015,
          2016,
          2017,
          2018
         ],
         "xaxis": "x5",
         "y": [
          24174.54545454774,
          25929.090909092687,
          27683.6363636381,
          29438.181818183046,
          31192.727272728458,
          32947.27272727387,
          34701.81818181882,
          36456.36363636423,
          38210.909090909176,
          39965.45454545459
         ],
         "yaxis": "y5"
        },
        {
         "hovertemplate": "Year=%{x}<br>Count=%{y}<extra></extra>",
         "legendgroup": "",
         "marker": {
          "color": "#636efa",
          "symbol": "circle"
         },
         "mode": "markers",
         "name": "",
         "showlegend": false,
         "type": "scatter",
         "x": [
          2009,
          2010,
          2011,
          2012,
          2013,
          2014,
          2015,
          2016,
          2017,
          2018
         ],
         "xaxis": "x6",
         "y": [
          33800,
          29800,
          33200,
          31100,
          32400,
          32400,
          30800,
          31000,
          32100,
          35500
         ],
         "yaxis": "y6"
        },
        {
         "hovertemplate": "<b>OLS trendline</b><br>Count = 118.182 * Year + -205749<br>R<sup>2</sup>=0.046259<br><br>Year=%{x}<br>Count=%{y} <b>(trend)</b><extra></extra>",
         "legendgroup": "",
         "marker": {
          "color": "#636efa",
          "symbol": "circle"
         },
         "mode": "lines",
         "name": "",
         "showlegend": false,
         "type": "scatter",
         "x": [
          2009,
          2010,
          2011,
          2012,
          2013,
          2014,
          2015,
          2016,
          2017,
          2018
         ],
         "xaxis": "x6",
         "y": [
          31678.18181818162,
          31796.363636363385,
          31914.54545454515,
          32032.727272726916,
          32150.90909090865,
          32269.090909090417,
          32387.272727272182,
          32505.454545453948,
          32623.636363635713,
          32741.818181817478
         ],
         "yaxis": "y6"
        },
        {
         "hovertemplate": "Year=%{x}<br>Count=%{y}<extra></extra>",
         "legendgroup": "",
         "marker": {
          "color": "#636efa",
          "symbol": "circle"
         },
         "mode": "markers",
         "name": "",
         "showlegend": false,
         "type": "scatter",
         "x": [
          2009,
          2010,
          2011,
          2012,
          2013,
          2014,
          2015,
          2016,
          2017,
          2018
         ],
         "xaxis": "x7",
         "y": [
          13500,
          14600,
          17600,
          18800,
          18000,
          22200,
          19100,
          22700,
          18200,
          25200
         ],
         "yaxis": "y7"
        },
        {
         "hovertemplate": "<b>OLS trendline</b><br>Count = 976.364 * Year + -1.94692e+06<br>R<sup>2</sup>=0.680159<br><br>Year=%{x}<br>Count=%{y} <b>(trend)</b><extra></extra>",
         "legendgroup": "",
         "marker": {
          "color": "#636efa",
          "symbol": "circle"
         },
         "mode": "lines",
         "name": "",
         "showlegend": false,
         "type": "scatter",
         "x": [
          2009,
          2010,
          2011,
          2012,
          2013,
          2014,
          2015,
          2016,
          2017,
          2018
         ],
         "xaxis": "x7",
         "y": [
          14596.363636364229,
          15572.72727272776,
          16549.09090909129,
          17525.45454545482,
          18501.81818181835,
          19478.181818182115,
          20454.545454545645,
          21430.909090909176,
          22407.272727272706,
          23383.636363636237
         ],
         "yaxis": "y7"
        },
        {
         "hovertemplate": "Year=%{x}<br>Count=%{y}<extra></extra>",
         "legendgroup": "",
         "marker": {
          "color": "#636efa",
          "symbol": "circle"
         },
         "mode": "markers",
         "name": "",
         "showlegend": false,
         "type": "scatter",
         "x": [
          2009,
          2010,
          2011,
          2012,
          2013,
          2014,
          2015,
          2016,
          2017,
          2018
         ],
         "xaxis": "x8",
         "y": [
          144800,
          145800,
          143600,
          137300,
          149900,
          152900,
          166200,
          161200,
          176400,
          187100
         ],
         "yaxis": "y8"
        },
        {
         "hovertemplate": "<b>OLS trendline</b><br>Count = 4682.42 * Year + -9.27154e+06<br>R<sup>2</sup>=0.789362<br><br>Year=%{x}<br>Count=%{y} <b>(trend)</b><extra></extra>",
         "legendgroup": "",
         "marker": {
          "color": "#636efa",
          "symbol": "circle"
         },
         "mode": "lines",
         "name": "",
         "showlegend": false,
         "type": "scatter",
         "x": [
          2009,
          2010,
          2011,
          2012,
          2013,
          2014,
          2015,
          2016,
          2017,
          2018
         ],
         "xaxis": "x8",
         "y": [
          135449.09090909176,
          140131.5151515156,
          144813.93939393945,
          149496.3636363633,
          154178.78787878715,
          158861.21212120913,
          163543.63636363298,
          168226.06060605682,
          172908.48484848067,
          177590.90909090452
         ],
         "yaxis": "y8"
        },
        {
         "hovertemplate": "Year=%{x}<br>Count=%{y}<extra></extra>",
         "legendgroup": "",
         "marker": {
          "color": "#636efa",
          "symbol": "circle"
         },
         "mode": "markers",
         "name": "",
         "showlegend": false,
         "type": "scatter",
         "x": [
          2009,
          2010,
          2011,
          2012,
          2013,
          2014,
          2015,
          2016,
          2017,
          2018
         ],
         "xaxis": "x9",
         "y": [
          415600,
          418600,
          425600,
          421000,
          427000,
          427600,
          423200,
          418500,
          424500,
          434900
         ],
         "yaxis": "y9"
        },
        {
         "hovertemplate": "<b>OLS trendline</b><br>Count = 1131.52 * Year + -1.85466e+06<br>R<sup>2</sup>=0.374610<br><br>Year=%{x}<br>Count=%{y} <b>(trend)</b><extra></extra>",
         "legendgroup": "",
         "marker": {
          "color": "#636efa",
          "symbol": "circle"
         },
         "mode": "lines",
         "name": "",
         "showlegend": false,
         "type": "scatter",
         "x": [
          2009,
          2010,
          2011,
          2012,
          2013,
          2014,
          2015,
          2016,
          2017,
          2018
         ],
         "xaxis": "x9",
         "y": [
          418558.1818181835,
          419689.69696969865,
          420821.2121212138,
          421952.7272727289,
          423084.24242424406,
          424215.7575757592,
          425347.27272727434,
          426478.7878787895,
          427610.3030303046,
          428741.81818181975
         ],
         "yaxis": "y9"
        },
        {
         "hovertemplate": "Year=%{x}<br>Count=%{y}<extra></extra>",
         "legendgroup": "",
         "marker": {
          "color": "#636efa",
          "symbol": "circle"
         },
         "mode": "markers",
         "name": "",
         "showlegend": false,
         "type": "scatter",
         "x": [
          2009,
          2010,
          2011,
          2012,
          2013,
          2014,
          2015,
          2016,
          2017,
          2018
         ],
         "xaxis": "x10",
         "y": [
          64200,
          68000,
          72400,
          72800,
          75500,
          73300,
          77200,
          72400,
          83200,
          81800
         ],
         "yaxis": "y10"
        },
        {
         "hovertemplate": "<b>OLS trendline</b><br>Count = 1671.52 * Year + -3.29152e+06<br>R<sup>2</sup>=0.776111<br><br>Year=%{x}<br>Count=%{y} <b>(trend)</b><extra></extra>",
         "legendgroup": "",
         "marker": {
          "color": "#636efa",
          "symbol": "circle"
         },
         "mode": "lines",
         "name": "",
         "showlegend": false,
         "type": "scatter",
         "x": [
          2009,
          2010,
          2011,
          2012,
          2013,
          2014,
          2015,
          2016,
          2017,
          2018
         ],
         "xaxis": "x10",
         "y": [
          66558.18181818305,
          68229.69696969772,
          69901.21212121285,
          71572.72727272799,
          73244.24242424313,
          74915.75757575827,
          76587.27272727294,
          78258.78787878808,
          79930.30303030321,
          81601.81818181835
         ],
         "yaxis": "y10"
        }
       ],
       "layout": {
        "annotations": [
         {
          "font": {
           "size": 16
          },
          "showarrow": false,
          "text": "Agriculture",
          "x": 0.08399999999999999,
          "xanchor": "center",
          "xref": "paper",
          "y": 1,
          "yanchor": "bottom",
          "yref": "paper"
         },
         {
          "font": {
           "size": 16
          },
          "showarrow": false,
          "text": "Production",
          "x": 0.292,
          "xanchor": "center",
          "xref": "paper",
          "y": 1,
          "yanchor": "bottom",
          "yref": "paper"
         },
         {
          "font": {
           "size": 16
          },
          "showarrow": false,
          "text": "Construction",
          "x": 0.5,
          "xanchor": "center",
          "xref": "paper",
          "y": 1,
          "yanchor": "bottom",
          "yref": "paper"
         },
         {
          "font": {
           "size": 16
          },
          "showarrow": false,
          "text": "Retail",
          "x": 0.708,
          "xanchor": "center",
          "xref": "paper",
          "y": 1,
          "yanchor": "bottom",
          "yref": "paper"
         },
         {
          "font": {
           "size": 16
          },
          "showarrow": false,
          "text": "ICT",
          "x": 0.9159999999999999,
          "xanchor": "center",
          "xref": "paper",
          "y": 1,
          "yanchor": "bottom",
          "yref": "paper"
         },
         {
          "font": {
           "size": 16
          },
          "showarrow": false,
          "text": "Finance",
          "x": 0.08399999999999999,
          "xanchor": "center",
          "xref": "paper",
          "y": 0.375,
          "yanchor": "bottom",
          "yref": "paper"
         },
         {
          "font": {
           "size": 16
          },
          "showarrow": false,
          "text": "Real_Estate",
          "x": 0.292,
          "xanchor": "center",
          "xref": "paper",
          "y": 0.375,
          "yanchor": "bottom",
          "yref": "paper"
         },
         {
          "font": {
           "size": 16
          },
          "showarrow": false,
          "text": "Professional_Service",
          "x": 0.5,
          "xanchor": "center",
          "xref": "paper",
          "y": 0.375,
          "yanchor": "bottom",
          "yref": "paper"
         },
         {
          "font": {
           "size": 16
          },
          "showarrow": false,
          "text": "Public_Adminstration",
          "x": 0.708,
          "xanchor": "center",
          "xref": "paper",
          "y": 0.375,
          "yanchor": "bottom",
          "yref": "paper"
         },
         {
          "font": {
           "size": 16
          },
          "showarrow": false,
          "text": "Other_Service",
          "x": 0.9159999999999999,
          "xanchor": "center",
          "xref": "paper",
          "y": 0.375,
          "yanchor": "bottom",
          "yref": "paper"
         }
        ],
        "template": {
         "data": {
          "bar": [
           {
            "error_x": {
             "color": "#2a3f5f"
            },
            "error_y": {
             "color": "#2a3f5f"
            },
            "marker": {
             "line": {
              "color": "#E5ECF6",
              "width": 0.5
             }
            },
            "type": "bar"
           }
          ],
          "barpolar": [
           {
            "marker": {
             "line": {
              "color": "#E5ECF6",
              "width": 0.5
             }
            },
            "type": "barpolar"
           }
          ],
          "carpet": [
           {
            "aaxis": {
             "endlinecolor": "#2a3f5f",
             "gridcolor": "white",
             "linecolor": "white",
             "minorgridcolor": "white",
             "startlinecolor": "#2a3f5f"
            },
            "baxis": {
             "endlinecolor": "#2a3f5f",
             "gridcolor": "white",
             "linecolor": "white",
             "minorgridcolor": "white",
             "startlinecolor": "#2a3f5f"
            },
            "type": "carpet"
           }
          ],
          "choropleth": [
           {
            "colorbar": {
             "outlinewidth": 0,
             "ticks": ""
            },
            "type": "choropleth"
           }
          ],
          "contour": [
           {
            "colorbar": {
             "outlinewidth": 0,
             "ticks": ""
            },
            "colorscale": [
             [
              0,
              "#0d0887"
             ],
             [
              0.1111111111111111,
              "#46039f"
             ],
             [
              0.2222222222222222,
              "#7201a8"
             ],
             [
              0.3333333333333333,
              "#9c179e"
             ],
             [
              0.4444444444444444,
              "#bd3786"
             ],
             [
              0.5555555555555556,
              "#d8576b"
             ],
             [
              0.6666666666666666,
              "#ed7953"
             ],
             [
              0.7777777777777778,
              "#fb9f3a"
             ],
             [
              0.8888888888888888,
              "#fdca26"
             ],
             [
              1,
              "#f0f921"
             ]
            ],
            "type": "contour"
           }
          ],
          "contourcarpet": [
           {
            "colorbar": {
             "outlinewidth": 0,
             "ticks": ""
            },
            "type": "contourcarpet"
           }
          ],
          "heatmap": [
           {
            "colorbar": {
             "outlinewidth": 0,
             "ticks": ""
            },
            "colorscale": [
             [
              0,
              "#0d0887"
             ],
             [
              0.1111111111111111,
              "#46039f"
             ],
             [
              0.2222222222222222,
              "#7201a8"
             ],
             [
              0.3333333333333333,
              "#9c179e"
             ],
             [
              0.4444444444444444,
              "#bd3786"
             ],
             [
              0.5555555555555556,
              "#d8576b"
             ],
             [
              0.6666666666666666,
              "#ed7953"
             ],
             [
              0.7777777777777778,
              "#fb9f3a"
             ],
             [
              0.8888888888888888,
              "#fdca26"
             ],
             [
              1,
              "#f0f921"
             ]
            ],
            "type": "heatmap"
           }
          ],
          "heatmapgl": [
           {
            "colorbar": {
             "outlinewidth": 0,
             "ticks": ""
            },
            "colorscale": [
             [
              0,
              "#0d0887"
             ],
             [
              0.1111111111111111,
              "#46039f"
             ],
             [
              0.2222222222222222,
              "#7201a8"
             ],
             [
              0.3333333333333333,
              "#9c179e"
             ],
             [
              0.4444444444444444,
              "#bd3786"
             ],
             [
              0.5555555555555556,
              "#d8576b"
             ],
             [
              0.6666666666666666,
              "#ed7953"
             ],
             [
              0.7777777777777778,
              "#fb9f3a"
             ],
             [
              0.8888888888888888,
              "#fdca26"
             ],
             [
              1,
              "#f0f921"
             ]
            ],
            "type": "heatmapgl"
           }
          ],
          "histogram": [
           {
            "marker": {
             "colorbar": {
              "outlinewidth": 0,
              "ticks": ""
             }
            },
            "type": "histogram"
           }
          ],
          "histogram2d": [
           {
            "colorbar": {
             "outlinewidth": 0,
             "ticks": ""
            },
            "colorscale": [
             [
              0,
              "#0d0887"
             ],
             [
              0.1111111111111111,
              "#46039f"
             ],
             [
              0.2222222222222222,
              "#7201a8"
             ],
             [
              0.3333333333333333,
              "#9c179e"
             ],
             [
              0.4444444444444444,
              "#bd3786"
             ],
             [
              0.5555555555555556,
              "#d8576b"
             ],
             [
              0.6666666666666666,
              "#ed7953"
             ],
             [
              0.7777777777777778,
              "#fb9f3a"
             ],
             [
              0.8888888888888888,
              "#fdca26"
             ],
             [
              1,
              "#f0f921"
             ]
            ],
            "type": "histogram2d"
           }
          ],
          "histogram2dcontour": [
           {
            "colorbar": {
             "outlinewidth": 0,
             "ticks": ""
            },
            "colorscale": [
             [
              0,
              "#0d0887"
             ],
             [
              0.1111111111111111,
              "#46039f"
             ],
             [
              0.2222222222222222,
              "#7201a8"
             ],
             [
              0.3333333333333333,
              "#9c179e"
             ],
             [
              0.4444444444444444,
              "#bd3786"
             ],
             [
              0.5555555555555556,
              "#d8576b"
             ],
             [
              0.6666666666666666,
              "#ed7953"
             ],
             [
              0.7777777777777778,
              "#fb9f3a"
             ],
             [
              0.8888888888888888,
              "#fdca26"
             ],
             [
              1,
              "#f0f921"
             ]
            ],
            "type": "histogram2dcontour"
           }
          ],
          "mesh3d": [
           {
            "colorbar": {
             "outlinewidth": 0,
             "ticks": ""
            },
            "type": "mesh3d"
           }
          ],
          "parcoords": [
           {
            "line": {
             "colorbar": {
              "outlinewidth": 0,
              "ticks": ""
             }
            },
            "type": "parcoords"
           }
          ],
          "pie": [
           {
            "automargin": true,
            "type": "pie"
           }
          ],
          "scatter": [
           {
            "marker": {
             "colorbar": {
              "outlinewidth": 0,
              "ticks": ""
             }
            },
            "type": "scatter"
           }
          ],
          "scatter3d": [
           {
            "line": {
             "colorbar": {
              "outlinewidth": 0,
              "ticks": ""
             }
            },
            "marker": {
             "colorbar": {
              "outlinewidth": 0,
              "ticks": ""
             }
            },
            "type": "scatter3d"
           }
          ],
          "scattercarpet": [
           {
            "marker": {
             "colorbar": {
              "outlinewidth": 0,
              "ticks": ""
             }
            },
            "type": "scattercarpet"
           }
          ],
          "scattergeo": [
           {
            "marker": {
             "colorbar": {
              "outlinewidth": 0,
              "ticks": ""
             }
            },
            "type": "scattergeo"
           }
          ],
          "scattergl": [
           {
            "marker": {
             "colorbar": {
              "outlinewidth": 0,
              "ticks": ""
             }
            },
            "type": "scattergl"
           }
          ],
          "scattermapbox": [
           {
            "marker": {
             "colorbar": {
              "outlinewidth": 0,
              "ticks": ""
             }
            },
            "type": "scattermapbox"
           }
          ],
          "scatterpolar": [
           {
            "marker": {
             "colorbar": {
              "outlinewidth": 0,
              "ticks": ""
             }
            },
            "type": "scatterpolar"
           }
          ],
          "scatterpolargl": [
           {
            "marker": {
             "colorbar": {
              "outlinewidth": 0,
              "ticks": ""
             }
            },
            "type": "scatterpolargl"
           }
          ],
          "scatterternary": [
           {
            "marker": {
             "colorbar": {
              "outlinewidth": 0,
              "ticks": ""
             }
            },
            "type": "scatterternary"
           }
          ],
          "surface": [
           {
            "colorbar": {
             "outlinewidth": 0,
             "ticks": ""
            },
            "colorscale": [
             [
              0,
              "#0d0887"
             ],
             [
              0.1111111111111111,
              "#46039f"
             ],
             [
              0.2222222222222222,
              "#7201a8"
             ],
             [
              0.3333333333333333,
              "#9c179e"
             ],
             [
              0.4444444444444444,
              "#bd3786"
             ],
             [
              0.5555555555555556,
              "#d8576b"
             ],
             [
              0.6666666666666666,
              "#ed7953"
             ],
             [
              0.7777777777777778,
              "#fb9f3a"
             ],
             [
              0.8888888888888888,
              "#fdca26"
             ],
             [
              1,
              "#f0f921"
             ]
            ],
            "type": "surface"
           }
          ],
          "table": [
           {
            "cells": {
             "fill": {
              "color": "#EBF0F8"
             },
             "line": {
              "color": "white"
             }
            },
            "header": {
             "fill": {
              "color": "#C8D4E3"
             },
             "line": {
              "color": "white"
             }
            },
            "type": "table"
           }
          ]
         },
         "layout": {
          "annotationdefaults": {
           "arrowcolor": "#2a3f5f",
           "arrowhead": 0,
           "arrowwidth": 1
          },
          "coloraxis": {
           "colorbar": {
            "outlinewidth": 0,
            "ticks": ""
           }
          },
          "colorscale": {
           "diverging": [
            [
             0,
             "#8e0152"
            ],
            [
             0.1,
             "#c51b7d"
            ],
            [
             0.2,
             "#de77ae"
            ],
            [
             0.3,
             "#f1b6da"
            ],
            [
             0.4,
             "#fde0ef"
            ],
            [
             0.5,
             "#f7f7f7"
            ],
            [
             0.6,
             "#e6f5d0"
            ],
            [
             0.7,
             "#b8e186"
            ],
            [
             0.8,
             "#7fbc41"
            ],
            [
             0.9,
             "#4d9221"
            ],
            [
             1,
             "#276419"
            ]
           ],
           "sequential": [
            [
             0,
             "#0d0887"
            ],
            [
             0.1111111111111111,
             "#46039f"
            ],
            [
             0.2222222222222222,
             "#7201a8"
            ],
            [
             0.3333333333333333,
             "#9c179e"
            ],
            [
             0.4444444444444444,
             "#bd3786"
            ],
            [
             0.5555555555555556,
             "#d8576b"
            ],
            [
             0.6666666666666666,
             "#ed7953"
            ],
            [
             0.7777777777777778,
             "#fb9f3a"
            ],
            [
             0.8888888888888888,
             "#fdca26"
            ],
            [
             1,
             "#f0f921"
            ]
           ],
           "sequentialminus": [
            [
             0,
             "#0d0887"
            ],
            [
             0.1111111111111111,
             "#46039f"
            ],
            [
             0.2222222222222222,
             "#7201a8"
            ],
            [
             0.3333333333333333,
             "#9c179e"
            ],
            [
             0.4444444444444444,
             "#bd3786"
            ],
            [
             0.5555555555555556,
             "#d8576b"
            ],
            [
             0.6666666666666666,
             "#ed7953"
            ],
            [
             0.7777777777777778,
             "#fb9f3a"
            ],
            [
             0.8888888888888888,
             "#fdca26"
            ],
            [
             1,
             "#f0f921"
            ]
           ]
          },
          "colorway": [
           "#636efa",
           "#EF553B",
           "#00cc96",
           "#ab63fa",
           "#FFA15A",
           "#19d3f3",
           "#FF6692",
           "#B6E880",
           "#FF97FF",
           "#FECB52"
          ],
          "font": {
           "color": "#2a3f5f"
          },
          "geo": {
           "bgcolor": "white",
           "lakecolor": "white",
           "landcolor": "#E5ECF6",
           "showlakes": true,
           "showland": true,
           "subunitcolor": "white"
          },
          "hoverlabel": {
           "align": "left"
          },
          "hovermode": "closest",
          "mapbox": {
           "style": "light"
          },
          "paper_bgcolor": "white",
          "plot_bgcolor": "#E5ECF6",
          "polar": {
           "angularaxis": {
            "gridcolor": "white",
            "linecolor": "white",
            "ticks": ""
           },
           "bgcolor": "#E5ECF6",
           "radialaxis": {
            "gridcolor": "white",
            "linecolor": "white",
            "ticks": ""
           }
          },
          "scene": {
           "xaxis": {
            "backgroundcolor": "#E5ECF6",
            "gridcolor": "white",
            "gridwidth": 2,
            "linecolor": "white",
            "showbackground": true,
            "ticks": "",
            "zerolinecolor": "white"
           },
           "yaxis": {
            "backgroundcolor": "#E5ECF6",
            "gridcolor": "white",
            "gridwidth": 2,
            "linecolor": "white",
            "showbackground": true,
            "ticks": "",
            "zerolinecolor": "white"
           },
           "zaxis": {
            "backgroundcolor": "#E5ECF6",
            "gridcolor": "white",
            "gridwidth": 2,
            "linecolor": "white",
            "showbackground": true,
            "ticks": "",
            "zerolinecolor": "white"
           }
          },
          "shapedefaults": {
           "line": {
            "color": "#2a3f5f"
           }
          },
          "ternary": {
           "aaxis": {
            "gridcolor": "white",
            "linecolor": "white",
            "ticks": ""
           },
           "baxis": {
            "gridcolor": "white",
            "linecolor": "white",
            "ticks": ""
           },
           "bgcolor": "#E5ECF6",
           "caxis": {
            "gridcolor": "white",
            "linecolor": "white",
            "ticks": ""
           }
          },
          "title": {
           "x": 0.05
          },
          "xaxis": {
           "automargin": true,
           "gridcolor": "white",
           "linecolor": "white",
           "ticks": "",
           "title": {
            "standoff": 15
           },
           "zerolinecolor": "white",
           "zerolinewidth": 2
          },
          "yaxis": {
           "automargin": true,
           "gridcolor": "white",
           "linecolor": "white",
           "ticks": "",
           "title": {
            "standoff": 15
           },
           "zerolinecolor": "white",
           "zerolinewidth": 2
          }
         }
        },
        "xaxis": {
         "anchor": "y",
         "domain": [
          0,
          0.16799999999999998
         ],
         "matches": "x6",
         "showticklabels": false
        },
        "xaxis10": {
         "anchor": "y10",
         "domain": [
          0.832,
          1
         ]
        },
        "xaxis2": {
         "anchor": "y2",
         "domain": [
          0.208,
          0.376
         ],
         "matches": "x7",
         "showticklabels": false
        },
        "xaxis3": {
         "anchor": "y3",
         "domain": [
          0.416,
          0.584
         ],
         "matches": "x8",
         "showticklabels": false
        },
        "xaxis4": {
         "anchor": "y4",
         "domain": [
          0.624,
          0.792
         ],
         "matches": "x9",
         "showticklabels": false
        },
        "xaxis5": {
         "anchor": "y5",
         "domain": [
          0.832,
          1
         ],
         "matches": "x10",
         "showticklabels": false
        },
        "xaxis6": {
         "anchor": "y6",
         "domain": [
          0,
          0.16799999999999998
         ]
        },
        "xaxis7": {
         "anchor": "y7",
         "domain": [
          0.208,
          0.376
         ]
        },
        "xaxis8": {
         "anchor": "y8",
         "domain": [
          0.416,
          0.584
         ]
        },
        "xaxis9": {
         "anchor": "y9",
         "domain": [
          0.624,
          0.792
         ]
        },
        "yaxis": {
         "anchor": "x",
         "domain": [
          0.625,
          1
         ]
        },
        "yaxis10": {
         "anchor": "x10",
         "domain": [
          0,
          0.375
         ]
        },
        "yaxis2": {
         "anchor": "x2",
         "domain": [
          0.625,
          1
         ]
        },
        "yaxis3": {
         "anchor": "x3",
         "domain": [
          0.625,
          1
         ]
        },
        "yaxis4": {
         "anchor": "x4",
         "domain": [
          0.625,
          1
         ]
        },
        "yaxis5": {
         "anchor": "x5",
         "domain": [
          0.625,
          1
         ]
        },
        "yaxis6": {
         "anchor": "x6",
         "domain": [
          0,
          0.375
         ]
        },
        "yaxis7": {
         "anchor": "x7",
         "domain": [
          0,
          0.375
         ]
        },
        "yaxis8": {
         "anchor": "x8",
         "domain": [
          0,
          0.375
         ]
        },
        "yaxis9": {
         "anchor": "x9",
         "domain": [
          0,
          0.375
         ]
        }
       }
      },
      "text/html": [
       "<div>\n",
       "        \n",
       "        \n",
       "            <div id=\"39d61a24-c790-469f-8a1d-9807a9e85d71\" class=\"plotly-graph-div\" style=\"height:525px; width:100%;\"></div>\n",
       "            <script type=\"text/javascript\">\n",
       "                require([\"plotly\"], function(Plotly) {\n",
       "                    window.PLOTLYENV=window.PLOTLYENV || {};\n",
       "                    \n",
       "                if (document.getElementById(\"39d61a24-c790-469f-8a1d-9807a9e85d71\")) {\n",
       "                    Plotly.newPlot(\n",
       "                        '39d61a24-c790-469f-8a1d-9807a9e85d71',\n",
       "                        [{\"hovertemplate\": \"Year=%{x}<br>Count=%{y}<extra></extra>\", \"legendgroup\": \"\", \"marker\": {\"color\": \"#636efa\", \"symbol\": \"circle\"}, \"mode\": \"markers\", \"name\": \"\", \"showlegend\": false, \"type\": \"scatter\", \"x\": [2009, 2010, 2011, 2012, 2013, 2014, 2015, 2016, 2017, 2018], \"xaxis\": \"x\", \"y\": [37700.0, 38200.0, 36100.0, 36100.0, 36800.0, 42700.0, 40700.0, 43200.0, 40200.0, 41100.0], \"yaxis\": \"y\"}, {\"hovertemplate\": \"<b>OLS trendline</b><br>Count = 604.848 * Year + -1.17858e+06<br>R<sup>2</sup>=0.476989<br><br>Year=%{x}<br>Count=%{y} <b>(trend)</b><extra></extra>\", \"legendgroup\": \"\", \"marker\": {\"color\": \"#636efa\", \"symbol\": \"circle\"}, \"mode\": \"lines\", \"name\": \"\", \"showlegend\": false, \"type\": \"scatter\", \"x\": [2009, 2010, 2011, 2012, 2013, 2014, 2015, 2016, 2017, 2018], \"xaxis\": \"x\", \"y\": [36558.18181818235, 37163.03030303074, 37767.87878787913, 38372.72727272753, 38977.57575757592, 39582.42424242431, 40187.272727272706, 40792.1212121211, 41396.96969696949, 42001.81818181812], \"yaxis\": \"y\"}, {\"hovertemplate\": \"Year=%{x}<br>Count=%{y}<extra></extra>\", \"legendgroup\": \"\", \"marker\": {\"color\": \"#636efa\", \"symbol\": \"circle\"}, \"mode\": \"markers\", \"name\": \"\", \"showlegend\": false, \"type\": \"scatter\", \"x\": [2009, 2010, 2011, 2012, 2013, 2014, 2015, 2016, 2017, 2018], \"xaxis\": \"x2\", \"y\": [156700.0, 149800.0, 158600.0, 154400.0, 164200.0, 173300.0, 172300.0, 162500.0, 165100.0, 165700.0], \"yaxis\": \"y2\"}, {\"hovertemplate\": \"<b>OLS trendline</b><br>Count = 1638.79 * Year + -3.13744e+06<br>R<sup>2</sup>=0.436370<br><br>Year=%{x}<br>Count=%{y} <b>(trend)</b><extra></extra>\", \"legendgroup\": \"\", \"marker\": {\"color\": \"#636efa\", \"symbol\": \"circle\"}, \"mode\": \"lines\", \"name\": \"\", \"showlegend\": false, \"type\": \"scatter\", \"x\": [2009, 2010, 2011, 2012, 2013, 2014, 2015, 2016, 2017, 2018], \"xaxis\": \"x2\", \"y\": [154885.45454545738, 156524.242424245, 158163.03030303307, 159801.81818182068, 161440.6060606083, 163079.3939393959, 164718.1818181835, 166356.96969697112, 167995.7575757592, 169634.5454545468], \"yaxis\": \"y2\"}, {\"hovertemplate\": \"Year=%{x}<br>Count=%{y}<extra></extra>\", \"legendgroup\": \"\", \"marker\": {\"color\": \"#636efa\", \"symbol\": \"circle\"}, \"mode\": \"markers\", \"name\": \"\", \"showlegend\": false, \"type\": \"scatter\", \"x\": [2009, 2010, 2011, 2012, 2013, 2014, 2015, 2016, 2017, 2018], \"xaxis\": \"x3\", \"y\": [96600.0, 93200.0, 90000.0, 91300.0, 89300.0, 97000.0, 92600.0, 102700.0, 90800.0, 101800.0], \"yaxis\": \"y3\"}, {\"hovertemplate\": \"<b>OLS trendline</b><br>Count = 636.97 * Year + -1.18801e+06<br>R<sup>2</sup>=0.161158<br><br>Year=%{x}<br>Count=%{y} <b>(trend)</b><extra></extra>\", \"legendgroup\": \"\", \"marker\": {\"color\": \"#636efa\", \"symbol\": \"circle\"}, \"mode\": \"lines\", \"name\": \"\", \"showlegend\": false, \"type\": \"scatter\", \"x\": [2009, 2010, 2011, 2012, 2013, 2014, 2015, 2016, 2017, 2018], \"xaxis\": \"x3\", \"y\": [91663.63636363624, 92300.60606060573, 92937.57575757522, 93574.54545454471, 94211.5151515142, 94848.48484848393, 95485.45454545342, 96122.42424242292, 96759.39393939241, 97396.3636363619], \"yaxis\": \"y3\"}, {\"hovertemplate\": \"Year=%{x}<br>Count=%{y}<extra></extra>\", \"legendgroup\": \"\", \"marker\": {\"color\": \"#636efa\", \"symbol\": \"circle\"}, \"mode\": \"markers\", \"name\": \"\", \"showlegend\": false, \"type\": \"scatter\", \"x\": [2009, 2010, 2011, 2012, 2013, 2014, 2015, 2016, 2017, 2018], \"xaxis\": \"x4\", \"y\": [345400.0, 344500.0, 343100.0, 347300.0, 345100.0, 337300.0, 357700.0, 360200.0, 333500.0, 347600.0], \"yaxis\": \"y4\"}, {\"hovertemplate\": \"<b>OLS trendline</b><br>Count = 313.333 * Year + -284727<br>R<sup>2</sup>=0.013816<br><br>Year=%{x}<br>Count=%{y} <b>(trend)</b><extra></extra>\", \"legendgroup\": \"\", \"marker\": {\"color\": \"#636efa\", \"symbol\": \"circle\"}, \"mode\": \"lines\", \"name\": \"\", \"showlegend\": false, \"type\": \"scatter\", \"x\": [2009, 2010, 2011, 2012, 2013, 2014, 2015, 2016, 2017, 2018], \"xaxis\": \"x4\", \"y\": [344759.99999998906, 345073.3333333223, 345386.6666666557, 345699.99999998894, 346013.3333333223, 346326.66666665557, 346639.9999999888, 346953.3333333222, 347266.66666665545, 347579.9999999888], \"yaxis\": \"y4\"}, {\"hovertemplate\": \"Year=%{x}<br>Count=%{y}<extra></extra>\", \"legendgroup\": \"\", \"marker\": {\"color\": \"#636efa\", \"symbol\": \"circle\"}, \"mode\": \"markers\", \"name\": \"\", \"showlegend\": false, \"type\": \"scatter\", \"x\": [2009, 2010, 2011, 2012, 2013, 2014, 2015, 2016, 2017, 2018], \"xaxis\": \"x5\", \"y\": [27800.0, 27900.0, 26400.0, 27200.0, 26900.0, 35700.0, 24000.0, 34400.0, 58900.0, 31500.0], \"yaxis\": \"y5\"}, {\"hovertemplate\": \"<b>OLS trendline</b><br>Count = 1754.55 * Year + -3.50071e+06<br>R<sup>2</sup>=0.275420<br><br>Year=%{x}<br>Count=%{y} <b>(trend)</b><extra></extra>\", \"legendgroup\": \"\", \"marker\": {\"color\": \"#636efa\", \"symbol\": \"circle\"}, \"mode\": \"lines\", \"name\": \"\", \"showlegend\": false, \"type\": \"scatter\", \"x\": [2009, 2010, 2011, 2012, 2013, 2014, 2015, 2016, 2017, 2018], \"xaxis\": \"x5\", \"y\": [24174.54545454774, 25929.090909092687, 27683.6363636381, 29438.181818183046, 31192.727272728458, 32947.27272727387, 34701.81818181882, 36456.36363636423, 38210.909090909176, 39965.45454545459], \"yaxis\": \"y5\"}, {\"hovertemplate\": \"Year=%{x}<br>Count=%{y}<extra></extra>\", \"legendgroup\": \"\", \"marker\": {\"color\": \"#636efa\", \"symbol\": \"circle\"}, \"mode\": \"markers\", \"name\": \"\", \"showlegend\": false, \"type\": \"scatter\", \"x\": [2009, 2010, 2011, 2012, 2013, 2014, 2015, 2016, 2017, 2018], \"xaxis\": \"x6\", \"y\": [33800.0, 29800.0, 33200.0, 31100.0, 32400.0, 32400.0, 30800.0, 31000.0, 32100.0, 35500.0], \"yaxis\": \"y6\"}, {\"hovertemplate\": \"<b>OLS trendline</b><br>Count = 118.182 * Year + -205749<br>R<sup>2</sup>=0.046259<br><br>Year=%{x}<br>Count=%{y} <b>(trend)</b><extra></extra>\", \"legendgroup\": \"\", \"marker\": {\"color\": \"#636efa\", \"symbol\": \"circle\"}, \"mode\": \"lines\", \"name\": \"\", \"showlegend\": false, \"type\": \"scatter\", \"x\": [2009, 2010, 2011, 2012, 2013, 2014, 2015, 2016, 2017, 2018], \"xaxis\": \"x6\", \"y\": [31678.18181818162, 31796.363636363385, 31914.54545454515, 32032.727272726916, 32150.90909090865, 32269.090909090417, 32387.272727272182, 32505.454545453948, 32623.636363635713, 32741.818181817478], \"yaxis\": \"y6\"}, {\"hovertemplate\": \"Year=%{x}<br>Count=%{y}<extra></extra>\", \"legendgroup\": \"\", \"marker\": {\"color\": \"#636efa\", \"symbol\": \"circle\"}, \"mode\": \"markers\", \"name\": \"\", \"showlegend\": false, \"type\": \"scatter\", \"x\": [2009, 2010, 2011, 2012, 2013, 2014, 2015, 2016, 2017, 2018], \"xaxis\": \"x7\", \"y\": [13500.0, 14600.0, 17600.0, 18800.0, 18000.0, 22200.0, 19100.0, 22700.0, 18200.0, 25200.0], \"yaxis\": \"y7\"}, {\"hovertemplate\": \"<b>OLS trendline</b><br>Count = 976.364 * Year + -1.94692e+06<br>R<sup>2</sup>=0.680159<br><br>Year=%{x}<br>Count=%{y} <b>(trend)</b><extra></extra>\", \"legendgroup\": \"\", \"marker\": {\"color\": \"#636efa\", \"symbol\": \"circle\"}, \"mode\": \"lines\", \"name\": \"\", \"showlegend\": false, \"type\": \"scatter\", \"x\": [2009, 2010, 2011, 2012, 2013, 2014, 2015, 2016, 2017, 2018], \"xaxis\": \"x7\", \"y\": [14596.363636364229, 15572.72727272776, 16549.09090909129, 17525.45454545482, 18501.81818181835, 19478.181818182115, 20454.545454545645, 21430.909090909176, 22407.272727272706, 23383.636363636237], \"yaxis\": \"y7\"}, {\"hovertemplate\": \"Year=%{x}<br>Count=%{y}<extra></extra>\", \"legendgroup\": \"\", \"marker\": {\"color\": \"#636efa\", \"symbol\": \"circle\"}, \"mode\": \"markers\", \"name\": \"\", \"showlegend\": false, \"type\": \"scatter\", \"x\": [2009, 2010, 2011, 2012, 2013, 2014, 2015, 2016, 2017, 2018], \"xaxis\": \"x8\", \"y\": [144800.0, 145800.0, 143600.0, 137300.0, 149900.0, 152900.0, 166200.0, 161200.0, 176400.0, 187100.0], \"yaxis\": \"y8\"}, {\"hovertemplate\": \"<b>OLS trendline</b><br>Count = 4682.42 * Year + -9.27154e+06<br>R<sup>2</sup>=0.789362<br><br>Year=%{x}<br>Count=%{y} <b>(trend)</b><extra></extra>\", \"legendgroup\": \"\", \"marker\": {\"color\": \"#636efa\", \"symbol\": \"circle\"}, \"mode\": \"lines\", \"name\": \"\", \"showlegend\": false, \"type\": \"scatter\", \"x\": [2009, 2010, 2011, 2012, 2013, 2014, 2015, 2016, 2017, 2018], \"xaxis\": \"x8\", \"y\": [135449.09090909176, 140131.5151515156, 144813.93939393945, 149496.3636363633, 154178.78787878715, 158861.21212120913, 163543.63636363298, 168226.06060605682, 172908.48484848067, 177590.90909090452], \"yaxis\": \"y8\"}, {\"hovertemplate\": \"Year=%{x}<br>Count=%{y}<extra></extra>\", \"legendgroup\": \"\", \"marker\": {\"color\": \"#636efa\", \"symbol\": \"circle\"}, \"mode\": \"markers\", \"name\": \"\", \"showlegend\": false, \"type\": \"scatter\", \"x\": [2009, 2010, 2011, 2012, 2013, 2014, 2015, 2016, 2017, 2018], \"xaxis\": \"x9\", \"y\": [415600.0, 418600.0, 425600.0, 421000.0, 427000.0, 427600.0, 423200.0, 418500.0, 424500.0, 434900.0], \"yaxis\": \"y9\"}, {\"hovertemplate\": \"<b>OLS trendline</b><br>Count = 1131.52 * Year + -1.85466e+06<br>R<sup>2</sup>=0.374610<br><br>Year=%{x}<br>Count=%{y} <b>(trend)</b><extra></extra>\", \"legendgroup\": \"\", \"marker\": {\"color\": \"#636efa\", \"symbol\": \"circle\"}, \"mode\": \"lines\", \"name\": \"\", \"showlegend\": false, \"type\": \"scatter\", \"x\": [2009, 2010, 2011, 2012, 2013, 2014, 2015, 2016, 2017, 2018], \"xaxis\": \"x9\", \"y\": [418558.1818181835, 419689.69696969865, 420821.2121212138, 421952.7272727289, 423084.24242424406, 424215.7575757592, 425347.27272727434, 426478.7878787895, 427610.3030303046, 428741.81818181975], \"yaxis\": \"y9\"}, {\"hovertemplate\": \"Year=%{x}<br>Count=%{y}<extra></extra>\", \"legendgroup\": \"\", \"marker\": {\"color\": \"#636efa\", \"symbol\": \"circle\"}, \"mode\": \"markers\", \"name\": \"\", \"showlegend\": false, \"type\": \"scatter\", \"x\": [2009, 2010, 2011, 2012, 2013, 2014, 2015, 2016, 2017, 2018], \"xaxis\": \"x10\", \"y\": [64200.0, 68000.0, 72400.0, 72800.0, 75500.0, 73300.0, 77200.0, 72400.0, 83200.0, 81800.0], \"yaxis\": \"y10\"}, {\"hovertemplate\": \"<b>OLS trendline</b><br>Count = 1671.52 * Year + -3.29152e+06<br>R<sup>2</sup>=0.776111<br><br>Year=%{x}<br>Count=%{y} <b>(trend)</b><extra></extra>\", \"legendgroup\": \"\", \"marker\": {\"color\": \"#636efa\", \"symbol\": \"circle\"}, \"mode\": \"lines\", \"name\": \"\", \"showlegend\": false, \"type\": \"scatter\", \"x\": [2009, 2010, 2011, 2012, 2013, 2014, 2015, 2016, 2017, 2018], \"xaxis\": \"x10\", \"y\": [66558.18181818305, 68229.69696969772, 69901.21212121285, 71572.72727272799, 73244.24242424313, 74915.75757575827, 76587.27272727294, 78258.78787878808, 79930.30303030321, 81601.81818181835], \"yaxis\": \"y10\"}],\n",
       "                        {\"annotations\": [{\"font\": {\"size\": 16}, \"showarrow\": false, \"text\": \"Agriculture\", \"x\": 0.08399999999999999, \"xanchor\": \"center\", \"xref\": \"paper\", \"y\": 1.0, \"yanchor\": \"bottom\", \"yref\": \"paper\"}, {\"font\": {\"size\": 16}, \"showarrow\": false, \"text\": \"Production\", \"x\": 0.292, \"xanchor\": \"center\", \"xref\": \"paper\", \"y\": 1.0, \"yanchor\": \"bottom\", \"yref\": \"paper\"}, {\"font\": {\"size\": 16}, \"showarrow\": false, \"text\": \"Construction\", \"x\": 0.5, \"xanchor\": \"center\", \"xref\": \"paper\", \"y\": 1.0, \"yanchor\": \"bottom\", \"yref\": \"paper\"}, {\"font\": {\"size\": 16}, \"showarrow\": false, \"text\": \"Retail\", \"x\": 0.708, \"xanchor\": \"center\", \"xref\": \"paper\", \"y\": 1.0, \"yanchor\": \"bottom\", \"yref\": \"paper\"}, {\"font\": {\"size\": 16}, \"showarrow\": false, \"text\": \"ICT\", \"x\": 0.9159999999999999, \"xanchor\": \"center\", \"xref\": \"paper\", \"y\": 1.0, \"yanchor\": \"bottom\", \"yref\": \"paper\"}, {\"font\": {\"size\": 16}, \"showarrow\": false, \"text\": \"Finance\", \"x\": 0.08399999999999999, \"xanchor\": \"center\", \"xref\": \"paper\", \"y\": 0.375, \"yanchor\": \"bottom\", \"yref\": \"paper\"}, {\"font\": {\"size\": 16}, \"showarrow\": false, \"text\": \"Real_Estate\", \"x\": 0.292, \"xanchor\": \"center\", \"xref\": \"paper\", \"y\": 0.375, \"yanchor\": \"bottom\", \"yref\": \"paper\"}, {\"font\": {\"size\": 16}, \"showarrow\": false, \"text\": \"Professional_Service\", \"x\": 0.5, \"xanchor\": \"center\", \"xref\": \"paper\", \"y\": 0.375, \"yanchor\": \"bottom\", \"yref\": \"paper\"}, {\"font\": {\"size\": 16}, \"showarrow\": false, \"text\": \"Public_Adminstration\", \"x\": 0.708, \"xanchor\": \"center\", \"xref\": \"paper\", \"y\": 0.375, \"yanchor\": \"bottom\", \"yref\": \"paper\"}, {\"font\": {\"size\": 16}, \"showarrow\": false, \"text\": \"Other_Service\", \"x\": 0.9159999999999999, \"xanchor\": \"center\", \"xref\": \"paper\", \"y\": 0.375, \"yanchor\": \"bottom\", \"yref\": \"paper\"}], \"template\": {\"data\": {\"bar\": [{\"error_x\": {\"color\": \"#2a3f5f\"}, \"error_y\": {\"color\": \"#2a3f5f\"}, \"marker\": {\"line\": {\"color\": \"#E5ECF6\", \"width\": 0.5}}, \"type\": \"bar\"}], \"barpolar\": [{\"marker\": {\"line\": {\"color\": \"#E5ECF6\", \"width\": 0.5}}, \"type\": \"barpolar\"}], \"carpet\": [{\"aaxis\": {\"endlinecolor\": \"#2a3f5f\", \"gridcolor\": \"white\", \"linecolor\": \"white\", \"minorgridcolor\": \"white\", \"startlinecolor\": \"#2a3f5f\"}, \"baxis\": {\"endlinecolor\": \"#2a3f5f\", \"gridcolor\": \"white\", \"linecolor\": \"white\", \"minorgridcolor\": \"white\", \"startlinecolor\": \"#2a3f5f\"}, \"type\": \"carpet\"}], \"choropleth\": [{\"colorbar\": {\"outlinewidth\": 0, \"ticks\": \"\"}, \"type\": \"choropleth\"}], \"contour\": [{\"colorbar\": {\"outlinewidth\": 0, \"ticks\": \"\"}, \"colorscale\": [[0.0, \"#0d0887\"], [0.1111111111111111, \"#46039f\"], [0.2222222222222222, \"#7201a8\"], [0.3333333333333333, \"#9c179e\"], [0.4444444444444444, \"#bd3786\"], [0.5555555555555556, \"#d8576b\"], [0.6666666666666666, \"#ed7953\"], [0.7777777777777778, \"#fb9f3a\"], [0.8888888888888888, \"#fdca26\"], [1.0, \"#f0f921\"]], \"type\": \"contour\"}], \"contourcarpet\": [{\"colorbar\": {\"outlinewidth\": 0, \"ticks\": \"\"}, \"type\": \"contourcarpet\"}], \"heatmap\": [{\"colorbar\": {\"outlinewidth\": 0, \"ticks\": \"\"}, \"colorscale\": [[0.0, \"#0d0887\"], [0.1111111111111111, \"#46039f\"], [0.2222222222222222, \"#7201a8\"], [0.3333333333333333, \"#9c179e\"], [0.4444444444444444, \"#bd3786\"], [0.5555555555555556, \"#d8576b\"], [0.6666666666666666, \"#ed7953\"], [0.7777777777777778, \"#fb9f3a\"], [0.8888888888888888, \"#fdca26\"], [1.0, \"#f0f921\"]], \"type\": \"heatmap\"}], \"heatmapgl\": [{\"colorbar\": {\"outlinewidth\": 0, \"ticks\": \"\"}, \"colorscale\": [[0.0, \"#0d0887\"], [0.1111111111111111, \"#46039f\"], [0.2222222222222222, \"#7201a8\"], [0.3333333333333333, \"#9c179e\"], [0.4444444444444444, \"#bd3786\"], [0.5555555555555556, \"#d8576b\"], [0.6666666666666666, \"#ed7953\"], [0.7777777777777778, \"#fb9f3a\"], [0.8888888888888888, \"#fdca26\"], [1.0, \"#f0f921\"]], \"type\": \"heatmapgl\"}], \"histogram\": [{\"marker\": {\"colorbar\": {\"outlinewidth\": 0, \"ticks\": \"\"}}, \"type\": \"histogram\"}], \"histogram2d\": [{\"colorbar\": {\"outlinewidth\": 0, \"ticks\": \"\"}, \"colorscale\": [[0.0, \"#0d0887\"], [0.1111111111111111, \"#46039f\"], [0.2222222222222222, \"#7201a8\"], [0.3333333333333333, \"#9c179e\"], [0.4444444444444444, \"#bd3786\"], [0.5555555555555556, \"#d8576b\"], [0.6666666666666666, \"#ed7953\"], [0.7777777777777778, \"#fb9f3a\"], [0.8888888888888888, \"#fdca26\"], [1.0, \"#f0f921\"]], \"type\": \"histogram2d\"}], \"histogram2dcontour\": [{\"colorbar\": {\"outlinewidth\": 0, \"ticks\": \"\"}, \"colorscale\": [[0.0, \"#0d0887\"], [0.1111111111111111, \"#46039f\"], [0.2222222222222222, \"#7201a8\"], [0.3333333333333333, \"#9c179e\"], [0.4444444444444444, \"#bd3786\"], [0.5555555555555556, \"#d8576b\"], [0.6666666666666666, \"#ed7953\"], [0.7777777777777778, \"#fb9f3a\"], [0.8888888888888888, \"#fdca26\"], [1.0, \"#f0f921\"]], \"type\": \"histogram2dcontour\"}], \"mesh3d\": [{\"colorbar\": {\"outlinewidth\": 0, \"ticks\": \"\"}, \"type\": \"mesh3d\"}], \"parcoords\": [{\"line\": {\"colorbar\": {\"outlinewidth\": 0, \"ticks\": \"\"}}, \"type\": \"parcoords\"}], \"pie\": [{\"automargin\": true, \"type\": \"pie\"}], \"scatter\": [{\"marker\": {\"colorbar\": {\"outlinewidth\": 0, \"ticks\": \"\"}}, \"type\": \"scatter\"}], \"scatter3d\": [{\"line\": {\"colorbar\": {\"outlinewidth\": 0, \"ticks\": \"\"}}, \"marker\": {\"colorbar\": {\"outlinewidth\": 0, \"ticks\": \"\"}}, \"type\": \"scatter3d\"}], \"scattercarpet\": [{\"marker\": {\"colorbar\": {\"outlinewidth\": 0, \"ticks\": \"\"}}, \"type\": \"scattercarpet\"}], \"scattergeo\": [{\"marker\": {\"colorbar\": {\"outlinewidth\": 0, \"ticks\": \"\"}}, \"type\": \"scattergeo\"}], \"scattergl\": [{\"marker\": {\"colorbar\": {\"outlinewidth\": 0, \"ticks\": \"\"}}, \"type\": \"scattergl\"}], \"scattermapbox\": [{\"marker\": {\"colorbar\": {\"outlinewidth\": 0, \"ticks\": \"\"}}, \"type\": \"scattermapbox\"}], \"scatterpolar\": [{\"marker\": {\"colorbar\": {\"outlinewidth\": 0, \"ticks\": \"\"}}, \"type\": \"scatterpolar\"}], \"scatterpolargl\": [{\"marker\": {\"colorbar\": {\"outlinewidth\": 0, \"ticks\": \"\"}}, \"type\": \"scatterpolargl\"}], \"scatterternary\": [{\"marker\": {\"colorbar\": {\"outlinewidth\": 0, \"ticks\": \"\"}}, \"type\": \"scatterternary\"}], \"surface\": [{\"colorbar\": {\"outlinewidth\": 0, \"ticks\": \"\"}, \"colorscale\": [[0.0, \"#0d0887\"], [0.1111111111111111, \"#46039f\"], [0.2222222222222222, \"#7201a8\"], [0.3333333333333333, \"#9c179e\"], [0.4444444444444444, \"#bd3786\"], [0.5555555555555556, \"#d8576b\"], [0.6666666666666666, \"#ed7953\"], [0.7777777777777778, \"#fb9f3a\"], [0.8888888888888888, \"#fdca26\"], [1.0, \"#f0f921\"]], \"type\": \"surface\"}], \"table\": [{\"cells\": {\"fill\": {\"color\": \"#EBF0F8\"}, \"line\": {\"color\": \"white\"}}, \"header\": {\"fill\": {\"color\": \"#C8D4E3\"}, \"line\": {\"color\": \"white\"}}, \"type\": \"table\"}]}, \"layout\": {\"annotationdefaults\": {\"arrowcolor\": \"#2a3f5f\", \"arrowhead\": 0, \"arrowwidth\": 1}, \"coloraxis\": {\"colorbar\": {\"outlinewidth\": 0, \"ticks\": \"\"}}, \"colorscale\": {\"diverging\": [[0, \"#8e0152\"], [0.1, \"#c51b7d\"], [0.2, \"#de77ae\"], [0.3, \"#f1b6da\"], [0.4, \"#fde0ef\"], [0.5, \"#f7f7f7\"], [0.6, \"#e6f5d0\"], [0.7, \"#b8e186\"], [0.8, \"#7fbc41\"], [0.9, \"#4d9221\"], [1, \"#276419\"]], \"sequential\": [[0.0, \"#0d0887\"], [0.1111111111111111, \"#46039f\"], [0.2222222222222222, \"#7201a8\"], [0.3333333333333333, \"#9c179e\"], [0.4444444444444444, \"#bd3786\"], [0.5555555555555556, \"#d8576b\"], [0.6666666666666666, \"#ed7953\"], [0.7777777777777778, \"#fb9f3a\"], [0.8888888888888888, \"#fdca26\"], [1.0, \"#f0f921\"]], \"sequentialminus\": [[0.0, \"#0d0887\"], [0.1111111111111111, \"#46039f\"], [0.2222222222222222, \"#7201a8\"], [0.3333333333333333, \"#9c179e\"], [0.4444444444444444, \"#bd3786\"], [0.5555555555555556, \"#d8576b\"], [0.6666666666666666, \"#ed7953\"], [0.7777777777777778, \"#fb9f3a\"], [0.8888888888888888, \"#fdca26\"], [1.0, \"#f0f921\"]]}, \"colorway\": [\"#636efa\", \"#EF553B\", \"#00cc96\", \"#ab63fa\", \"#FFA15A\", \"#19d3f3\", \"#FF6692\", \"#B6E880\", \"#FF97FF\", \"#FECB52\"], \"font\": {\"color\": \"#2a3f5f\"}, \"geo\": {\"bgcolor\": \"white\", \"lakecolor\": \"white\", \"landcolor\": \"#E5ECF6\", \"showlakes\": true, \"showland\": true, \"subunitcolor\": \"white\"}, \"hoverlabel\": {\"align\": \"left\"}, \"hovermode\": \"closest\", \"mapbox\": {\"style\": \"light\"}, \"paper_bgcolor\": \"white\", \"plot_bgcolor\": \"#E5ECF6\", \"polar\": {\"angularaxis\": {\"gridcolor\": \"white\", \"linecolor\": \"white\", \"ticks\": \"\"}, \"bgcolor\": \"#E5ECF6\", \"radialaxis\": {\"gridcolor\": \"white\", \"linecolor\": \"white\", \"ticks\": \"\"}}, \"scene\": {\"xaxis\": {\"backgroundcolor\": \"#E5ECF6\", \"gridcolor\": \"white\", \"gridwidth\": 2, \"linecolor\": \"white\", \"showbackground\": true, \"ticks\": \"\", \"zerolinecolor\": \"white\"}, \"yaxis\": {\"backgroundcolor\": \"#E5ECF6\", \"gridcolor\": \"white\", \"gridwidth\": 2, \"linecolor\": \"white\", \"showbackground\": true, \"ticks\": \"\", \"zerolinecolor\": \"white\"}, \"zaxis\": {\"backgroundcolor\": \"#E5ECF6\", \"gridcolor\": \"white\", \"gridwidth\": 2, \"linecolor\": \"white\", \"showbackground\": true, \"ticks\": \"\", \"zerolinecolor\": \"white\"}}, \"shapedefaults\": {\"line\": {\"color\": \"#2a3f5f\"}}, \"ternary\": {\"aaxis\": {\"gridcolor\": \"white\", \"linecolor\": \"white\", \"ticks\": \"\"}, \"baxis\": {\"gridcolor\": \"white\", \"linecolor\": \"white\", \"ticks\": \"\"}, \"bgcolor\": \"#E5ECF6\", \"caxis\": {\"gridcolor\": \"white\", \"linecolor\": \"white\", \"ticks\": \"\"}}, \"title\": {\"x\": 0.05}, \"xaxis\": {\"automargin\": true, \"gridcolor\": \"white\", \"linecolor\": \"white\", \"ticks\": \"\", \"title\": {\"standoff\": 15}, \"zerolinecolor\": \"white\", \"zerolinewidth\": 2}, \"yaxis\": {\"automargin\": true, \"gridcolor\": \"white\", \"linecolor\": \"white\", \"ticks\": \"\", \"title\": {\"standoff\": 15}, \"zerolinecolor\": \"white\", \"zerolinewidth\": 2}}}, \"xaxis\": {\"anchor\": \"y\", \"domain\": [0.0, 0.16799999999999998], \"matches\": \"x6\", \"showticklabels\": false}, \"xaxis10\": {\"anchor\": \"y10\", \"domain\": [0.832, 1.0]}, \"xaxis2\": {\"anchor\": \"y2\", \"domain\": [0.208, 0.376], \"matches\": \"x7\", \"showticklabels\": false}, \"xaxis3\": {\"anchor\": \"y3\", \"domain\": [0.416, 0.584], \"matches\": \"x8\", \"showticklabels\": false}, \"xaxis4\": {\"anchor\": \"y4\", \"domain\": [0.624, 0.792], \"matches\": \"x9\", \"showticklabels\": false}, \"xaxis5\": {\"anchor\": \"y5\", \"domain\": [0.832, 1.0], \"matches\": \"x10\", \"showticklabels\": false}, \"xaxis6\": {\"anchor\": \"y6\", \"domain\": [0.0, 0.16799999999999998]}, \"xaxis7\": {\"anchor\": \"y7\", \"domain\": [0.208, 0.376]}, \"xaxis8\": {\"anchor\": \"y8\", \"domain\": [0.416, 0.584]}, \"xaxis9\": {\"anchor\": \"y9\", \"domain\": [0.624, 0.792]}, \"yaxis\": {\"anchor\": \"x\", \"domain\": [0.625, 1.0]}, \"yaxis10\": {\"anchor\": \"x10\", \"domain\": [0.0, 0.375]}, \"yaxis2\": {\"anchor\": \"x2\", \"domain\": [0.625, 1.0]}, \"yaxis3\": {\"anchor\": \"x3\", \"domain\": [0.625, 1.0]}, \"yaxis4\": {\"anchor\": \"x4\", \"domain\": [0.625, 1.0]}, \"yaxis5\": {\"anchor\": \"x5\", \"domain\": [0.625, 1.0]}, \"yaxis6\": {\"anchor\": \"x6\", \"domain\": [0.0, 0.375]}, \"yaxis7\": {\"anchor\": \"x7\", \"domain\": [0.0, 0.375]}, \"yaxis8\": {\"anchor\": \"x8\", \"domain\": [0.0, 0.375]}, \"yaxis9\": {\"anchor\": \"x9\", \"domain\": [0.0, 0.375]}},\n",
       "                        {\"responsive\": true}\n",
       "                    ).then(function(){\n",
       "                            \n",
       "var gd = document.getElementById('39d61a24-c790-469f-8a1d-9807a9e85d71');\n",
       "var x = new MutationObserver(function (mutations, observer) {{\n",
       "        var display = window.getComputedStyle(gd).display;\n",
       "        if (!display || display === 'none') {{\n",
       "            console.log([gd, 'removed!']);\n",
       "            Plotly.purge(gd);\n",
       "            observer.disconnect();\n",
       "        }}\n",
       "}});\n",
       "\n",
       "// Listen for the removal of the full notebook cells\n",
       "var notebookContainer = gd.closest('#notebook-container');\n",
       "if (notebookContainer) {{\n",
       "    x.observe(notebookContainer, {childList: true});\n",
       "}}\n",
       "\n",
       "// Listen for the clearing of the current output cell\n",
       "var outputEl = gd.closest('.output');\n",
       "if (outputEl) {{\n",
       "    x.observe(outputEl, {childList: true});\n",
       "}}\n",
       "\n",
       "                        })\n",
       "                };\n",
       "                });\n",
       "            </script>\n",
       "        </div>"
      ]
     },
     "metadata": {},
     "output_type": "display_data"
    }
   ],
   "source": [
    "#convert the fields.\n",
    "df_modified['Count']=df_modified['Count'].astype(str).astype(float)\n",
    "df_modified['Year']=df_modified['Year'].astype(str).astype(int)\n",
    "\n",
    "array = df_merged['Industry']\n",
    "fig = make_subplots(rows=2, cols=5, shared_xaxes=True, subplot_titles=[f'{i}' for i in array])\n",
    "ite = 0\n",
    "print(\"Correlation of each industry over the years\\n\")\n",
    "while ite < 10:   \n",
    "    \n",
    "    #plot the scatter plot with trend line\n",
    "    df_i = df_modified.loc[df_modified['Industry']==array[ite]]\n",
    "    fig_i = px.scatter(df_i, x=\"Year\", y=\"Count\", trendline=\"ols\")\n",
    "    trace_i = fig_i['data'][0]\n",
    "    trace_i_1 = fig_i['data'][1]\n",
    "    \n",
    "    #print the correlation value over the year\n",
    "    print(array[ite]+\": \"+str(df_i.corr().iloc[0,1]))\n",
    "    \n",
    "    if ite < 5 :\n",
    "        fig.add_trace(trace_i, row=1, col=(ite+1))\n",
    "        fig.add_trace(trace_i_1, row=1, col=(ite+1))\n",
    "    else:\n",
    "        fig.add_trace(trace_i, row=2, col=(ite-4))\n",
    "        fig.add_trace(trace_i_1, row=2, col=(ite-4))\n",
    "    \n",
    "    ite += 1\n",
    "\n",
    "fig.show()"
   ]
  },
  {
   "cell_type": "markdown",
   "metadata": {},
   "source": [
    "As shown in the above graphs, correlation for each industry over the 10 years can be identified separately. The data points of Professional service, Other service and Real_Estate industries are closer to the trend line which indicates a strong positive correlation. It is clearly shown in the correlation values 0.889, 0.881 and 0.825 respectively. Meanwhile data points of the Retail, Finance and construction are deviated from the line, indicating low correlation. The correlated values 0.118, 0.215 and 0.401 respectively. Moreover, all the graphs show that all the industries having a positive correlation between the hired amount and year.\n",
    "\n",
    "Below matrix shows the overall correlation values for each industry."
   ]
  },
  {
   "cell_type": "code",
   "execution_count": 32,
   "metadata": {},
   "outputs": [
    {
     "data": {
      "text/html": [
       "<div>\n",
       "<style scoped>\n",
       "    .dataframe tbody tr th:only-of-type {\n",
       "        vertical-align: middle;\n",
       "    }\n",
       "\n",
       "    .dataframe tbody tr th {\n",
       "        vertical-align: top;\n",
       "    }\n",
       "\n",
       "    .dataframe thead th {\n",
       "        text-align: right;\n",
       "    }\n",
       "</style>\n",
       "<table border=\"1\" class=\"dataframe\">\n",
       "  <thead>\n",
       "    <tr style=\"text-align: right;\">\n",
       "      <th>Industry</th>\n",
       "      <th>Agriculture</th>\n",
       "      <th>Construction</th>\n",
       "      <th>Finance</th>\n",
       "      <th>ICT</th>\n",
       "      <th>Other_Service</th>\n",
       "      <th>Production</th>\n",
       "      <th>Professional_Service</th>\n",
       "      <th>Public_Adminstration</th>\n",
       "      <th>Real_Estate</th>\n",
       "      <th>Retail</th>\n",
       "    </tr>\n",
       "    <tr>\n",
       "      <th>Industry</th>\n",
       "      <th></th>\n",
       "      <th></th>\n",
       "      <th></th>\n",
       "      <th></th>\n",
       "      <th></th>\n",
       "      <th></th>\n",
       "      <th></th>\n",
       "      <th></th>\n",
       "      <th></th>\n",
       "      <th></th>\n",
       "    </tr>\n",
       "  </thead>\n",
       "  <tbody>\n",
       "    <tr>\n",
       "      <td>Agriculture</td>\n",
       "      <td>1.000000</td>\n",
       "      <td>0.727019</td>\n",
       "      <td>-0.005239</td>\n",
       "      <td>0.378069</td>\n",
       "      <td>0.333264</td>\n",
       "      <td>0.646564</td>\n",
       "      <td>0.636513</td>\n",
       "      <td>0.194875</td>\n",
       "      <td>0.668110</td>\n",
       "      <td>0.227534</td>\n",
       "    </tr>\n",
       "    <tr>\n",
       "      <td>Construction</td>\n",
       "      <td>0.727019</td>\n",
       "      <td>1.000000</td>\n",
       "      <td>0.309157</td>\n",
       "      <td>0.010326</td>\n",
       "      <td>-0.030656</td>\n",
       "      <td>0.188308</td>\n",
       "      <td>0.440657</td>\n",
       "      <td>0.080268</td>\n",
       "      <td>0.598064</td>\n",
       "      <td>0.414382</td>\n",
       "    </tr>\n",
       "    <tr>\n",
       "      <td>Finance</td>\n",
       "      <td>-0.005239</td>\n",
       "      <td>0.309157</td>\n",
       "      <td>1.000000</td>\n",
       "      <td>0.042842</td>\n",
       "      <td>0.242434</td>\n",
       "      <td>0.225092</td>\n",
       "      <td>0.388880</td>\n",
       "      <td>0.589635</td>\n",
       "      <td>0.316411</td>\n",
       "      <td>-0.252533</td>\n",
       "    </tr>\n",
       "    <tr>\n",
       "      <td>ICT</td>\n",
       "      <td>0.378069</td>\n",
       "      <td>0.010326</td>\n",
       "      <td>0.042842</td>\n",
       "      <td>1.000000</td>\n",
       "      <td>0.543306</td>\n",
       "      <td>0.231710</td>\n",
       "      <td>0.503172</td>\n",
       "      <td>0.122228</td>\n",
       "      <td>0.154186</td>\n",
       "      <td>-0.551669</td>\n",
       "    </tr>\n",
       "    <tr>\n",
       "      <td>Other_Service</td>\n",
       "      <td>0.333264</td>\n",
       "      <td>-0.030656</td>\n",
       "      <td>0.242434</td>\n",
       "      <td>0.543306</td>\n",
       "      <td>1.000000</td>\n",
       "      <td>0.577920</td>\n",
       "      <td>0.800549</td>\n",
       "      <td>0.739090</td>\n",
       "      <td>0.617589</td>\n",
       "      <td>-0.156339</td>\n",
       "    </tr>\n",
       "    <tr>\n",
       "      <td>Production</td>\n",
       "      <td>0.646564</td>\n",
       "      <td>0.188308</td>\n",
       "      <td>0.225092</td>\n",
       "      <td>0.231710</td>\n",
       "      <td>0.577920</td>\n",
       "      <td>1.000000</td>\n",
       "      <td>0.560187</td>\n",
       "      <td>0.546657</td>\n",
       "      <td>0.604355</td>\n",
       "      <td>0.028424</td>\n",
       "    </tr>\n",
       "    <tr>\n",
       "      <td>Professional_Service</td>\n",
       "      <td>0.636513</td>\n",
       "      <td>0.440657</td>\n",
       "      <td>0.388880</td>\n",
       "      <td>0.503172</td>\n",
       "      <td>0.800549</td>\n",
       "      <td>0.560187</td>\n",
       "      <td>1.000000</td>\n",
       "      <td>0.584972</td>\n",
       "      <td>0.622777</td>\n",
       "      <td>0.045887</td>\n",
       "    </tr>\n",
       "    <tr>\n",
       "      <td>Public_Adminstration</td>\n",
       "      <td>0.194875</td>\n",
       "      <td>0.080268</td>\n",
       "      <td>0.589635</td>\n",
       "      <td>0.122228</td>\n",
       "      <td>0.739090</td>\n",
       "      <td>0.546657</td>\n",
       "      <td>0.584972</td>\n",
       "      <td>1.000000</td>\n",
       "      <td>0.684273</td>\n",
       "      <td>-0.258487</td>\n",
       "    </tr>\n",
       "    <tr>\n",
       "      <td>Real_Estate</td>\n",
       "      <td>0.668110</td>\n",
       "      <td>0.598064</td>\n",
       "      <td>0.316411</td>\n",
       "      <td>0.154186</td>\n",
       "      <td>0.617589</td>\n",
       "      <td>0.604355</td>\n",
       "      <td>0.622777</td>\n",
       "      <td>0.684273</td>\n",
       "      <td>1.000000</td>\n",
       "      <td>0.232011</td>\n",
       "    </tr>\n",
       "    <tr>\n",
       "      <td>Retail</td>\n",
       "      <td>0.227534</td>\n",
       "      <td>0.414382</td>\n",
       "      <td>-0.252533</td>\n",
       "      <td>-0.551669</td>\n",
       "      <td>-0.156339</td>\n",
       "      <td>0.028424</td>\n",
       "      <td>0.045887</td>\n",
       "      <td>-0.258487</td>\n",
       "      <td>0.232011</td>\n",
       "      <td>1.000000</td>\n",
       "    </tr>\n",
       "  </tbody>\n",
       "</table>\n",
       "</div>"
      ],
      "text/plain": [
       "Industry              Agriculture  Construction   Finance       ICT  \\\n",
       "Industry                                                              \n",
       "Agriculture              1.000000      0.727019 -0.005239  0.378069   \n",
       "Construction             0.727019      1.000000  0.309157  0.010326   \n",
       "Finance                 -0.005239      0.309157  1.000000  0.042842   \n",
       "ICT                      0.378069      0.010326  0.042842  1.000000   \n",
       "Other_Service            0.333264     -0.030656  0.242434  0.543306   \n",
       "Production               0.646564      0.188308  0.225092  0.231710   \n",
       "Professional_Service     0.636513      0.440657  0.388880  0.503172   \n",
       "Public_Adminstration     0.194875      0.080268  0.589635  0.122228   \n",
       "Real_Estate              0.668110      0.598064  0.316411  0.154186   \n",
       "Retail                   0.227534      0.414382 -0.252533 -0.551669   \n",
       "\n",
       "Industry              Other_Service  Production  Professional_Service  \\\n",
       "Industry                                                                \n",
       "Agriculture                0.333264    0.646564              0.636513   \n",
       "Construction              -0.030656    0.188308              0.440657   \n",
       "Finance                    0.242434    0.225092              0.388880   \n",
       "ICT                        0.543306    0.231710              0.503172   \n",
       "Other_Service              1.000000    0.577920              0.800549   \n",
       "Production                 0.577920    1.000000              0.560187   \n",
       "Professional_Service       0.800549    0.560187              1.000000   \n",
       "Public_Adminstration       0.739090    0.546657              0.584972   \n",
       "Real_Estate                0.617589    0.604355              0.622777   \n",
       "Retail                    -0.156339    0.028424              0.045887   \n",
       "\n",
       "Industry              Public_Adminstration  Real_Estate    Retail  \n",
       "Industry                                                           \n",
       "Agriculture                       0.194875     0.668110  0.227534  \n",
       "Construction                      0.080268     0.598064  0.414382  \n",
       "Finance                           0.589635     0.316411 -0.252533  \n",
       "ICT                               0.122228     0.154186 -0.551669  \n",
       "Other_Service                     0.739090     0.617589 -0.156339  \n",
       "Production                        0.546657     0.604355  0.028424  \n",
       "Professional_Service              0.584972     0.622777  0.045887  \n",
       "Public_Adminstration              1.000000     0.684273 -0.258487  \n",
       "Real_Estate                       0.684273     1.000000  0.232011  \n",
       "Retail                           -0.258487     0.232011  1.000000  "
      ]
     },
     "execution_count": 32,
     "metadata": {},
     "output_type": "execute_result"
    }
   ],
   "source": [
    "#pivot the dataframe\n",
    "df_pivoted = df_modified.pivot(\"Year\",\"Industry\", \"Count\")\n",
    "df_pivoted.corr()"
   ]
  },
  {
   "cell_type": "code",
   "execution_count": 33,
   "metadata": {},
   "outputs": [
    {
     "data": {
      "text/plain": [
       "<matplotlib.axes._subplots.AxesSubplot at 0x1c41ad06848>"
      ]
     },
     "execution_count": 33,
     "metadata": {},
     "output_type": "execute_result"
    },
    {
     "data": {
      "image/png": "[encoded data removed]",
      "text/plain": [
       "<Figure size 720x432 with 2 Axes>"
      ]
     },
     "metadata": {
      "needs_background": "light"
     },
     "output_type": "display_data"
    }
   ],
   "source": [
    "#plot the heatmap for Correlation for each industry for years\n",
    "plt.figure(figsize=(10,6))\n",
    "sns.heatmap(df_pivoted.corr(),cmap='coolwarm',annot=True, linewidth=0.5)# create seaborn heatmap"
   ]
  },
  {
   "cell_type": "markdown",
   "metadata": {},
   "source": [
    "According to the above correlated map, Professional service and Other services are highly, positively correlated over the years. Public administration and Other services ranked secondly. On the other hand, heatmap shows negative correlation for ICT and Retail industries. When ICT hired more, Retail hiring became less and vice versa. These behaviours are clearly indicating in the dynamic scatter plot shown in section 3. In addition, negative correlation values are lesser than the positive values which indicate parallel increment is stronger than the divergent.\n",
    "\n",
    "According to the map, most of the industries show positive correlation over the decade."
   ]
  },
  {
   "cell_type": "markdown",
   "metadata": {},
   "source": [
    "<h3>5. Clustering (k means & hierarchical)</h3>"
   ]
  },
  {
   "cell_type": "markdown",
   "metadata": {},
   "source": [
    "<h4>5.1 K means Clustering Analysis</h4>"
   ]
  },
  {
   "cell_type": "code",
   "execution_count": 18,
   "metadata": {},
   "outputs": [
    {
     "data": {
      "text/plain": [
       "array([[-0.46664081, -0.45446621],\n",
       "       [ 1.86656323,  1.81786482]])"
      ]
     },
     "execution_count": 18,
     "metadata": {},
     "output_type": "execute_result"
    }
   ],
   "source": [
    "# 5.1\n",
    "#calling the method to get the initial dataframe, otherwise when run this code block twise, total get doubled,\n",
    "#due to total performed on previous result.\n",
    "\n",
    "df_merged = get_merged_dataframe()\n",
    "\n",
    "data = df_merged[['2010','2018']]\n",
    "X = np.array(df_merged[['2010','2018']])\n",
    "\n",
    "##\n",
    "#scaling the values for better performance\n",
    "stscaler = preprocessing.StandardScaler().fit(data)\n",
    "X = stscaler.transform(data)\n",
    "\n",
    "###################################################\n",
    "#K = 2 Analysis\n",
    "kmeans2 = KMeans(n_clusters = 2)\n",
    "kmeans2.fit(X)\n",
    "kmeans2.cluster_centers_"
   ]
  },
  {
   "cell_type": "code",
   "execution_count": 19,
   "metadata": {},
   "outputs": [
    {
     "data": {
      "application/vnd.plotly.v1+json": {
       "config": {
        "linkText": "Export to plot.ly",
        "plotlyServerURL": "https://plot.ly",
        "showLink": false
       },
       "data": [
        {
         "marker": {
          "color": [
           0,
           0,
           0,
           1,
           0,
           0,
           0,
           0,
           1,
           0
          ],
          "opacity": 0.5,
          "size": 15
         },
         "mode": "markers",
         "text": [
          "Agriculture",
          "Production",
          "Construction",
          "Retail",
          "ICT",
          "Finance",
          "Real_Estate",
          "Professional_Service",
          "Public_Adminstration",
          "Other_Service"
         ],
         "type": "scatter",
         "x": [
          -0.712345002838647,
          0.12588467152652597,
          -0.29923898052606174,
          1.5882799905130778,
          -0.789708494289913,
          -0.77543755897366,
          -0.8896050415036836,
          0.09584059717651977,
          2.1448464678469423,
          -0.4885166489311008
         ],
         "y": [
          -0.7693211622828267,
          0.15132248754852373,
          -0.3208214067068799,
          1.495343995608898,
          -0.8402535783211972,
          -0.8106984049718762,
          -0.8868029763463778,
          0.3094426649673913,
          2.14038565395783,
          -0.4685972734534851
         ]
        },
        {
         "marker": {
          "opacity": 0.5,
          "size": 20
         },
         "mode": "markers",
         "type": "scatter",
         "x": [
          -0.46664080729500257,
          1.86656322918001
         ],
         "y": [
          -0.454466206195841,
          1.817864824783364
         ]
        },
        {
         "marker": {
          "opacity": 0.5,
          "size": 30
         },
         "mode": "lines",
         "type": "scatter",
         "x": [
          -0.712345002838647,
          0.12588467152652597,
          -0.29923898052606174,
          1.5882799905130778,
          -0.789708494289913,
          -0.77543755897366,
          -0.8896050415036836,
          0.09584059717651977,
          2.1448464678469423,
          -0.4885166489311008
         ],
         "y": [
          -0.712345002838647,
          0.12588467152652597,
          -0.29923898052606174,
          1.5882799905130778,
          -0.789708494289913,
          -0.77543755897366,
          -0.8896050415036836,
          0.09584059717651977,
          2.1448464678469423,
          -0.4885166489311008
         ]
        }
       ],
       "layout": {
        "autosize": true,
        "showlegend": false,
        "template": {
         "data": {
          "bar": [
           {
            "error_x": {
             "color": "#2a3f5f"
            },
            "error_y": {
             "color": "#2a3f5f"
            },
            "marker": {
             "line": {
              "color": "#E5ECF6",
              "width": 0.5
             }
            },
            "type": "bar"
           }
          ],
          "barpolar": [
           {
            "marker": {
             "line": {
              "color": "#E5ECF6",
              "width": 0.5
             }
            },
            "type": "barpolar"
           }
          ],
          "carpet": [
           {
            "aaxis": {
             "endlinecolor": "#2a3f5f",
             "gridcolor": "white",
             "linecolor": "white",
             "minorgridcolor": "white",
             "startlinecolor": "#2a3f5f"
            },
            "baxis": {
             "endlinecolor": "#2a3f5f",
             "gridcolor": "white",
             "linecolor": "white",
             "minorgridcolor": "white",
             "startlinecolor": "#2a3f5f"
            },
            "type": "carpet"
           }
          ],
          "choropleth": [
           {
            "colorbar": {
             "outlinewidth": 0,
             "ticks": ""
            },
            "type": "choropleth"
           }
          ],
          "contour": [
           {
            "colorbar": {
             "outlinewidth": 0,
             "ticks": ""
            },
            "colorscale": [
             [
              0,
              "#0d0887"
             ],
             [
              0.1111111111111111,
              "#46039f"
             ],
             [
              0.2222222222222222,
              "#7201a8"
             ],
             [
              0.3333333333333333,
              "#9c179e"
             ],
             [
              0.4444444444444444,
              "#bd3786"
             ],
             [
              0.5555555555555556,
              "#d8576b"
             ],
             [
              0.6666666666666666,
              "#ed7953"
             ],
             [
              0.7777777777777778,
              "#fb9f3a"
             ],
             [
              0.8888888888888888,
              "#fdca26"
             ],
             [
              1,
              "#f0f921"
             ]
            ],
            "type": "contour"
           }
          ],
          "contourcarpet": [
           {
            "colorbar": {
             "outlinewidth": 0,
             "ticks": ""
            },
            "type": "contourcarpet"
           }
          ],
          "heatmap": [
           {
            "colorbar": {
             "outlinewidth": 0,
             "ticks": ""
            },
            "colorscale": [
             [
              0,
              "#0d0887"
             ],
             [
              0.1111111111111111,
              "#46039f"
             ],
             [
              0.2222222222222222,
              "#7201a8"
             ],
             [
              0.3333333333333333,
              "#9c179e"
             ],
             [
              0.4444444444444444,
              "#bd3786"
             ],
             [
              0.5555555555555556,
              "#d8576b"
             ],
             [
              0.6666666666666666,
              "#ed7953"
             ],
             [
              0.7777777777777778,
              "#fb9f3a"
             ],
             [
              0.8888888888888888,
              "#fdca26"
             ],
             [
              1,
              "#f0f921"
             ]
            ],
            "type": "heatmap"
           }
          ],
          "heatmapgl": [
           {
            "colorbar": {
             "outlinewidth": 0,
             "ticks": ""
            },
            "colorscale": [
             [
              0,
              "#0d0887"
             ],
             [
              0.1111111111111111,
              "#46039f"
             ],
             [
              0.2222222222222222,
              "#7201a8"
             ],
             [
              0.3333333333333333,
              "#9c179e"
             ],
             [
              0.4444444444444444,
              "#bd3786"
             ],
             [
              0.5555555555555556,
              "#d8576b"
             ],
             [
              0.6666666666666666,
              "#ed7953"
             ],
             [
              0.7777777777777778,
              "#fb9f3a"
             ],
             [
              0.8888888888888888,
              "#fdca26"
             ],
             [
              1,
              "#f0f921"
             ]
            ],
            "type": "heatmapgl"
           }
          ],
          "histogram": [
           {
            "marker": {
             "colorbar": {
              "outlinewidth": 0,
              "ticks": ""
             }
            },
            "type": "histogram"
           }
          ],
          "histogram2d": [
           {
            "colorbar": {
             "outlinewidth": 0,
             "ticks": ""
            },
            "colorscale": [
             [
              0,
              "#0d0887"
             ],
             [
              0.1111111111111111,
              "#46039f"
             ],
             [
              0.2222222222222222,
              "#7201a8"
             ],
             [
              0.3333333333333333,
              "#9c179e"
             ],
             [
              0.4444444444444444,
              "#bd3786"
             ],
             [
              0.5555555555555556,
              "#d8576b"
             ],
             [
              0.6666666666666666,
              "#ed7953"
             ],
             [
              0.7777777777777778,
              "#fb9f3a"
             ],
             [
              0.8888888888888888,
              "#fdca26"
             ],
             [
              1,
              "#f0f921"
             ]
            ],
            "type": "histogram2d"
           }
          ],
          "histogram2dcontour": [
           {
            "colorbar": {
             "outlinewidth": 0,
             "ticks": ""
            },
            "colorscale": [
             [
              0,
              "#0d0887"
             ],
             [
              0.1111111111111111,
              "#46039f"
             ],
             [
              0.2222222222222222,
              "#7201a8"
             ],
             [
              0.3333333333333333,
              "#9c179e"
             ],
             [
              0.4444444444444444,
              "#bd3786"
             ],
             [
              0.5555555555555556,
              "#d8576b"
             ],
             [
              0.6666666666666666,
              "#ed7953"
             ],
             [
              0.7777777777777778,
              "#fb9f3a"
             ],
             [
              0.8888888888888888,
              "#fdca26"
             ],
             [
              1,
              "#f0f921"
             ]
            ],
            "type": "histogram2dcontour"
           }
          ],
          "mesh3d": [
           {
            "colorbar": {
             "outlinewidth": 0,
             "ticks": ""
            },
            "type": "mesh3d"
           }
          ],
          "parcoords": [
           {
            "line": {
             "colorbar": {
              "outlinewidth": 0,
              "ticks": ""
             }
            },
            "type": "parcoords"
           }
          ],
          "pie": [
           {
            "automargin": true,
            "type": "pie"
           }
          ],
          "scatter": [
           {
            "marker": {
             "colorbar": {
              "outlinewidth": 0,
              "ticks": ""
             }
            },
            "type": "scatter"
           }
          ],
          "scatter3d": [
           {
            "line": {
             "colorbar": {
              "outlinewidth": 0,
              "ticks": ""
             }
            },
            "marker": {
             "colorbar": {
              "outlinewidth": 0,
              "ticks": ""
             }
            },
            "type": "scatter3d"
           }
          ],
          "scattercarpet": [
           {
            "marker": {
             "colorbar": {
              "outlinewidth": 0,
              "ticks": ""
             }
            },
            "type": "scattercarpet"
           }
          ],
          "scattergeo": [
           {
            "marker": {
             "colorbar": {
              "outlinewidth": 0,
              "ticks": ""
             }
            },
            "type": "scattergeo"
           }
          ],
          "scattergl": [
           {
            "marker": {
             "colorbar": {
              "outlinewidth": 0,
              "ticks": ""
             }
            },
            "type": "scattergl"
           }
          ],
          "scattermapbox": [
           {
            "marker": {
             "colorbar": {
              "outlinewidth": 0,
              "ticks": ""
             }
            },
            "type": "scattermapbox"
           }
          ],
          "scatterpolar": [
           {
            "marker": {
             "colorbar": {
              "outlinewidth": 0,
              "ticks": ""
             }
            },
            "type": "scatterpolar"
           }
          ],
          "scatterpolargl": [
           {
            "marker": {
             "colorbar": {
              "outlinewidth": 0,
              "ticks": ""
             }
            },
            "type": "scatterpolargl"
           }
          ],
          "scatterternary": [
           {
            "marker": {
             "colorbar": {
              "outlinewidth": 0,
              "ticks": ""
             }
            },
            "type": "scatterternary"
           }
          ],
          "surface": [
           {
            "colorbar": {
             "outlinewidth": 0,
             "ticks": ""
            },
            "colorscale": [
             [
              0,
              "#0d0887"
             ],
             [
              0.1111111111111111,
              "#46039f"
             ],
             [
              0.2222222222222222,
              "#7201a8"
             ],
             [
              0.3333333333333333,
              "#9c179e"
             ],
             [
              0.4444444444444444,
              "#bd3786"
             ],
             [
              0.5555555555555556,
              "#d8576b"
             ],
             [
              0.6666666666666666,
              "#ed7953"
             ],
             [
              0.7777777777777778,
              "#fb9f3a"
             ],
             [
              0.8888888888888888,
              "#fdca26"
             ],
             [
              1,
              "#f0f921"
             ]
            ],
            "type": "surface"
           }
          ],
          "table": [
           {
            "cells": {
             "fill": {
              "color": "#EBF0F8"
             },
             "line": {
              "color": "white"
             }
            },
            "header": {
             "fill": {
              "color": "#C8D4E3"
             },
             "line": {
              "color": "white"
             }
            },
            "type": "table"
           }
          ]
         },
         "layout": {
          "annotationdefaults": {
           "arrowcolor": "#2a3f5f",
           "arrowhead": 0,
           "arrowwidth": 1
          },
          "coloraxis": {
           "colorbar": {
            "outlinewidth": 0,
            "ticks": ""
           }
          },
          "colorscale": {
           "diverging": [
            [
             0,
             "#8e0152"
            ],
            [
             0.1,
             "#c51b7d"
            ],
            [
             0.2,
             "#de77ae"
            ],
            [
             0.3,
             "#f1b6da"
            ],
            [
             0.4,
             "#fde0ef"
            ],
            [
             0.5,
             "#f7f7f7"
            ],
            [
             0.6,
             "#e6f5d0"
            ],
            [
             0.7,
             "#b8e186"
            ],
            [
             0.8,
             "#7fbc41"
            ],
            [
             0.9,
             "#4d9221"
            ],
            [
             1,
             "#276419"
            ]
           ],
           "sequential": [
            [
             0,
             "#0d0887"
            ],
            [
             0.1111111111111111,
             "#46039f"
            ],
            [
             0.2222222222222222,
             "#7201a8"
            ],
            [
             0.3333333333333333,
             "#9c179e"
            ],
            [
             0.4444444444444444,
             "#bd3786"
            ],
            [
             0.5555555555555556,
             "#d8576b"
            ],
            [
             0.6666666666666666,
             "#ed7953"
            ],
            [
             0.7777777777777778,
             "#fb9f3a"
            ],
            [
             0.8888888888888888,
             "#fdca26"
            ],
            [
             1,
             "#f0f921"
            ]
           ],
           "sequentialminus": [
            [
             0,
             "#0d0887"
            ],
            [
             0.1111111111111111,
             "#46039f"
            ],
            [
             0.2222222222222222,
             "#7201a8"
            ],
            [
             0.3333333333333333,
             "#9c179e"
            ],
            [
             0.4444444444444444,
             "#bd3786"
            ],
            [
             0.5555555555555556,
             "#d8576b"
            ],
            [
             0.6666666666666666,
             "#ed7953"
            ],
            [
             0.7777777777777778,
             "#fb9f3a"
            ],
            [
             0.8888888888888888,
             "#fdca26"
            ],
            [
             1,
             "#f0f921"
            ]
           ]
          },
          "colorway": [
           "#636efa",
           "#EF553B",
           "#00cc96",
           "#ab63fa",
           "#FFA15A",
           "#19d3f3",
           "#FF6692",
           "#B6E880",
           "#FF97FF",
           "#FECB52"
          ],
          "font": {
           "color": "#2a3f5f"
          },
          "geo": {
           "bgcolor": "white",
           "lakecolor": "white",
           "landcolor": "#E5ECF6",
           "showlakes": true,
           "showland": true,
           "subunitcolor": "white"
          },
          "hoverlabel": {
           "align": "left"
          },
          "hovermode": "closest",
          "mapbox": {
           "style": "light"
          },
          "paper_bgcolor": "white",
          "plot_bgcolor": "#E5ECF6",
          "polar": {
           "angularaxis": {
            "gridcolor": "white",
            "linecolor": "white",
            "ticks": ""
           },
           "bgcolor": "#E5ECF6",
           "radialaxis": {
            "gridcolor": "white",
            "linecolor": "white",
            "ticks": ""
           }
          },
          "scene": {
           "xaxis": {
            "backgroundcolor": "#E5ECF6",
            "gridcolor": "white",
            "gridwidth": 2,
            "linecolor": "white",
            "showbackground": true,
            "ticks": "",
            "zerolinecolor": "white"
           },
           "yaxis": {
            "backgroundcolor": "#E5ECF6",
            "gridcolor": "white",
            "gridwidth": 2,
            "linecolor": "white",
            "showbackground": true,
            "ticks": "",
            "zerolinecolor": "white"
           },
           "zaxis": {
            "backgroundcolor": "#E5ECF6",
            "gridcolor": "white",
            "gridwidth": 2,
            "linecolor": "white",
            "showbackground": true,
            "ticks": "",
            "zerolinecolor": "white"
           }
          },
          "shapedefaults": {
           "line": {
            "color": "#2a3f5f"
           }
          },
          "ternary": {
           "aaxis": {
            "gridcolor": "white",
            "linecolor": "white",
            "ticks": ""
           },
           "baxis": {
            "gridcolor": "white",
            "linecolor": "white",
            "ticks": ""
           },
           "bgcolor": "#E5ECF6",
           "caxis": {
            "gridcolor": "white",
            "linecolor": "white",
            "ticks": ""
           }
          },
          "title": {
           "x": 0.05
          },
          "xaxis": {
           "automargin": true,
           "gridcolor": "white",
           "linecolor": "white",
           "ticks": "",
           "title": {
            "standoff": 15
           },
           "zerolinecolor": "white",
           "zerolinewidth": 2
          },
          "yaxis": {
           "automargin": true,
           "gridcolor": "white",
           "linecolor": "white",
           "ticks": "",
           "title": {
            "standoff": 15
           },
           "zerolinecolor": "white",
           "zerolinewidth": 2
          }
         }
        },
        "title": {
         "text": "K=2 Clustering",
         "x": 0.5
        },
        "xaxis": {
         "title": {
          "text": "Worst Performance(2010)"
         }
        },
        "yaxis": {
         "title": {
          "text": "Best Performance(2018)"
         }
        }
       }
      },
      "text/html": [
       "<div>\n",
       "        \n",
       "        \n",
       "            <div id=\"2cf34fdf-0920-4db4-ab04-6cc228742686\" class=\"plotly-graph-div\" style=\"height:525px; width:100%;\"></div>\n",
       "            <script type=\"text/javascript\">\n",
       "                require([\"plotly\"], function(Plotly) {\n",
       "                    window.PLOTLYENV=window.PLOTLYENV || {};\n",
       "                    \n",
       "                if (document.getElementById(\"2cf34fdf-0920-4db4-ab04-6cc228742686\")) {\n",
       "                    Plotly.newPlot(\n",
       "                        '2cf34fdf-0920-4db4-ab04-6cc228742686',\n",
       "                        [{\"marker\": {\"color\": [0, 0, 0, 1, 0, 0, 0, 0, 1, 0], \"opacity\": 0.5, \"size\": 15}, \"mode\": \"markers\", \"text\": [\"Agriculture\", \"Production\", \"Construction\", \"Retail\", \"ICT\", \"Finance\", \"Real_Estate\", \"Professional_Service\", \"Public_Adminstration\", \"Other_Service\"], \"type\": \"scatter\", \"x\": [-0.712345002838647, 0.12588467152652597, -0.29923898052606174, 1.5882799905130778, -0.789708494289913, -0.77543755897366, -0.8896050415036836, 0.09584059717651977, 2.1448464678469423, -0.4885166489311008], \"y\": [-0.7693211622828267, 0.15132248754852373, -0.3208214067068799, 1.495343995608898, -0.8402535783211972, -0.8106984049718762, -0.8868029763463778, 0.3094426649673913, 2.14038565395783, -0.4685972734534851]}, {\"marker\": {\"opacity\": 0.5, \"size\": 20}, \"mode\": \"markers\", \"type\": \"scatter\", \"x\": [-0.46664080729500257, 1.86656322918001], \"y\": [-0.454466206195841, 1.817864824783364]}, {\"marker\": {\"opacity\": 0.5, \"size\": 30}, \"mode\": \"lines\", \"type\": \"scatter\", \"x\": [-0.712345002838647, 0.12588467152652597, -0.29923898052606174, 1.5882799905130778, -0.789708494289913, -0.77543755897366, -0.8896050415036836, 0.09584059717651977, 2.1448464678469423, -0.4885166489311008], \"y\": [-0.712345002838647, 0.12588467152652597, -0.29923898052606174, 1.5882799905130778, -0.789708494289913, -0.77543755897366, -0.8896050415036836, 0.09584059717651977, 2.1448464678469423, -0.4885166489311008]}],\n",
       "                        {\"autosize\": true, \"showlegend\": false, \"template\": {\"data\": {\"bar\": [{\"error_x\": {\"color\": \"#2a3f5f\"}, \"error_y\": {\"color\": \"#2a3f5f\"}, \"marker\": {\"line\": {\"color\": \"#E5ECF6\", \"width\": 0.5}}, \"type\": \"bar\"}], \"barpolar\": [{\"marker\": {\"line\": {\"color\": \"#E5ECF6\", \"width\": 0.5}}, \"type\": \"barpolar\"}], \"carpet\": [{\"aaxis\": {\"endlinecolor\": \"#2a3f5f\", \"gridcolor\": \"white\", \"linecolor\": \"white\", \"minorgridcolor\": \"white\", \"startlinecolor\": \"#2a3f5f\"}, \"baxis\": {\"endlinecolor\": \"#2a3f5f\", \"gridcolor\": \"white\", \"linecolor\": \"white\", \"minorgridcolor\": \"white\", \"startlinecolor\": \"#2a3f5f\"}, \"type\": \"carpet\"}], \"choropleth\": [{\"colorbar\": {\"outlinewidth\": 0, \"ticks\": \"\"}, \"type\": \"choropleth\"}], \"contour\": [{\"colorbar\": {\"outlinewidth\": 0, \"ticks\": \"\"}, \"colorscale\": [[0.0, \"#0d0887\"], [0.1111111111111111, \"#46039f\"], [0.2222222222222222, \"#7201a8\"], [0.3333333333333333, \"#9c179e\"], [0.4444444444444444, \"#bd3786\"], [0.5555555555555556, \"#d8576b\"], [0.6666666666666666, \"#ed7953\"], [0.7777777777777778, \"#fb9f3a\"], [0.8888888888888888, \"#fdca26\"], [1.0, \"#f0f921\"]], \"type\": \"contour\"}], \"contourcarpet\": [{\"colorbar\": {\"outlinewidth\": 0, \"ticks\": \"\"}, \"type\": \"contourcarpet\"}], \"heatmap\": [{\"colorbar\": {\"outlinewidth\": 0, \"ticks\": \"\"}, \"colorscale\": [[0.0, \"#0d0887\"], [0.1111111111111111, \"#46039f\"], [0.2222222222222222, \"#7201a8\"], [0.3333333333333333, \"#9c179e\"], [0.4444444444444444, \"#bd3786\"], [0.5555555555555556, \"#d8576b\"], [0.6666666666666666, \"#ed7953\"], [0.7777777777777778, \"#fb9f3a\"], [0.8888888888888888, \"#fdca26\"], [1.0, \"#f0f921\"]], \"type\": \"heatmap\"}], \"heatmapgl\": [{\"colorbar\": {\"outlinewidth\": 0, \"ticks\": \"\"}, \"colorscale\": [[0.0, \"#0d0887\"], [0.1111111111111111, \"#46039f\"], [0.2222222222222222, \"#7201a8\"], [0.3333333333333333, \"#9c179e\"], [0.4444444444444444, \"#bd3786\"], [0.5555555555555556, \"#d8576b\"], [0.6666666666666666, \"#ed7953\"], [0.7777777777777778, \"#fb9f3a\"], [0.8888888888888888, \"#fdca26\"], [1.0, \"#f0f921\"]], \"type\": \"heatmapgl\"}], \"histogram\": [{\"marker\": {\"colorbar\": {\"outlinewidth\": 0, \"ticks\": \"\"}}, \"type\": \"histogram\"}], \"histogram2d\": [{\"colorbar\": {\"outlinewidth\": 0, \"ticks\": \"\"}, \"colorscale\": [[0.0, \"#0d0887\"], [0.1111111111111111, \"#46039f\"], [0.2222222222222222, \"#7201a8\"], [0.3333333333333333, \"#9c179e\"], [0.4444444444444444, \"#bd3786\"], [0.5555555555555556, \"#d8576b\"], [0.6666666666666666, \"#ed7953\"], [0.7777777777777778, \"#fb9f3a\"], [0.8888888888888888, \"#fdca26\"], [1.0, \"#f0f921\"]], \"type\": \"histogram2d\"}], \"histogram2dcontour\": [{\"colorbar\": {\"outlinewidth\": 0, \"ticks\": \"\"}, \"colorscale\": [[0.0, \"#0d0887\"], [0.1111111111111111, \"#46039f\"], [0.2222222222222222, \"#7201a8\"], [0.3333333333333333, \"#9c179e\"], [0.4444444444444444, \"#bd3786\"], [0.5555555555555556, \"#d8576b\"], [0.6666666666666666, \"#ed7953\"], [0.7777777777777778, \"#fb9f3a\"], [0.8888888888888888, \"#fdca26\"], [1.0, \"#f0f921\"]], \"type\": \"histogram2dcontour\"}], \"mesh3d\": [{\"colorbar\": {\"outlinewidth\": 0, \"ticks\": \"\"}, \"type\": \"mesh3d\"}], \"parcoords\": [{\"line\": {\"colorbar\": {\"outlinewidth\": 0, \"ticks\": \"\"}}, \"type\": \"parcoords\"}], \"pie\": [{\"automargin\": true, \"type\": \"pie\"}], \"scatter\": [{\"marker\": {\"colorbar\": {\"outlinewidth\": 0, \"ticks\": \"\"}}, \"type\": \"scatter\"}], \"scatter3d\": [{\"line\": {\"colorbar\": {\"outlinewidth\": 0, \"ticks\": \"\"}}, \"marker\": {\"colorbar\": {\"outlinewidth\": 0, \"ticks\": \"\"}}, \"type\": \"scatter3d\"}], \"scattercarpet\": [{\"marker\": {\"colorbar\": {\"outlinewidth\": 0, \"ticks\": \"\"}}, \"type\": \"scattercarpet\"}], \"scattergeo\": [{\"marker\": {\"colorbar\": {\"outlinewidth\": 0, \"ticks\": \"\"}}, \"type\": \"scattergeo\"}], \"scattergl\": [{\"marker\": {\"colorbar\": {\"outlinewidth\": 0, \"ticks\": \"\"}}, \"type\": \"scattergl\"}], \"scattermapbox\": [{\"marker\": {\"colorbar\": {\"outlinewidth\": 0, \"ticks\": \"\"}}, \"type\": \"scattermapbox\"}], \"scatterpolar\": [{\"marker\": {\"colorbar\": {\"outlinewidth\": 0, \"ticks\": \"\"}}, \"type\": \"scatterpolar\"}], \"scatterpolargl\": [{\"marker\": {\"colorbar\": {\"outlinewidth\": 0, \"ticks\": \"\"}}, \"type\": \"scatterpolargl\"}], \"scatterternary\": [{\"marker\": {\"colorbar\": {\"outlinewidth\": 0, \"ticks\": \"\"}}, \"type\": \"scatterternary\"}], \"surface\": [{\"colorbar\": {\"outlinewidth\": 0, \"ticks\": \"\"}, \"colorscale\": [[0.0, \"#0d0887\"], [0.1111111111111111, \"#46039f\"], [0.2222222222222222, \"#7201a8\"], [0.3333333333333333, \"#9c179e\"], [0.4444444444444444, \"#bd3786\"], [0.5555555555555556, \"#d8576b\"], [0.6666666666666666, \"#ed7953\"], [0.7777777777777778, \"#fb9f3a\"], [0.8888888888888888, \"#fdca26\"], [1.0, \"#f0f921\"]], \"type\": \"surface\"}], \"table\": [{\"cells\": {\"fill\": {\"color\": \"#EBF0F8\"}, \"line\": {\"color\": \"white\"}}, \"header\": {\"fill\": {\"color\": \"#C8D4E3\"}, \"line\": {\"color\": \"white\"}}, \"type\": \"table\"}]}, \"layout\": {\"annotationdefaults\": {\"arrowcolor\": \"#2a3f5f\", \"arrowhead\": 0, \"arrowwidth\": 1}, \"coloraxis\": {\"colorbar\": {\"outlinewidth\": 0, \"ticks\": \"\"}}, \"colorscale\": {\"diverging\": [[0, \"#8e0152\"], [0.1, \"#c51b7d\"], [0.2, \"#de77ae\"], [0.3, \"#f1b6da\"], [0.4, \"#fde0ef\"], [0.5, \"#f7f7f7\"], [0.6, \"#e6f5d0\"], [0.7, \"#b8e186\"], [0.8, \"#7fbc41\"], [0.9, \"#4d9221\"], [1, \"#276419\"]], \"sequential\": [[0.0, \"#0d0887\"], [0.1111111111111111, \"#46039f\"], [0.2222222222222222, \"#7201a8\"], [0.3333333333333333, \"#9c179e\"], [0.4444444444444444, \"#bd3786\"], [0.5555555555555556, \"#d8576b\"], [0.6666666666666666, \"#ed7953\"], [0.7777777777777778, \"#fb9f3a\"], [0.8888888888888888, \"#fdca26\"], [1.0, \"#f0f921\"]], \"sequentialminus\": [[0.0, \"#0d0887\"], [0.1111111111111111, \"#46039f\"], [0.2222222222222222, \"#7201a8\"], [0.3333333333333333, \"#9c179e\"], [0.4444444444444444, \"#bd3786\"], [0.5555555555555556, \"#d8576b\"], [0.6666666666666666, \"#ed7953\"], [0.7777777777777778, \"#fb9f3a\"], [0.8888888888888888, \"#fdca26\"], [1.0, \"#f0f921\"]]}, \"colorway\": [\"#636efa\", \"#EF553B\", \"#00cc96\", \"#ab63fa\", \"#FFA15A\", \"#19d3f3\", \"#FF6692\", \"#B6E880\", \"#FF97FF\", \"#FECB52\"], \"font\": {\"color\": \"#2a3f5f\"}, \"geo\": {\"bgcolor\": \"white\", \"lakecolor\": \"white\", \"landcolor\": \"#E5ECF6\", \"showlakes\": true, \"showland\": true, \"subunitcolor\": \"white\"}, \"hoverlabel\": {\"align\": \"left\"}, \"hovermode\": \"closest\", \"mapbox\": {\"style\": \"light\"}, \"paper_bgcolor\": \"white\", \"plot_bgcolor\": \"#E5ECF6\", \"polar\": {\"angularaxis\": {\"gridcolor\": \"white\", \"linecolor\": \"white\", \"ticks\": \"\"}, \"bgcolor\": \"#E5ECF6\", \"radialaxis\": {\"gridcolor\": \"white\", \"linecolor\": \"white\", \"ticks\": \"\"}}, \"scene\": {\"xaxis\": {\"backgroundcolor\": \"#E5ECF6\", \"gridcolor\": \"white\", \"gridwidth\": 2, \"linecolor\": \"white\", \"showbackground\": true, \"ticks\": \"\", \"zerolinecolor\": \"white\"}, \"yaxis\": {\"backgroundcolor\": \"#E5ECF6\", \"gridcolor\": \"white\", \"gridwidth\": 2, \"linecolor\": \"white\", \"showbackground\": true, \"ticks\": \"\", \"zerolinecolor\": \"white\"}, \"zaxis\": {\"backgroundcolor\": \"#E5ECF6\", \"gridcolor\": \"white\", \"gridwidth\": 2, \"linecolor\": \"white\", \"showbackground\": true, \"ticks\": \"\", \"zerolinecolor\": \"white\"}}, \"shapedefaults\": {\"line\": {\"color\": \"#2a3f5f\"}}, \"ternary\": {\"aaxis\": {\"gridcolor\": \"white\", \"linecolor\": \"white\", \"ticks\": \"\"}, \"baxis\": {\"gridcolor\": \"white\", \"linecolor\": \"white\", \"ticks\": \"\"}, \"bgcolor\": \"#E5ECF6\", \"caxis\": {\"gridcolor\": \"white\", \"linecolor\": \"white\", \"ticks\": \"\"}}, \"title\": {\"x\": 0.05}, \"xaxis\": {\"automargin\": true, \"gridcolor\": \"white\", \"linecolor\": \"white\", \"ticks\": \"\", \"title\": {\"standoff\": 15}, \"zerolinecolor\": \"white\", \"zerolinewidth\": 2}, \"yaxis\": {\"automargin\": true, \"gridcolor\": \"white\", \"linecolor\": \"white\", \"ticks\": \"\", \"title\": {\"standoff\": 15}, \"zerolinecolor\": \"white\", \"zerolinewidth\": 2}}}, \"title\": {\"text\": \"K=2 Clustering\", \"x\": 0.5}, \"xaxis\": {\"title\": {\"text\": \"Worst Performance(2010)\"}}, \"yaxis\": {\"title\": {\"text\": \"Best Performance(2018)\"}}},\n",
       "                        {\"responsive\": true}\n",
       "                    ).then(function(){\n",
       "                            \n",
       "var gd = document.getElementById('2cf34fdf-0920-4db4-ab04-6cc228742686');\n",
       "var x = new MutationObserver(function (mutations, observer) {{\n",
       "        var display = window.getComputedStyle(gd).display;\n",
       "        if (!display || display === 'none') {{\n",
       "            console.log([gd, 'removed!']);\n",
       "            Plotly.purge(gd);\n",
       "            observer.disconnect();\n",
       "        }}\n",
       "}});\n",
       "\n",
       "// Listen for the removal of the full notebook cells\n",
       "var notebookContainer = gd.closest('#notebook-container');\n",
       "if (notebookContainer) {{\n",
       "    x.observe(notebookContainer, {childList: true});\n",
       "}}\n",
       "\n",
       "// Listen for the clearing of the current output cell\n",
       "var outputEl = gd.closest('.output');\n",
       "if (outputEl) {{\n",
       "    x.observe(outputEl, {childList: true});\n",
       "}}\n",
       "\n",
       "                        })\n",
       "                };\n",
       "                });\n",
       "            </script>\n",
       "        </div>"
      ]
     },
     "metadata": {},
     "output_type": "display_data"
    }
   ],
   "source": [
    "data2 = go.Scatter(\n",
    "    x = X[:,0],\n",
    "    y = X[:,1],\n",
    "    mode = 'markers',\n",
    "    text = df_merged['Industry'],\n",
    "    marker = dict(size = 15,opacity=0.5,color = kmeans2.labels_\n",
    "    )\n",
    ")\n",
    "\n",
    "clusters2 = go.Scatter(\n",
    "    x = kmeans2.cluster_centers_[:,0],\n",
    "    y = kmeans2.cluster_centers_[:,1],\n",
    "    mode = 'markers',\n",
    "    marker = dict(size = 20,opacity=0.5\n",
    "    )\n",
    ")\n",
    "line_c2 = go.Scatter(\n",
    "    x = X[:,0],\n",
    "    y = X[:,0],\n",
    "    mode = 'lines',\n",
    "    marker = dict(size = 30,opacity=0.5\n",
    "    )\n",
    ")\n",
    "\n",
    "data = [data2,clusters2,line_c2]\n",
    "layout2 = go.Layout(\n",
    "    autosize=True,\n",
    "    title='K=2 Clustering',\n",
    "    title_x=0.5,\n",
    "    xaxis= go.layout.XAxis(title='Worst Performance(2010)'),\n",
    "    yaxis= go.layout.YAxis(title='Best Performance(2018)'),\n",
    "    )\n",
    "\n",
    "fig = go.Figure(data=data, layout=layout2)\n",
    "fig.update(layout_showlegend=False)\n",
    "iplot(fig, filename='size-margins')\n"
   ]
  },
  {
   "cell_type": "code",
   "execution_count": 20,
   "metadata": {},
   "outputs": [
    {
     "data": {
      "text/plain": [
       "array([[0.        , 2.36697792, 1.19445242],\n",
       "       [2.36697792, 0.        , 3.55418863],\n",
       "       [1.19445242, 3.55418863, 0.        ]])"
      ]
     },
     "execution_count": 20,
     "metadata": {},
     "output_type": "execute_result"
    }
   ],
   "source": [
    "###################################################\n",
    "#K = 3 Analysis\n",
    "kmeans3 = KMeans(n_clusters = 3)\n",
    "kmeans3.fit(X)\n",
    "a = kmeans3.cluster_centers_\n",
    "kmeans3.transform(a)"
   ]
  },
  {
   "cell_type": "code",
   "execution_count": 21,
   "metadata": {},
   "outputs": [
    {
     "data": {
      "application/vnd.plotly.v1+json": {
       "config": {
        "linkText": "Export to plot.ly",
        "plotlyServerURL": "https://plot.ly",
        "showLink": false
       },
       "data": [
        {
         "marker": {
          "color": [
           2,
           0,
           2,
           1,
           2,
           2,
           2,
           0,
           1,
           2
          ],
          "opacity": 0.5,
          "size": 15
         },
         "mode": "markers",
         "text": [
          "Agriculture",
          "Production",
          "Construction",
          "Retail",
          "ICT",
          "Finance",
          "Real_Estate",
          "Professional_Service",
          "Public_Adminstration",
          "Other_Service"
         ],
         "type": "scatter",
         "x": [
          -0.712345002838647,
          0.12588467152652597,
          -0.29923898052606174,
          1.5882799905130778,
          -0.789708494289913,
          -0.77543755897366,
          -0.8896050415036836,
          0.09584059717651977,
          2.1448464678469423,
          -0.4885166489311008
         ],
         "y": [
          -0.7693211622828267,
          0.15132248754852373,
          -0.3208214067068799,
          1.495343995608898,
          -0.8402535783211972,
          -0.8106984049718762,
          -0.8868029763463778,
          0.3094426649673913,
          2.14038565395783,
          -0.4685972734534851
         ]
        },
        {
         "marker": {
          "opacity": 0.5,
          "size": 20
         },
         "mode": "markers",
         "type": "scatter",
         "x": [
          0.11086263435152287,
          1.86656322918001,
          -0.659141954510511
         ],
         "y": [
          0.23038257625795752,
          1.817864824783364,
          -0.6827491336804404
         ]
        },
        {
         "marker": {
          "opacity": 0.5,
          "size": 30
         },
         "mode": "lines",
         "type": "scatter",
         "x": [
          -0.712345002838647,
          0.12588467152652597,
          -0.29923898052606174,
          1.5882799905130778,
          -0.789708494289913,
          -0.77543755897366,
          -0.8896050415036836,
          0.09584059717651977,
          2.1448464678469423,
          -0.4885166489311008
         ],
         "y": [
          -0.712345002838647,
          0.12588467152652597,
          -0.29923898052606174,
          1.5882799905130778,
          -0.789708494289913,
          -0.77543755897366,
          -0.8896050415036836,
          0.09584059717651977,
          2.1448464678469423,
          -0.4885166489311008
         ]
        }
       ],
       "layout": {
        "autosize": true,
        "showlegend": false,
        "template": {
         "data": {
          "bar": [
           {
            "error_x": {
             "color": "#2a3f5f"
            },
            "error_y": {
             "color": "#2a3f5f"
            },
            "marker": {
             "line": {
              "color": "#E5ECF6",
              "width": 0.5
             }
            },
            "type": "bar"
           }
          ],
          "barpolar": [
           {
            "marker": {
             "line": {
              "color": "#E5ECF6",
              "width": 0.5
             }
            },
            "type": "barpolar"
           }
          ],
          "carpet": [
           {
            "aaxis": {
             "endlinecolor": "#2a3f5f",
             "gridcolor": "white",
             "linecolor": "white",
             "minorgridcolor": "white",
             "startlinecolor": "#2a3f5f"
            },
            "baxis": {
             "endlinecolor": "#2a3f5f",
             "gridcolor": "white",
             "linecolor": "white",
             "minorgridcolor": "white",
             "startlinecolor": "#2a3f5f"
            },
            "type": "carpet"
           }
          ],
          "choropleth": [
           {
            "colorbar": {
             "outlinewidth": 0,
             "ticks": ""
            },
            "type": "choropleth"
           }
          ],
          "contour": [
           {
            "colorbar": {
             "outlinewidth": 0,
             "ticks": ""
            },
            "colorscale": [
             [
              0,
              "#0d0887"
             ],
             [
              0.1111111111111111,
              "#46039f"
             ],
             [
              0.2222222222222222,
              "#7201a8"
             ],
             [
              0.3333333333333333,
              "#9c179e"
             ],
             [
              0.4444444444444444,
              "#bd3786"
             ],
             [
              0.5555555555555556,
              "#d8576b"
             ],
             [
              0.6666666666666666,
              "#ed7953"
             ],
             [
              0.7777777777777778,
              "#fb9f3a"
             ],
             [
              0.8888888888888888,
              "#fdca26"
             ],
             [
              1,
              "#f0f921"
             ]
            ],
            "type": "contour"
           }
          ],
          "contourcarpet": [
           {
            "colorbar": {
             "outlinewidth": 0,
             "ticks": ""
            },
            "type": "contourcarpet"
           }
          ],
          "heatmap": [
           {
            "colorbar": {
             "outlinewidth": 0,
             "ticks": ""
            },
            "colorscale": [
             [
              0,
              "#0d0887"
             ],
             [
              0.1111111111111111,
              "#46039f"
             ],
             [
              0.2222222222222222,
              "#7201a8"
             ],
             [
              0.3333333333333333,
              "#9c179e"
             ],
             [
              0.4444444444444444,
              "#bd3786"
             ],
             [
              0.5555555555555556,
              "#d8576b"
             ],
             [
              0.6666666666666666,
              "#ed7953"
             ],
             [
              0.7777777777777778,
              "#fb9f3a"
             ],
             [
              0.8888888888888888,
              "#fdca26"
             ],
             [
              1,
              "#f0f921"
             ]
            ],
            "type": "heatmap"
           }
          ],
          "heatmapgl": [
           {
            "colorbar": {
             "outlinewidth": 0,
             "ticks": ""
            },
            "colorscale": [
             [
              0,
              "#0d0887"
             ],
             [
              0.1111111111111111,
              "#46039f"
             ],
             [
              0.2222222222222222,
              "#7201a8"
             ],
             [
              0.3333333333333333,
              "#9c179e"
             ],
             [
              0.4444444444444444,
              "#bd3786"
             ],
             [
              0.5555555555555556,
              "#d8576b"
             ],
             [
              0.6666666666666666,
              "#ed7953"
             ],
             [
              0.7777777777777778,
              "#fb9f3a"
             ],
             [
              0.8888888888888888,
              "#fdca26"
             ],
             [
              1,
              "#f0f921"
             ]
            ],
            "type": "heatmapgl"
           }
          ],
          "histogram": [
           {
            "marker": {
             "colorbar": {
              "outlinewidth": 0,
              "ticks": ""
             }
            },
            "type": "histogram"
           }
          ],
          "histogram2d": [
           {
            "colorbar": {
             "outlinewidth": 0,
             "ticks": ""
            },
            "colorscale": [
             [
              0,
              "#0d0887"
             ],
             [
              0.1111111111111111,
              "#46039f"
             ],
             [
              0.2222222222222222,
              "#7201a8"
             ],
             [
              0.3333333333333333,
              "#9c179e"
             ],
             [
              0.4444444444444444,
              "#bd3786"
             ],
             [
              0.5555555555555556,
              "#d8576b"
             ],
             [
              0.6666666666666666,
              "#ed7953"
             ],
             [
              0.7777777777777778,
              "#fb9f3a"
             ],
             [
              0.8888888888888888,
              "#fdca26"
             ],
             [
              1,
              "#f0f921"
             ]
            ],
            "type": "histogram2d"
           }
          ],
          "histogram2dcontour": [
           {
            "colorbar": {
             "outlinewidth": 0,
             "ticks": ""
            },
            "colorscale": [
             [
              0,
              "#0d0887"
             ],
             [
              0.1111111111111111,
              "#46039f"
             ],
             [
              0.2222222222222222,
              "#7201a8"
             ],
             [
              0.3333333333333333,
              "#9c179e"
             ],
             [
              0.4444444444444444,
              "#bd3786"
             ],
             [
              0.5555555555555556,
              "#d8576b"
             ],
             [
              0.6666666666666666,
              "#ed7953"
             ],
             [
              0.7777777777777778,
              "#fb9f3a"
             ],
             [
              0.8888888888888888,
              "#fdca26"
             ],
             [
              1,
              "#f0f921"
             ]
            ],
            "type": "histogram2dcontour"
           }
          ],
          "mesh3d": [
           {
            "colorbar": {
             "outlinewidth": 0,
             "ticks": ""
            },
            "type": "mesh3d"
           }
          ],
          "parcoords": [
           {
            "line": {
             "colorbar": {
              "outlinewidth": 0,
              "ticks": ""
             }
            },
            "type": "parcoords"
           }
          ],
          "pie": [
           {
            "automargin": true,
            "type": "pie"
           }
          ],
          "scatter": [
           {
            "marker": {
             "colorbar": {
              "outlinewidth": 0,
              "ticks": ""
             }
            },
            "type": "scatter"
           }
          ],
          "scatter3d": [
           {
            "line": {
             "colorbar": {
              "outlinewidth": 0,
              "ticks": ""
             }
            },
            "marker": {
             "colorbar": {
              "outlinewidth": 0,
              "ticks": ""
             }
            },
            "type": "scatter3d"
           }
          ],
          "scattercarpet": [
           {
            "marker": {
             "colorbar": {
              "outlinewidth": 0,
              "ticks": ""
             }
            },
            "type": "scattercarpet"
           }
          ],
          "scattergeo": [
           {
            "marker": {
             "colorbar": {
              "outlinewidth": 0,
              "ticks": ""
             }
            },
            "type": "scattergeo"
           }
          ],
          "scattergl": [
           {
            "marker": {
             "colorbar": {
              "outlinewidth": 0,
              "ticks": ""
             }
            },
            "type": "scattergl"
           }
          ],
          "scattermapbox": [
           {
            "marker": {
             "colorbar": {
              "outlinewidth": 0,
              "ticks": ""
             }
            },
            "type": "scattermapbox"
           }
          ],
          "scatterpolar": [
           {
            "marker": {
             "colorbar": {
              "outlinewidth": 0,
              "ticks": ""
             }
            },
            "type": "scatterpolar"
           }
          ],
          "scatterpolargl": [
           {
            "marker": {
             "colorbar": {
              "outlinewidth": 0,
              "ticks": ""
             }
            },
            "type": "scatterpolargl"
           }
          ],
          "scatterternary": [
           {
            "marker": {
             "colorbar": {
              "outlinewidth": 0,
              "ticks": ""
             }
            },
            "type": "scatterternary"
           }
          ],
          "surface": [
           {
            "colorbar": {
             "outlinewidth": 0,
             "ticks": ""
            },
            "colorscale": [
             [
              0,
              "#0d0887"
             ],
             [
              0.1111111111111111,
              "#46039f"
             ],
             [
              0.2222222222222222,
              "#7201a8"
             ],
             [
              0.3333333333333333,
              "#9c179e"
             ],
             [
              0.4444444444444444,
              "#bd3786"
             ],
             [
              0.5555555555555556,
              "#d8576b"
             ],
             [
              0.6666666666666666,
              "#ed7953"
             ],
             [
              0.7777777777777778,
              "#fb9f3a"
             ],
             [
              0.8888888888888888,
              "#fdca26"
             ],
             [
              1,
              "#f0f921"
             ]
            ],
            "type": "surface"
           }
          ],
          "table": [
           {
            "cells": {
             "fill": {
              "color": "#EBF0F8"
             },
             "line": {
              "color": "white"
             }
            },
            "header": {
             "fill": {
              "color": "#C8D4E3"
             },
             "line": {
              "color": "white"
             }
            },
            "type": "table"
           }
          ]
         },
         "layout": {
          "annotationdefaults": {
           "arrowcolor": "#2a3f5f",
           "arrowhead": 0,
           "arrowwidth": 1
          },
          "coloraxis": {
           "colorbar": {
            "outlinewidth": 0,
            "ticks": ""
           }
          },
          "colorscale": {
           "diverging": [
            [
             0,
             "#8e0152"
            ],
            [
             0.1,
             "#c51b7d"
            ],
            [
             0.2,
             "#de77ae"
            ],
            [
             0.3,
             "#f1b6da"
            ],
            [
             0.4,
             "#fde0ef"
            ],
            [
             0.5,
             "#f7f7f7"
            ],
            [
             0.6,
             "#e6f5d0"
            ],
            [
             0.7,
             "#b8e186"
            ],
            [
             0.8,
             "#7fbc41"
            ],
            [
             0.9,
             "#4d9221"
            ],
            [
             1,
             "#276419"
            ]
           ],
           "sequential": [
            [
             0,
             "#0d0887"
            ],
            [
             0.1111111111111111,
             "#46039f"
            ],
            [
             0.2222222222222222,
             "#7201a8"
            ],
            [
             0.3333333333333333,
             "#9c179e"
            ],
            [
             0.4444444444444444,
             "#bd3786"
            ],
            [
             0.5555555555555556,
             "#d8576b"
            ],
            [
             0.6666666666666666,
             "#ed7953"
            ],
            [
             0.7777777777777778,
             "#fb9f3a"
            ],
            [
             0.8888888888888888,
             "#fdca26"
            ],
            [
             1,
             "#f0f921"
            ]
           ],
           "sequentialminus": [
            [
             0,
             "#0d0887"
            ],
            [
             0.1111111111111111,
             "#46039f"
            ],
            [
             0.2222222222222222,
             "#7201a8"
            ],
            [
             0.3333333333333333,
             "#9c179e"
            ],
            [
             0.4444444444444444,
             "#bd3786"
            ],
            [
             0.5555555555555556,
             "#d8576b"
            ],
            [
             0.6666666666666666,
             "#ed7953"
            ],
            [
             0.7777777777777778,
             "#fb9f3a"
            ],
            [
             0.8888888888888888,
             "#fdca26"
            ],
            [
             1,
             "#f0f921"
            ]
           ]
          },
          "colorway": [
           "#636efa",
           "#EF553B",
           "#00cc96",
           "#ab63fa",
           "#FFA15A",
           "#19d3f3",
           "#FF6692",
           "#B6E880",
           "#FF97FF",
           "#FECB52"
          ],
          "font": {
           "color": "#2a3f5f"
          },
          "geo": {
           "bgcolor": "white",
           "lakecolor": "white",
           "landcolor": "#E5ECF6",
           "showlakes": true,
           "showland": true,
           "subunitcolor": "white"
          },
          "hoverlabel": {
           "align": "left"
          },
          "hovermode": "closest",
          "mapbox": {
           "style": "light"
          },
          "paper_bgcolor": "white",
          "plot_bgcolor": "#E5ECF6",
          "polar": {
           "angularaxis": {
            "gridcolor": "white",
            "linecolor": "white",
            "ticks": ""
           },
           "bgcolor": "#E5ECF6",
           "radialaxis": {
            "gridcolor": "white",
            "linecolor": "white",
            "ticks": ""
           }
          },
          "scene": {
           "xaxis": {
            "backgroundcolor": "#E5ECF6",
            "gridcolor": "white",
            "gridwidth": 2,
            "linecolor": "white",
            "showbackground": true,
            "ticks": "",
            "zerolinecolor": "white"
           },
           "yaxis": {
            "backgroundcolor": "#E5ECF6",
            "gridcolor": "white",
            "gridwidth": 2,
            "linecolor": "white",
            "showbackground": true,
            "ticks": "",
            "zerolinecolor": "white"
           },
           "zaxis": {
            "backgroundcolor": "#E5ECF6",
            "gridcolor": "white",
            "gridwidth": 2,
            "linecolor": "white",
            "showbackground": true,
            "ticks": "",
            "zerolinecolor": "white"
           }
          },
          "shapedefaults": {
           "line": {
            "color": "#2a3f5f"
           }
          },
          "ternary": {
           "aaxis": {
            "gridcolor": "white",
            "linecolor": "white",
            "ticks": ""
           },
           "baxis": {
            "gridcolor": "white",
            "linecolor": "white",
            "ticks": ""
           },
           "bgcolor": "#E5ECF6",
           "caxis": {
            "gridcolor": "white",
            "linecolor": "white",
            "ticks": ""
           }
          },
          "title": {
           "x": 0.05
          },
          "xaxis": {
           "automargin": true,
           "gridcolor": "white",
           "linecolor": "white",
           "ticks": "",
           "title": {
            "standoff": 15
           },
           "zerolinecolor": "white",
           "zerolinewidth": 2
          },
          "yaxis": {
           "automargin": true,
           "gridcolor": "white",
           "linecolor": "white",
           "ticks": "",
           "title": {
            "standoff": 15
           },
           "zerolinecolor": "white",
           "zerolinewidth": 2
          }
         }
        },
        "title": {
         "text": "K=3 Clustering",
         "x": 0.5
        },
        "xaxis": {
         "title": {
          "text": "Worst Performance(2010)"
         }
        },
        "yaxis": {
         "title": {
          "text": "Best Performance(2018)"
         }
        }
       }
      },
      "text/html": [
       "<div>\n",
       "        \n",
       "        \n",
       "            <div id=\"e20427d6-e9a7-49c7-929c-f3625efedfc8\" class=\"plotly-graph-div\" style=\"height:525px; width:100%;\"></div>\n",
       "            <script type=\"text/javascript\">\n",
       "                require([\"plotly\"], function(Plotly) {\n",
       "                    window.PLOTLYENV=window.PLOTLYENV || {};\n",
       "                    \n",
       "                if (document.getElementById(\"e20427d6-e9a7-49c7-929c-f3625efedfc8\")) {\n",
       "                    Plotly.newPlot(\n",
       "                        'e20427d6-e9a7-49c7-929c-f3625efedfc8',\n",
       "                        [{\"marker\": {\"color\": [2, 0, 2, 1, 2, 2, 2, 0, 1, 2], \"opacity\": 0.5, \"size\": 15}, \"mode\": \"markers\", \"text\": [\"Agriculture\", \"Production\", \"Construction\", \"Retail\", \"ICT\", \"Finance\", \"Real_Estate\", \"Professional_Service\", \"Public_Adminstration\", \"Other_Service\"], \"type\": \"scatter\", \"x\": [-0.712345002838647, 0.12588467152652597, -0.29923898052606174, 1.5882799905130778, -0.789708494289913, -0.77543755897366, -0.8896050415036836, 0.09584059717651977, 2.1448464678469423, -0.4885166489311008], \"y\": [-0.7693211622828267, 0.15132248754852373, -0.3208214067068799, 1.495343995608898, -0.8402535783211972, -0.8106984049718762, -0.8868029763463778, 0.3094426649673913, 2.14038565395783, -0.4685972734534851]}, {\"marker\": {\"opacity\": 0.5, \"size\": 20}, \"mode\": \"markers\", \"type\": \"scatter\", \"x\": [0.11086263435152287, 1.86656322918001, -0.659141954510511], \"y\": [0.23038257625795752, 1.817864824783364, -0.6827491336804404]}, {\"marker\": {\"opacity\": 0.5, \"size\": 30}, \"mode\": \"lines\", \"type\": \"scatter\", \"x\": [-0.712345002838647, 0.12588467152652597, -0.29923898052606174, 1.5882799905130778, -0.789708494289913, -0.77543755897366, -0.8896050415036836, 0.09584059717651977, 2.1448464678469423, -0.4885166489311008], \"y\": [-0.712345002838647, 0.12588467152652597, -0.29923898052606174, 1.5882799905130778, -0.789708494289913, -0.77543755897366, -0.8896050415036836, 0.09584059717651977, 2.1448464678469423, -0.4885166489311008]}],\n",
       "                        {\"autosize\": true, \"showlegend\": false, \"template\": {\"data\": {\"bar\": [{\"error_x\": {\"color\": \"#2a3f5f\"}, \"error_y\": {\"color\": \"#2a3f5f\"}, \"marker\": {\"line\": {\"color\": \"#E5ECF6\", \"width\": 0.5}}, \"type\": \"bar\"}], \"barpolar\": [{\"marker\": {\"line\": {\"color\": \"#E5ECF6\", \"width\": 0.5}}, \"type\": \"barpolar\"}], \"carpet\": [{\"aaxis\": {\"endlinecolor\": \"#2a3f5f\", \"gridcolor\": \"white\", \"linecolor\": \"white\", \"minorgridcolor\": \"white\", \"startlinecolor\": \"#2a3f5f\"}, \"baxis\": {\"endlinecolor\": \"#2a3f5f\", \"gridcolor\": \"white\", \"linecolor\": \"white\", \"minorgridcolor\": \"white\", \"startlinecolor\": \"#2a3f5f\"}, \"type\": \"carpet\"}], \"choropleth\": [{\"colorbar\": {\"outlinewidth\": 0, \"ticks\": \"\"}, \"type\": \"choropleth\"}], \"contour\": [{\"colorbar\": {\"outlinewidth\": 0, \"ticks\": \"\"}, \"colorscale\": [[0.0, \"#0d0887\"], [0.1111111111111111, \"#46039f\"], [0.2222222222222222, \"#7201a8\"], [0.3333333333333333, \"#9c179e\"], [0.4444444444444444, \"#bd3786\"], [0.5555555555555556, \"#d8576b\"], [0.6666666666666666, \"#ed7953\"], [0.7777777777777778, \"#fb9f3a\"], [0.8888888888888888, \"#fdca26\"], [1.0, \"#f0f921\"]], \"type\": \"contour\"}], \"contourcarpet\": [{\"colorbar\": {\"outlinewidth\": 0, \"ticks\": \"\"}, \"type\": \"contourcarpet\"}], \"heatmap\": [{\"colorbar\": {\"outlinewidth\": 0, \"ticks\": \"\"}, \"colorscale\": [[0.0, \"#0d0887\"], [0.1111111111111111, \"#46039f\"], [0.2222222222222222, \"#7201a8\"], [0.3333333333333333, \"#9c179e\"], [0.4444444444444444, \"#bd3786\"], [0.5555555555555556, \"#d8576b\"], [0.6666666666666666, \"#ed7953\"], [0.7777777777777778, \"#fb9f3a\"], [0.8888888888888888, \"#fdca26\"], [1.0, \"#f0f921\"]], \"type\": \"heatmap\"}], \"heatmapgl\": [{\"colorbar\": {\"outlinewidth\": 0, \"ticks\": \"\"}, \"colorscale\": [[0.0, \"#0d0887\"], [0.1111111111111111, \"#46039f\"], [0.2222222222222222, \"#7201a8\"], [0.3333333333333333, \"#9c179e\"], [0.4444444444444444, \"#bd3786\"], [0.5555555555555556, \"#d8576b\"], [0.6666666666666666, \"#ed7953\"], [0.7777777777777778, \"#fb9f3a\"], [0.8888888888888888, \"#fdca26\"], [1.0, \"#f0f921\"]], \"type\": \"heatmapgl\"}], \"histogram\": [{\"marker\": {\"colorbar\": {\"outlinewidth\": 0, \"ticks\": \"\"}}, \"type\": \"histogram\"}], \"histogram2d\": [{\"colorbar\": {\"outlinewidth\": 0, \"ticks\": \"\"}, \"colorscale\": [[0.0, \"#0d0887\"], [0.1111111111111111, \"#46039f\"], [0.2222222222222222, \"#7201a8\"], [0.3333333333333333, \"#9c179e\"], [0.4444444444444444, \"#bd3786\"], [0.5555555555555556, \"#d8576b\"], [0.6666666666666666, \"#ed7953\"], [0.7777777777777778, \"#fb9f3a\"], [0.8888888888888888, \"#fdca26\"], [1.0, \"#f0f921\"]], \"type\": \"histogram2d\"}], \"histogram2dcontour\": [{\"colorbar\": {\"outlinewidth\": 0, \"ticks\": \"\"}, \"colorscale\": [[0.0, \"#0d0887\"], [0.1111111111111111, \"#46039f\"], [0.2222222222222222, \"#7201a8\"], [0.3333333333333333, \"#9c179e\"], [0.4444444444444444, \"#bd3786\"], [0.5555555555555556, \"#d8576b\"], [0.6666666666666666, \"#ed7953\"], [0.7777777777777778, \"#fb9f3a\"], [0.8888888888888888, \"#fdca26\"], [1.0, \"#f0f921\"]], \"type\": \"histogram2dcontour\"}], \"mesh3d\": [{\"colorbar\": {\"outlinewidth\": 0, \"ticks\": \"\"}, \"type\": \"mesh3d\"}], \"parcoords\": [{\"line\": {\"colorbar\": {\"outlinewidth\": 0, \"ticks\": \"\"}}, \"type\": \"parcoords\"}], \"pie\": [{\"automargin\": true, \"type\": \"pie\"}], \"scatter\": [{\"marker\": {\"colorbar\": {\"outlinewidth\": 0, \"ticks\": \"\"}}, \"type\": \"scatter\"}], \"scatter3d\": [{\"line\": {\"colorbar\": {\"outlinewidth\": 0, \"ticks\": \"\"}}, \"marker\": {\"colorbar\": {\"outlinewidth\": 0, \"ticks\": \"\"}}, \"type\": \"scatter3d\"}], \"scattercarpet\": [{\"marker\": {\"colorbar\": {\"outlinewidth\": 0, \"ticks\": \"\"}}, \"type\": \"scattercarpet\"}], \"scattergeo\": [{\"marker\": {\"colorbar\": {\"outlinewidth\": 0, \"ticks\": \"\"}}, \"type\": \"scattergeo\"}], \"scattergl\": [{\"marker\": {\"colorbar\": {\"outlinewidth\": 0, \"ticks\": \"\"}}, \"type\": \"scattergl\"}], \"scattermapbox\": [{\"marker\": {\"colorbar\": {\"outlinewidth\": 0, \"ticks\": \"\"}}, \"type\": \"scattermapbox\"}], \"scatterpolar\": [{\"marker\": {\"colorbar\": {\"outlinewidth\": 0, \"ticks\": \"\"}}, \"type\": \"scatterpolar\"}], \"scatterpolargl\": [{\"marker\": {\"colorbar\": {\"outlinewidth\": 0, \"ticks\": \"\"}}, \"type\": \"scatterpolargl\"}], \"scatterternary\": [{\"marker\": {\"colorbar\": {\"outlinewidth\": 0, \"ticks\": \"\"}}, \"type\": \"scatterternary\"}], \"surface\": [{\"colorbar\": {\"outlinewidth\": 0, \"ticks\": \"\"}, \"colorscale\": [[0.0, \"#0d0887\"], [0.1111111111111111, \"#46039f\"], [0.2222222222222222, \"#7201a8\"], [0.3333333333333333, \"#9c179e\"], [0.4444444444444444, \"#bd3786\"], [0.5555555555555556, \"#d8576b\"], [0.6666666666666666, \"#ed7953\"], [0.7777777777777778, \"#fb9f3a\"], [0.8888888888888888, \"#fdca26\"], [1.0, \"#f0f921\"]], \"type\": \"surface\"}], \"table\": [{\"cells\": {\"fill\": {\"color\": \"#EBF0F8\"}, \"line\": {\"color\": \"white\"}}, \"header\": {\"fill\": {\"color\": \"#C8D4E3\"}, \"line\": {\"color\": \"white\"}}, \"type\": \"table\"}]}, \"layout\": {\"annotationdefaults\": {\"arrowcolor\": \"#2a3f5f\", \"arrowhead\": 0, \"arrowwidth\": 1}, \"coloraxis\": {\"colorbar\": {\"outlinewidth\": 0, \"ticks\": \"\"}}, \"colorscale\": {\"diverging\": [[0, \"#8e0152\"], [0.1, \"#c51b7d\"], [0.2, \"#de77ae\"], [0.3, \"#f1b6da\"], [0.4, \"#fde0ef\"], [0.5, \"#f7f7f7\"], [0.6, \"#e6f5d0\"], [0.7, \"#b8e186\"], [0.8, \"#7fbc41\"], [0.9, \"#4d9221\"], [1, \"#276419\"]], \"sequential\": [[0.0, \"#0d0887\"], [0.1111111111111111, \"#46039f\"], [0.2222222222222222, \"#7201a8\"], [0.3333333333333333, \"#9c179e\"], [0.4444444444444444, \"#bd3786\"], [0.5555555555555556, \"#d8576b\"], [0.6666666666666666, \"#ed7953\"], [0.7777777777777778, \"#fb9f3a\"], [0.8888888888888888, \"#fdca26\"], [1.0, \"#f0f921\"]], \"sequentialminus\": [[0.0, \"#0d0887\"], [0.1111111111111111, \"#46039f\"], [0.2222222222222222, \"#7201a8\"], [0.3333333333333333, \"#9c179e\"], [0.4444444444444444, \"#bd3786\"], [0.5555555555555556, \"#d8576b\"], [0.6666666666666666, \"#ed7953\"], [0.7777777777777778, \"#fb9f3a\"], [0.8888888888888888, \"#fdca26\"], [1.0, \"#f0f921\"]]}, \"colorway\": [\"#636efa\", \"#EF553B\", \"#00cc96\", \"#ab63fa\", \"#FFA15A\", \"#19d3f3\", \"#FF6692\", \"#B6E880\", \"#FF97FF\", \"#FECB52\"], \"font\": {\"color\": \"#2a3f5f\"}, \"geo\": {\"bgcolor\": \"white\", \"lakecolor\": \"white\", \"landcolor\": \"#E5ECF6\", \"showlakes\": true, \"showland\": true, \"subunitcolor\": \"white\"}, \"hoverlabel\": {\"align\": \"left\"}, \"hovermode\": \"closest\", \"mapbox\": {\"style\": \"light\"}, \"paper_bgcolor\": \"white\", \"plot_bgcolor\": \"#E5ECF6\", \"polar\": {\"angularaxis\": {\"gridcolor\": \"white\", \"linecolor\": \"white\", \"ticks\": \"\"}, \"bgcolor\": \"#E5ECF6\", \"radialaxis\": {\"gridcolor\": \"white\", \"linecolor\": \"white\", \"ticks\": \"\"}}, \"scene\": {\"xaxis\": {\"backgroundcolor\": \"#E5ECF6\", \"gridcolor\": \"white\", \"gridwidth\": 2, \"linecolor\": \"white\", \"showbackground\": true, \"ticks\": \"\", \"zerolinecolor\": \"white\"}, \"yaxis\": {\"backgroundcolor\": \"#E5ECF6\", \"gridcolor\": \"white\", \"gridwidth\": 2, \"linecolor\": \"white\", \"showbackground\": true, \"ticks\": \"\", \"zerolinecolor\": \"white\"}, \"zaxis\": {\"backgroundcolor\": \"#E5ECF6\", \"gridcolor\": \"white\", \"gridwidth\": 2, \"linecolor\": \"white\", \"showbackground\": true, \"ticks\": \"\", \"zerolinecolor\": \"white\"}}, \"shapedefaults\": {\"line\": {\"color\": \"#2a3f5f\"}}, \"ternary\": {\"aaxis\": {\"gridcolor\": \"white\", \"linecolor\": \"white\", \"ticks\": \"\"}, \"baxis\": {\"gridcolor\": \"white\", \"linecolor\": \"white\", \"ticks\": \"\"}, \"bgcolor\": \"#E5ECF6\", \"caxis\": {\"gridcolor\": \"white\", \"linecolor\": \"white\", \"ticks\": \"\"}}, \"title\": {\"x\": 0.05}, \"xaxis\": {\"automargin\": true, \"gridcolor\": \"white\", \"linecolor\": \"white\", \"ticks\": \"\", \"title\": {\"standoff\": 15}, \"zerolinecolor\": \"white\", \"zerolinewidth\": 2}, \"yaxis\": {\"automargin\": true, \"gridcolor\": \"white\", \"linecolor\": \"white\", \"ticks\": \"\", \"title\": {\"standoff\": 15}, \"zerolinecolor\": \"white\", \"zerolinewidth\": 2}}}, \"title\": {\"text\": \"K=3 Clustering\", \"x\": 0.5}, \"xaxis\": {\"title\": {\"text\": \"Worst Performance(2010)\"}}, \"yaxis\": {\"title\": {\"text\": \"Best Performance(2018)\"}}},\n",
       "                        {\"responsive\": true}\n",
       "                    ).then(function(){\n",
       "                            \n",
       "var gd = document.getElementById('e20427d6-e9a7-49c7-929c-f3625efedfc8');\n",
       "var x = new MutationObserver(function (mutations, observer) {{\n",
       "        var display = window.getComputedStyle(gd).display;\n",
       "        if (!display || display === 'none') {{\n",
       "            console.log([gd, 'removed!']);\n",
       "            Plotly.purge(gd);\n",
       "            observer.disconnect();\n",
       "        }}\n",
       "}});\n",
       "\n",
       "// Listen for the removal of the full notebook cells\n",
       "var notebookContainer = gd.closest('#notebook-container');\n",
       "if (notebookContainer) {{\n",
       "    x.observe(notebookContainer, {childList: true});\n",
       "}}\n",
       "\n",
       "// Listen for the clearing of the current output cell\n",
       "var outputEl = gd.closest('.output');\n",
       "if (outputEl) {{\n",
       "    x.observe(outputEl, {childList: true});\n",
       "}}\n",
       "\n",
       "                        })\n",
       "                };\n",
       "                });\n",
       "            </script>\n",
       "        </div>"
      ]
     },
     "metadata": {},
     "output_type": "display_data"
    }
   ],
   "source": [
    "data3 = go.Scatter(\n",
    "    x = X[:,0],\n",
    "    y = X[:,1],\n",
    "    mode = 'markers',\n",
    "    text = df_merged['Industry'],\n",
    "    marker = dict(size = 15,opacity=0.5,color = kmeans3.labels_\n",
    "    )\n",
    ")\n",
    "\n",
    "clusters3 = go.Scatter(\n",
    "    x = kmeans3.cluster_centers_[:,0],\n",
    "    y = kmeans3.cluster_centers_[:,1],\n",
    "    mode = 'markers',\n",
    "    marker = dict(size = 20,opacity=0.5\n",
    "    )\n",
    ")\n",
    "\n",
    "line_c3 = go.Scatter(\n",
    "    x = X[:,0],\n",
    "    y = X[:,0],\n",
    "    mode = 'lines',\n",
    "    marker = dict(size = 30,opacity=0.5\n",
    "    )\n",
    ")\n",
    "\n",
    "data = [data3,clusters3,line_c3]\n",
    "layout = go.Layout(\n",
    "    autosize=True,\n",
    "    title='K=3 Clustering',\n",
    "    title_x=0.5,\n",
    "    xaxis= go.layout.XAxis(title='Worst Performance(2010)'),\n",
    "    yaxis= go.layout.YAxis(title='Best Performance(2018)'),\n",
    "    )\n",
    "\n",
    "fig = go.Figure(data=data, layout=layout)\n",
    "fig.update(layout_showlegend=False)\n",
    "iplot(fig, filename='size-margins')"
   ]
  },
  {
   "cell_type": "markdown",
   "metadata": {},
   "source": [
    "Above two scatter plots show the K means analysis results for K=2 and K=3 for the best and worst employment years. When K=2, Retail and Public administration industries observed under one cluster and remain industries observed in the other cluster. the average distance from the points to the large cluster centroid is higher.\n",
    "\n",
    "When K=3, Retail and Public administration remain as it was when K=2. but Professional service and Production industries separated as a new cluster and remaining industries grouped in the other cluster.  In this scenario, the average distance from the points to each centroid is low compared to K=2 plot."
   ]
  },
  {
   "cell_type": "markdown",
   "metadata": {},
   "source": [
    "<h4>5.2 Hierarchical Cluster</h4>"
   ]
  },
  {
   "cell_type": "code",
   "execution_count": 22,
   "metadata": {},
   "outputs": [
    {
     "data": {
      "image/png": "[encoded data removed]",
      "text/plain": [
       "<Figure size 720x432 with 1 Axes>"
      ]
     },
     "metadata": {
      "needs_background": "light"
     },
     "output_type": "display_data"
    }
   ],
   "source": [
    "#5.2\n",
    "\n",
    "Y = np.array(df_merged['Industry'])\n",
    "P = df_merged[['2010','2018']]\n",
    "P_modified = pd.get_dummies(P)\n",
    "\n",
    "plt.figure(figsize=(10, 6))\n",
    "Z3 = hierarchy.linkage(P_modified.values, 'single')\n",
    "dn3 = hierarchy.dendrogram(Z3,labels=Y.tolist(),orientation='right')"
   ]
  },
  {
   "cell_type": "markdown",
   "metadata": {},
   "source": [
    "Above dendrogram shows two clusters for the worst and best employment data for 2010 and 2018 in Wales. 'Single' methodology is used to plot the diagram hence branches grouping process start from the minimum amount values. Mainly, Public administration and Retail observed under one cluster and other industries group under other clusters since the distance is considerably higher. In the larger cluster, Professional service and Production again divided into another group with a shorter distance than Construction and Other service, as shown in the plot. this behaviour is similar to the K means, K=2 clusters."
   ]
  },
  {
   "cell_type": "markdown",
   "metadata": {},
   "source": [
    "<h3>6. Discussion</h3>"
   ]
  },
  {
   "cell_type": "markdown",
   "metadata": {},
   "source": [
    "During the period of 2009 to 2018, the overall workforce of Wales increased. Majority preferred to join government administration opportunities or retail opportunities. 55.8% of Wales people were employed in public administration and in the retail industry. Furthermore, during the decade, the professional workers employment rate has impressively boosted. Meanwhile the hiring rate of few industries like Retail and Finance was fluctuated which caused hard to predict over the period.\n",
    " \n",
    "According to the data, Wales has invested a large amount of money to serve the public more. Government has employed a large number of people in the public administration sector compared to all the other industry types.\n",
    " \n",
    "2018 was a remarkable year for the people since most of the opportunities were available in 2018 compared to other previous years except for the ICT industry. ICT field indicates a sudden fallout in 2018 which was a very high number of people employed in 2017. It is an interesting measure because the development of technology should generate more ICT opportunities, but Wales deviates from that. Moreover, the analysis shows ICT jobs and Retail jobs show opposite characteristics. When ICT employment increases, retail hiring decreases.\n",
    " \n",
    "There is a slight development in real estate and agriculture industries in Wales during the period. Both industries have a fluctuation in their workforce throughout the period. Though Wales is a large state, the real estate industry is ranked at the lowest in employment.\n",
    " \n",
    "In conclusion, it is comparatively easier to find opportunities in public administration and retail industry than other sectors in Wales. But the retail industry has a large variation for the number of vacancies for each year. In addition, professional services are trending among the community and generating more opportunities for the people. On the other hand, finding a vacancy in real state and agriculture industries can be tough since the opportunities are comparatively low compared to other industries.\n"
   ]
  },
  {
   "cell_type": "code",
   "execution_count": null,
   "metadata": {},
   "outputs": [],
   "source": []
  }
 ],
 "metadata": {
  "kernelspec": {
   "display_name": "Python 3.10.4 ('dataengine')",
   "language": "python",
   "name": "python3"
  },
  "language_info": {
   "codemirror_mode": {
    "name": "ipython",
    "version": 3
   },
   "file_extension": ".py",
   "mimetype": "text/x-python",
   "name": "python",
   "nbconvert_exporter": "python",
   "pygments_lexer": "ipython3",
   "version": "3.10.4"
  },
  "vscode": {
   "interpreter": {
    "hash": "d32726b24938fa983f7b8f4ee17416376d275b6b1184a5bab65b800c60b3d80e"
   }
  }
 },
 "nbformat": 4,
 "nbformat_minor": 2
}
